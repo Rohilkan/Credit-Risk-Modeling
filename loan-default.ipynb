{
 "cells": [
  {
   "cell_type": "code",
   "execution_count": 1,
   "metadata": {},
   "outputs": [],
   "source": [
    "import numpy as np\n",
    "import pandas as pd\n",
    "\n",
    "import plotly.express as px\n",
    "import plotly.graph_objects as go\n",
    "\n",
    "from sklearn.model_selection import train_test_split\n",
    "from sklearn.preprocessing import StandardScaler, OneHotEncoder\n",
    "from sklearn.pipeline import Pipeline\n",
    "from sklearn.compose import ColumnTransformer\n",
    "\n",
    "from sklearn.linear_model import LogisticRegression\n",
    "from sklearn.ensemble import RandomForestClassifier, RandomForestRegressor, GradientBoostingClassifier\n",
    "from xgboost import XGBClassifier\n",
    "from catboost import CatBoostClassifier\n",
    "\n",
    "\n",
    "# Model Evaluation\n",
    "from sklearn.metrics import (roc_curve, roc_auc_score, f1_score, precision_score, recall_score)\n",
    "\n",
    "# Cross-validation and model tuning\n",
    "from sklearn.model_selection import cross_val_score, GridSearchCV\n",
    "\n",
    "import warnings\n",
    "warnings.filterwarnings('ignore')\n"
   ]
  },
  {
   "cell_type": "markdown",
   "metadata": {},
   "source": [
    "### Reading in CRE Data + Summary Statistics"
   ]
  },
  {
   "cell_type": "code",
   "execution_count": null,
   "metadata": {},
   "outputs": [],
   "source": [
    "loans = pd.read_csv(\"data/CRE-Loan-Data.csv\")\n",
    "loans.head(3)"
   ]
  },
  {
   "cell_type": "code",
   "execution_count": null,
   "metadata": {},
   "outputs": [],
   "source": [
    "# Dataframe info by column\n",
    "loans.info()"
   ]
  },
  {
   "cell_type": "code",
   "execution_count": null,
   "metadata": {},
   "outputs": [],
   "source": [
    "# Summary stats for initial numerical attributes\n",
    "loans.describe()"
   ]
  },
  {
   "cell_type": "markdown",
   "metadata": {},
   "source": [
    "### Takeaways\n",
    "- 49.2 months - the average time remaining on the dataset's loans at the time recorded\n",
    "    - longest-term existing loan is 180 months away\n",
    "- 99 months - the average loan term\n",
    "- 9.8% - the approximate percentage of loans in the dataset that defaulted within 12 months\n",
    "- 2002 - the average year of construction for properties in the dataset\n",
    "- 1.8 - the average interest coverage ratio (ICR)"
   ]
  },
  {
   "cell_type": "markdown",
   "metadata": {},
   "source": [
    "#### Recasting datatypes to maximize numerical columns"
   ]
  },
  {
   "cell_type": "code",
   "execution_count": 5,
   "metadata": {},
   "outputs": [],
   "source": [
    "# Convert 'Rating snapshot date' to datetime\n",
    "loans['Rating snapshot date'] = pd.to_datetime(loans['Rating snapshot date'])\n",
    "\n",
    "numericCols = ['Internal rating', 'Loan Balance', 'Interest rate', 'Property value',\n",
    "                'Net operating income', 'Interest coverage ratio', 'Original term',\n",
    "                'Months to maturity', 'Tenant turnover', 'Year of construction', 'Default flag']\n",
    "\n",
    "# Strip values of $, %, or commas and convert to numerics, also convert \"(x)\" to \"-x\"\n",
    "def cleanNumericCols(column):\n",
    "    return pd.to_numeric(column.replace({'\\$':'', ',':'', '%':'', '\\(':'-', '\\)':''}, regex=True))\n",
    "\n",
    "for col in numericCols:\n",
    "    loans[col] = cleanNumericCols(loans[col])\n",
    "\n",
    "# Convert % rate to proportion\n",
    "loans.loc[loans['Interest rate'] > 1, 'Interest rate'] /= 100"
   ]
  },
  {
   "cell_type": "markdown",
   "metadata": {},
   "source": [
    "### Preparing new feature engineered variables `Loan-to-Value (LTV) Ratio`, `Debt Yield`"
   ]
  },
  {
   "cell_type": "code",
   "execution_count": 6,
   "metadata": {},
   "outputs": [],
   "source": [
    "loans['LoanToValueRatio'] = loans['Loan Balance'] / loans['Property value']\n",
    "loans['DebtYield'] = loans['Net operating income'] / loans['Loan Balance']\n",
    "\n",
    "# Interaction Effects\n",
    "# loans['InterestCoverage-LoanBalance'] = loans['Interest coverage ratio'] * loans['Loan Balance']\n",
    "# loans['InterestRate-PropertyValue'] = loans['Interest rate'] * loans['Property value']\n",
    "\n",
    "# Drop rows with infinite values (in case of division by zero)\n",
    "loans.replace([np.inf, -np.inf], np.nan, inplace=True)\n",
    "loans.dropna(inplace=True)"
   ]
  },
  {
   "cell_type": "code",
   "execution_count": null,
   "metadata": {},
   "outputs": [],
   "source": [
    "# Default rate by internal rating\n",
    "loans.pivot_table(index=['Internal rating'], values='Default flag', aggfunc='mean')"
   ]
  },
  {
   "cell_type": "markdown",
   "metadata": {},
   "source": [
    "#### Calculate & Visualize Default Rate by Internal Rating"
   ]
  },
  {
   "cell_type": "code",
   "execution_count": 8,
   "metadata": {},
   "outputs": [],
   "source": [
    "grouped = loans.groupby('Internal rating')['Default flag'].agg(['count', 'sum', 'mean']).reset_index()\n",
    "grouped = grouped.rename(columns={'count': 'Number of Loans', \n",
    "                                  'sum': 'Number of Defaults', 'mean': 'Default Rate'})\n",
    "\n",
    "# grouped.loc[grouped['Default Rate'] < 1, 'Default Rate'] *= 100\n",
    "grouped['Default Rate'] = grouped['Default Rate'].round(3)\n",
    "# grouped.to_excel('riskRating-default.xlsx')"
   ]
  },
  {
   "cell_type": "code",
   "execution_count": 9,
   "metadata": {},
   "outputs": [
    {
     "data": {
      "application/vnd.plotly.v1+json": {
       "config": {
        "plotlyServerURL": "https://plot.ly"
       },
       "data": [
        {
         "alignmentgroup": "True",
         "hovertemplate": "Internal rating=%{x}<br>Default Rate=%{text}<extra></extra>",
         "legendgroup": "",
         "marker": {
          "color": "#636efa",
          "pattern": {
           "shape": ""
          }
         },
         "name": "",
         "offsetgroup": "",
         "orientation": "v",
         "showlegend": false,
         "text": [
          0.022,
          0.015,
          0.022,
          0.038,
          0.078,
          0.106,
          0.186,
          0.268,
          0.51
         ],
         "textposition": "auto",
         "type": "bar",
         "x": [
          4,
          5,
          6,
          7,
          8,
          9,
          10,
          11,
          12
         ],
         "xaxis": "x",
         "y": [
          0.022,
          0.015,
          0.022,
          0.038,
          0.078,
          0.106,
          0.186,
          0.268,
          0.51
         ],
         "yaxis": "y"
        }
       ],
       "layout": {
        "barmode": "relative",
        "legend": {
         "tracegroupgap": 0
        },
        "template": {
         "data": {
          "bar": [
           {
            "error_x": {
             "color": "#2a3f5f"
            },
            "error_y": {
             "color": "#2a3f5f"
            },
            "marker": {
             "line": {
              "color": "#E5ECF6",
              "width": 0.5
             },
             "pattern": {
              "fillmode": "overlay",
              "size": 10,
              "solidity": 0.2
             }
            },
            "type": "bar"
           }
          ],
          "barpolar": [
           {
            "marker": {
             "line": {
              "color": "#E5ECF6",
              "width": 0.5
             },
             "pattern": {
              "fillmode": "overlay",
              "size": 10,
              "solidity": 0.2
             }
            },
            "type": "barpolar"
           }
          ],
          "carpet": [
           {
            "aaxis": {
             "endlinecolor": "#2a3f5f",
             "gridcolor": "white",
             "linecolor": "white",
             "minorgridcolor": "white",
             "startlinecolor": "#2a3f5f"
            },
            "baxis": {
             "endlinecolor": "#2a3f5f",
             "gridcolor": "white",
             "linecolor": "white",
             "minorgridcolor": "white",
             "startlinecolor": "#2a3f5f"
            },
            "type": "carpet"
           }
          ],
          "choropleth": [
           {
            "colorbar": {
             "outlinewidth": 0,
             "ticks": ""
            },
            "type": "choropleth"
           }
          ],
          "contour": [
           {
            "colorbar": {
             "outlinewidth": 0,
             "ticks": ""
            },
            "colorscale": [
             [
              0,
              "#0d0887"
             ],
             [
              0.1111111111111111,
              "#46039f"
             ],
             [
              0.2222222222222222,
              "#7201a8"
             ],
             [
              0.3333333333333333,
              "#9c179e"
             ],
             [
              0.4444444444444444,
              "#bd3786"
             ],
             [
              0.5555555555555556,
              "#d8576b"
             ],
             [
              0.6666666666666666,
              "#ed7953"
             ],
             [
              0.7777777777777778,
              "#fb9f3a"
             ],
             [
              0.8888888888888888,
              "#fdca26"
             ],
             [
              1,
              "#f0f921"
             ]
            ],
            "type": "contour"
           }
          ],
          "contourcarpet": [
           {
            "colorbar": {
             "outlinewidth": 0,
             "ticks": ""
            },
            "type": "contourcarpet"
           }
          ],
          "heatmap": [
           {
            "colorbar": {
             "outlinewidth": 0,
             "ticks": ""
            },
            "colorscale": [
             [
              0,
              "#0d0887"
             ],
             [
              0.1111111111111111,
              "#46039f"
             ],
             [
              0.2222222222222222,
              "#7201a8"
             ],
             [
              0.3333333333333333,
              "#9c179e"
             ],
             [
              0.4444444444444444,
              "#bd3786"
             ],
             [
              0.5555555555555556,
              "#d8576b"
             ],
             [
              0.6666666666666666,
              "#ed7953"
             ],
             [
              0.7777777777777778,
              "#fb9f3a"
             ],
             [
              0.8888888888888888,
              "#fdca26"
             ],
             [
              1,
              "#f0f921"
             ]
            ],
            "type": "heatmap"
           }
          ],
          "heatmapgl": [
           {
            "colorbar": {
             "outlinewidth": 0,
             "ticks": ""
            },
            "colorscale": [
             [
              0,
              "#0d0887"
             ],
             [
              0.1111111111111111,
              "#46039f"
             ],
             [
              0.2222222222222222,
              "#7201a8"
             ],
             [
              0.3333333333333333,
              "#9c179e"
             ],
             [
              0.4444444444444444,
              "#bd3786"
             ],
             [
              0.5555555555555556,
              "#d8576b"
             ],
             [
              0.6666666666666666,
              "#ed7953"
             ],
             [
              0.7777777777777778,
              "#fb9f3a"
             ],
             [
              0.8888888888888888,
              "#fdca26"
             ],
             [
              1,
              "#f0f921"
             ]
            ],
            "type": "heatmapgl"
           }
          ],
          "histogram": [
           {
            "marker": {
             "pattern": {
              "fillmode": "overlay",
              "size": 10,
              "solidity": 0.2
             }
            },
            "type": "histogram"
           }
          ],
          "histogram2d": [
           {
            "colorbar": {
             "outlinewidth": 0,
             "ticks": ""
            },
            "colorscale": [
             [
              0,
              "#0d0887"
             ],
             [
              0.1111111111111111,
              "#46039f"
             ],
             [
              0.2222222222222222,
              "#7201a8"
             ],
             [
              0.3333333333333333,
              "#9c179e"
             ],
             [
              0.4444444444444444,
              "#bd3786"
             ],
             [
              0.5555555555555556,
              "#d8576b"
             ],
             [
              0.6666666666666666,
              "#ed7953"
             ],
             [
              0.7777777777777778,
              "#fb9f3a"
             ],
             [
              0.8888888888888888,
              "#fdca26"
             ],
             [
              1,
              "#f0f921"
             ]
            ],
            "type": "histogram2d"
           }
          ],
          "histogram2dcontour": [
           {
            "colorbar": {
             "outlinewidth": 0,
             "ticks": ""
            },
            "colorscale": [
             [
              0,
              "#0d0887"
             ],
             [
              0.1111111111111111,
              "#46039f"
             ],
             [
              0.2222222222222222,
              "#7201a8"
             ],
             [
              0.3333333333333333,
              "#9c179e"
             ],
             [
              0.4444444444444444,
              "#bd3786"
             ],
             [
              0.5555555555555556,
              "#d8576b"
             ],
             [
              0.6666666666666666,
              "#ed7953"
             ],
             [
              0.7777777777777778,
              "#fb9f3a"
             ],
             [
              0.8888888888888888,
              "#fdca26"
             ],
             [
              1,
              "#f0f921"
             ]
            ],
            "type": "histogram2dcontour"
           }
          ],
          "mesh3d": [
           {
            "colorbar": {
             "outlinewidth": 0,
             "ticks": ""
            },
            "type": "mesh3d"
           }
          ],
          "parcoords": [
           {
            "line": {
             "colorbar": {
              "outlinewidth": 0,
              "ticks": ""
             }
            },
            "type": "parcoords"
           }
          ],
          "pie": [
           {
            "automargin": true,
            "type": "pie"
           }
          ],
          "scatter": [
           {
            "fillpattern": {
             "fillmode": "overlay",
             "size": 10,
             "solidity": 0.2
            },
            "type": "scatter"
           }
          ],
          "scatter3d": [
           {
            "line": {
             "colorbar": {
              "outlinewidth": 0,
              "ticks": ""
             }
            },
            "marker": {
             "colorbar": {
              "outlinewidth": 0,
              "ticks": ""
             }
            },
            "type": "scatter3d"
           }
          ],
          "scattercarpet": [
           {
            "marker": {
             "colorbar": {
              "outlinewidth": 0,
              "ticks": ""
             }
            },
            "type": "scattercarpet"
           }
          ],
          "scattergeo": [
           {
            "marker": {
             "colorbar": {
              "outlinewidth": 0,
              "ticks": ""
             }
            },
            "type": "scattergeo"
           }
          ],
          "scattergl": [
           {
            "marker": {
             "colorbar": {
              "outlinewidth": 0,
              "ticks": ""
             }
            },
            "type": "scattergl"
           }
          ],
          "scattermapbox": [
           {
            "marker": {
             "colorbar": {
              "outlinewidth": 0,
              "ticks": ""
             }
            },
            "type": "scattermapbox"
           }
          ],
          "scatterpolar": [
           {
            "marker": {
             "colorbar": {
              "outlinewidth": 0,
              "ticks": ""
             }
            },
            "type": "scatterpolar"
           }
          ],
          "scatterpolargl": [
           {
            "marker": {
             "colorbar": {
              "outlinewidth": 0,
              "ticks": ""
             }
            },
            "type": "scatterpolargl"
           }
          ],
          "scatterternary": [
           {
            "marker": {
             "colorbar": {
              "outlinewidth": 0,
              "ticks": ""
             }
            },
            "type": "scatterternary"
           }
          ],
          "surface": [
           {
            "colorbar": {
             "outlinewidth": 0,
             "ticks": ""
            },
            "colorscale": [
             [
              0,
              "#0d0887"
             ],
             [
              0.1111111111111111,
              "#46039f"
             ],
             [
              0.2222222222222222,
              "#7201a8"
             ],
             [
              0.3333333333333333,
              "#9c179e"
             ],
             [
              0.4444444444444444,
              "#bd3786"
             ],
             [
              0.5555555555555556,
              "#d8576b"
             ],
             [
              0.6666666666666666,
              "#ed7953"
             ],
             [
              0.7777777777777778,
              "#fb9f3a"
             ],
             [
              0.8888888888888888,
              "#fdca26"
             ],
             [
              1,
              "#f0f921"
             ]
            ],
            "type": "surface"
           }
          ],
          "table": [
           {
            "cells": {
             "fill": {
              "color": "#EBF0F8"
             },
             "line": {
              "color": "white"
             }
            },
            "header": {
             "fill": {
              "color": "#C8D4E3"
             },
             "line": {
              "color": "white"
             }
            },
            "type": "table"
           }
          ]
         },
         "layout": {
          "annotationdefaults": {
           "arrowcolor": "#2a3f5f",
           "arrowhead": 0,
           "arrowwidth": 1
          },
          "autotypenumbers": "strict",
          "coloraxis": {
           "colorbar": {
            "outlinewidth": 0,
            "ticks": ""
           }
          },
          "colorscale": {
           "diverging": [
            [
             0,
             "#8e0152"
            ],
            [
             0.1,
             "#c51b7d"
            ],
            [
             0.2,
             "#de77ae"
            ],
            [
             0.3,
             "#f1b6da"
            ],
            [
             0.4,
             "#fde0ef"
            ],
            [
             0.5,
             "#f7f7f7"
            ],
            [
             0.6,
             "#e6f5d0"
            ],
            [
             0.7,
             "#b8e186"
            ],
            [
             0.8,
             "#7fbc41"
            ],
            [
             0.9,
             "#4d9221"
            ],
            [
             1,
             "#276419"
            ]
           ],
           "sequential": [
            [
             0,
             "#0d0887"
            ],
            [
             0.1111111111111111,
             "#46039f"
            ],
            [
             0.2222222222222222,
             "#7201a8"
            ],
            [
             0.3333333333333333,
             "#9c179e"
            ],
            [
             0.4444444444444444,
             "#bd3786"
            ],
            [
             0.5555555555555556,
             "#d8576b"
            ],
            [
             0.6666666666666666,
             "#ed7953"
            ],
            [
             0.7777777777777778,
             "#fb9f3a"
            ],
            [
             0.8888888888888888,
             "#fdca26"
            ],
            [
             1,
             "#f0f921"
            ]
           ],
           "sequentialminus": [
            [
             0,
             "#0d0887"
            ],
            [
             0.1111111111111111,
             "#46039f"
            ],
            [
             0.2222222222222222,
             "#7201a8"
            ],
            [
             0.3333333333333333,
             "#9c179e"
            ],
            [
             0.4444444444444444,
             "#bd3786"
            ],
            [
             0.5555555555555556,
             "#d8576b"
            ],
            [
             0.6666666666666666,
             "#ed7953"
            ],
            [
             0.7777777777777778,
             "#fb9f3a"
            ],
            [
             0.8888888888888888,
             "#fdca26"
            ],
            [
             1,
             "#f0f921"
            ]
           ]
          },
          "colorway": [
           "#636efa",
           "#EF553B",
           "#00cc96",
           "#ab63fa",
           "#FFA15A",
           "#19d3f3",
           "#FF6692",
           "#B6E880",
           "#FF97FF",
           "#FECB52"
          ],
          "font": {
           "color": "#2a3f5f"
          },
          "geo": {
           "bgcolor": "white",
           "lakecolor": "white",
           "landcolor": "#E5ECF6",
           "showlakes": true,
           "showland": true,
           "subunitcolor": "white"
          },
          "hoverlabel": {
           "align": "left"
          },
          "hovermode": "closest",
          "mapbox": {
           "style": "light"
          },
          "paper_bgcolor": "white",
          "plot_bgcolor": "#E5ECF6",
          "polar": {
           "angularaxis": {
            "gridcolor": "white",
            "linecolor": "white",
            "ticks": ""
           },
           "bgcolor": "#E5ECF6",
           "radialaxis": {
            "gridcolor": "white",
            "linecolor": "white",
            "ticks": ""
           }
          },
          "scene": {
           "xaxis": {
            "backgroundcolor": "#E5ECF6",
            "gridcolor": "white",
            "gridwidth": 2,
            "linecolor": "white",
            "showbackground": true,
            "ticks": "",
            "zerolinecolor": "white"
           },
           "yaxis": {
            "backgroundcolor": "#E5ECF6",
            "gridcolor": "white",
            "gridwidth": 2,
            "linecolor": "white",
            "showbackground": true,
            "ticks": "",
            "zerolinecolor": "white"
           },
           "zaxis": {
            "backgroundcolor": "#E5ECF6",
            "gridcolor": "white",
            "gridwidth": 2,
            "linecolor": "white",
            "showbackground": true,
            "ticks": "",
            "zerolinecolor": "white"
           }
          },
          "shapedefaults": {
           "line": {
            "color": "#2a3f5f"
           }
          },
          "ternary": {
           "aaxis": {
            "gridcolor": "white",
            "linecolor": "white",
            "ticks": ""
           },
           "baxis": {
            "gridcolor": "white",
            "linecolor": "white",
            "ticks": ""
           },
           "bgcolor": "#E5ECF6",
           "caxis": {
            "gridcolor": "white",
            "linecolor": "white",
            "ticks": ""
           }
          },
          "title": {
           "x": 0.05
          },
          "xaxis": {
           "automargin": true,
           "gridcolor": "white",
           "linecolor": "white",
           "ticks": "",
           "title": {
            "standoff": 15
           },
           "zerolinecolor": "white",
           "zerolinewidth": 2
          },
          "yaxis": {
           "automargin": true,
           "gridcolor": "white",
           "linecolor": "white",
           "ticks": "",
           "title": {
            "standoff": 15
           },
           "zerolinecolor": "white",
           "zerolinewidth": 2
          }
         }
        },
        "title": {
         "text": "Default Rate by Internal Rating"
        },
        "xaxis": {
         "anchor": "y",
         "domain": [
          0,
          1
         ],
         "title": {
          "text": "Internal rating"
         }
        },
        "yaxis": {
         "anchor": "x",
         "domain": [
          0,
          1
         ],
         "title": {
          "text": "Default Rate"
         }
        }
       }
      }
     },
     "metadata": {},
     "output_type": "display_data"
    }
   ],
   "source": [
    "# Plot default rate by internal rating\n",
    "fig = px.bar(grouped, x='Internal rating', y='Default Rate',\n",
    "             title='Default Rate by Internal Rating', text='Default Rate')\n",
    "fig.show()"
   ]
  },
  {
   "cell_type": "markdown",
   "metadata": {},
   "source": [
    "With the exception of an observed decrease in default rate between loans rated at a 4 and 5, higher internal credit risk ratings seem to correspond to higher default rates, as is expected."
   ]
  },
  {
   "cell_type": "code",
   "execution_count": 10,
   "metadata": {},
   "outputs": [
    {
     "data": {
      "application/vnd.plotly.v1+json": {
       "config": {
        "plotlyServerURL": "https://plot.ly"
       },
       "data": [
        {
         "mode": "lines",
         "name": "ROC curve (AUC = 0.74)",
         "type": "scatter",
         "x": [
          0,
          0.010331467929401636,
          0.056823073611709,
          0.17757210503659063,
          0.37236332328885063,
          0.5906155832974602,
          0.7666810159276797,
          0.8839862247094274,
          0.9526474386569092,
          1
         ],
         "y": [
          0,
          0.0992063492063492,
          0.25595238095238093,
          0.5099206349206349,
          0.7222222222222222,
          0.8928571428571429,
          0.9563492063492064,
          0.9801587301587301,
          0.9900793650793651,
          1
         ]
        },
        {
         "line": {
          "dash": "dash"
         },
         "mode": "lines",
         "name": "Baseline (Random Guess)",
         "type": "scatter",
         "x": [
          0,
          1
         ],
         "y": [
          0,
          1
         ]
        }
       ],
       "layout": {
        "showlegend": true,
        "template": {
         "data": {
          "bar": [
           {
            "error_x": {
             "color": "#2a3f5f"
            },
            "error_y": {
             "color": "#2a3f5f"
            },
            "marker": {
             "line": {
              "color": "#E5ECF6",
              "width": 0.5
             },
             "pattern": {
              "fillmode": "overlay",
              "size": 10,
              "solidity": 0.2
             }
            },
            "type": "bar"
           }
          ],
          "barpolar": [
           {
            "marker": {
             "line": {
              "color": "#E5ECF6",
              "width": 0.5
             },
             "pattern": {
              "fillmode": "overlay",
              "size": 10,
              "solidity": 0.2
             }
            },
            "type": "barpolar"
           }
          ],
          "carpet": [
           {
            "aaxis": {
             "endlinecolor": "#2a3f5f",
             "gridcolor": "white",
             "linecolor": "white",
             "minorgridcolor": "white",
             "startlinecolor": "#2a3f5f"
            },
            "baxis": {
             "endlinecolor": "#2a3f5f",
             "gridcolor": "white",
             "linecolor": "white",
             "minorgridcolor": "white",
             "startlinecolor": "#2a3f5f"
            },
            "type": "carpet"
           }
          ],
          "choropleth": [
           {
            "colorbar": {
             "outlinewidth": 0,
             "ticks": ""
            },
            "type": "choropleth"
           }
          ],
          "contour": [
           {
            "colorbar": {
             "outlinewidth": 0,
             "ticks": ""
            },
            "colorscale": [
             [
              0,
              "#0d0887"
             ],
             [
              0.1111111111111111,
              "#46039f"
             ],
             [
              0.2222222222222222,
              "#7201a8"
             ],
             [
              0.3333333333333333,
              "#9c179e"
             ],
             [
              0.4444444444444444,
              "#bd3786"
             ],
             [
              0.5555555555555556,
              "#d8576b"
             ],
             [
              0.6666666666666666,
              "#ed7953"
             ],
             [
              0.7777777777777778,
              "#fb9f3a"
             ],
             [
              0.8888888888888888,
              "#fdca26"
             ],
             [
              1,
              "#f0f921"
             ]
            ],
            "type": "contour"
           }
          ],
          "contourcarpet": [
           {
            "colorbar": {
             "outlinewidth": 0,
             "ticks": ""
            },
            "type": "contourcarpet"
           }
          ],
          "heatmap": [
           {
            "colorbar": {
             "outlinewidth": 0,
             "ticks": ""
            },
            "colorscale": [
             [
              0,
              "#0d0887"
             ],
             [
              0.1111111111111111,
              "#46039f"
             ],
             [
              0.2222222222222222,
              "#7201a8"
             ],
             [
              0.3333333333333333,
              "#9c179e"
             ],
             [
              0.4444444444444444,
              "#bd3786"
             ],
             [
              0.5555555555555556,
              "#d8576b"
             ],
             [
              0.6666666666666666,
              "#ed7953"
             ],
             [
              0.7777777777777778,
              "#fb9f3a"
             ],
             [
              0.8888888888888888,
              "#fdca26"
             ],
             [
              1,
              "#f0f921"
             ]
            ],
            "type": "heatmap"
           }
          ],
          "heatmapgl": [
           {
            "colorbar": {
             "outlinewidth": 0,
             "ticks": ""
            },
            "colorscale": [
             [
              0,
              "#0d0887"
             ],
             [
              0.1111111111111111,
              "#46039f"
             ],
             [
              0.2222222222222222,
              "#7201a8"
             ],
             [
              0.3333333333333333,
              "#9c179e"
             ],
             [
              0.4444444444444444,
              "#bd3786"
             ],
             [
              0.5555555555555556,
              "#d8576b"
             ],
             [
              0.6666666666666666,
              "#ed7953"
             ],
             [
              0.7777777777777778,
              "#fb9f3a"
             ],
             [
              0.8888888888888888,
              "#fdca26"
             ],
             [
              1,
              "#f0f921"
             ]
            ],
            "type": "heatmapgl"
           }
          ],
          "histogram": [
           {
            "marker": {
             "pattern": {
              "fillmode": "overlay",
              "size": 10,
              "solidity": 0.2
             }
            },
            "type": "histogram"
           }
          ],
          "histogram2d": [
           {
            "colorbar": {
             "outlinewidth": 0,
             "ticks": ""
            },
            "colorscale": [
             [
              0,
              "#0d0887"
             ],
             [
              0.1111111111111111,
              "#46039f"
             ],
             [
              0.2222222222222222,
              "#7201a8"
             ],
             [
              0.3333333333333333,
              "#9c179e"
             ],
             [
              0.4444444444444444,
              "#bd3786"
             ],
             [
              0.5555555555555556,
              "#d8576b"
             ],
             [
              0.6666666666666666,
              "#ed7953"
             ],
             [
              0.7777777777777778,
              "#fb9f3a"
             ],
             [
              0.8888888888888888,
              "#fdca26"
             ],
             [
              1,
              "#f0f921"
             ]
            ],
            "type": "histogram2d"
           }
          ],
          "histogram2dcontour": [
           {
            "colorbar": {
             "outlinewidth": 0,
             "ticks": ""
            },
            "colorscale": [
             [
              0,
              "#0d0887"
             ],
             [
              0.1111111111111111,
              "#46039f"
             ],
             [
              0.2222222222222222,
              "#7201a8"
             ],
             [
              0.3333333333333333,
              "#9c179e"
             ],
             [
              0.4444444444444444,
              "#bd3786"
             ],
             [
              0.5555555555555556,
              "#d8576b"
             ],
             [
              0.6666666666666666,
              "#ed7953"
             ],
             [
              0.7777777777777778,
              "#fb9f3a"
             ],
             [
              0.8888888888888888,
              "#fdca26"
             ],
             [
              1,
              "#f0f921"
             ]
            ],
            "type": "histogram2dcontour"
           }
          ],
          "mesh3d": [
           {
            "colorbar": {
             "outlinewidth": 0,
             "ticks": ""
            },
            "type": "mesh3d"
           }
          ],
          "parcoords": [
           {
            "line": {
             "colorbar": {
              "outlinewidth": 0,
              "ticks": ""
             }
            },
            "type": "parcoords"
           }
          ],
          "pie": [
           {
            "automargin": true,
            "type": "pie"
           }
          ],
          "scatter": [
           {
            "fillpattern": {
             "fillmode": "overlay",
             "size": 10,
             "solidity": 0.2
            },
            "type": "scatter"
           }
          ],
          "scatter3d": [
           {
            "line": {
             "colorbar": {
              "outlinewidth": 0,
              "ticks": ""
             }
            },
            "marker": {
             "colorbar": {
              "outlinewidth": 0,
              "ticks": ""
             }
            },
            "type": "scatter3d"
           }
          ],
          "scattercarpet": [
           {
            "marker": {
             "colorbar": {
              "outlinewidth": 0,
              "ticks": ""
             }
            },
            "type": "scattercarpet"
           }
          ],
          "scattergeo": [
           {
            "marker": {
             "colorbar": {
              "outlinewidth": 0,
              "ticks": ""
             }
            },
            "type": "scattergeo"
           }
          ],
          "scattergl": [
           {
            "marker": {
             "colorbar": {
              "outlinewidth": 0,
              "ticks": ""
             }
            },
            "type": "scattergl"
           }
          ],
          "scattermapbox": [
           {
            "marker": {
             "colorbar": {
              "outlinewidth": 0,
              "ticks": ""
             }
            },
            "type": "scattermapbox"
           }
          ],
          "scatterpolar": [
           {
            "marker": {
             "colorbar": {
              "outlinewidth": 0,
              "ticks": ""
             }
            },
            "type": "scatterpolar"
           }
          ],
          "scatterpolargl": [
           {
            "marker": {
             "colorbar": {
              "outlinewidth": 0,
              "ticks": ""
             }
            },
            "type": "scatterpolargl"
           }
          ],
          "scatterternary": [
           {
            "marker": {
             "colorbar": {
              "outlinewidth": 0,
              "ticks": ""
             }
            },
            "type": "scatterternary"
           }
          ],
          "surface": [
           {
            "colorbar": {
             "outlinewidth": 0,
             "ticks": ""
            },
            "colorscale": [
             [
              0,
              "#0d0887"
             ],
             [
              0.1111111111111111,
              "#46039f"
             ],
             [
              0.2222222222222222,
              "#7201a8"
             ],
             [
              0.3333333333333333,
              "#9c179e"
             ],
             [
              0.4444444444444444,
              "#bd3786"
             ],
             [
              0.5555555555555556,
              "#d8576b"
             ],
             [
              0.6666666666666666,
              "#ed7953"
             ],
             [
              0.7777777777777778,
              "#fb9f3a"
             ],
             [
              0.8888888888888888,
              "#fdca26"
             ],
             [
              1,
              "#f0f921"
             ]
            ],
            "type": "surface"
           }
          ],
          "table": [
           {
            "cells": {
             "fill": {
              "color": "#EBF0F8"
             },
             "line": {
              "color": "white"
             }
            },
            "header": {
             "fill": {
              "color": "#C8D4E3"
             },
             "line": {
              "color": "white"
             }
            },
            "type": "table"
           }
          ]
         },
         "layout": {
          "annotationdefaults": {
           "arrowcolor": "#2a3f5f",
           "arrowhead": 0,
           "arrowwidth": 1
          },
          "autotypenumbers": "strict",
          "coloraxis": {
           "colorbar": {
            "outlinewidth": 0,
            "ticks": ""
           }
          },
          "colorscale": {
           "diverging": [
            [
             0,
             "#8e0152"
            ],
            [
             0.1,
             "#c51b7d"
            ],
            [
             0.2,
             "#de77ae"
            ],
            [
             0.3,
             "#f1b6da"
            ],
            [
             0.4,
             "#fde0ef"
            ],
            [
             0.5,
             "#f7f7f7"
            ],
            [
             0.6,
             "#e6f5d0"
            ],
            [
             0.7,
             "#b8e186"
            ],
            [
             0.8,
             "#7fbc41"
            ],
            [
             0.9,
             "#4d9221"
            ],
            [
             1,
             "#276419"
            ]
           ],
           "sequential": [
            [
             0,
             "#0d0887"
            ],
            [
             0.1111111111111111,
             "#46039f"
            ],
            [
             0.2222222222222222,
             "#7201a8"
            ],
            [
             0.3333333333333333,
             "#9c179e"
            ],
            [
             0.4444444444444444,
             "#bd3786"
            ],
            [
             0.5555555555555556,
             "#d8576b"
            ],
            [
             0.6666666666666666,
             "#ed7953"
            ],
            [
             0.7777777777777778,
             "#fb9f3a"
            ],
            [
             0.8888888888888888,
             "#fdca26"
            ],
            [
             1,
             "#f0f921"
            ]
           ],
           "sequentialminus": [
            [
             0,
             "#0d0887"
            ],
            [
             0.1111111111111111,
             "#46039f"
            ],
            [
             0.2222222222222222,
             "#7201a8"
            ],
            [
             0.3333333333333333,
             "#9c179e"
            ],
            [
             0.4444444444444444,
             "#bd3786"
            ],
            [
             0.5555555555555556,
             "#d8576b"
            ],
            [
             0.6666666666666666,
             "#ed7953"
            ],
            [
             0.7777777777777778,
             "#fb9f3a"
            ],
            [
             0.8888888888888888,
             "#fdca26"
            ],
            [
             1,
             "#f0f921"
            ]
           ]
          },
          "colorway": [
           "#636efa",
           "#EF553B",
           "#00cc96",
           "#ab63fa",
           "#FFA15A",
           "#19d3f3",
           "#FF6692",
           "#B6E880",
           "#FF97FF",
           "#FECB52"
          ],
          "font": {
           "color": "#2a3f5f"
          },
          "geo": {
           "bgcolor": "white",
           "lakecolor": "white",
           "landcolor": "#E5ECF6",
           "showlakes": true,
           "showland": true,
           "subunitcolor": "white"
          },
          "hoverlabel": {
           "align": "left"
          },
          "hovermode": "closest",
          "mapbox": {
           "style": "light"
          },
          "paper_bgcolor": "white",
          "plot_bgcolor": "#E5ECF6",
          "polar": {
           "angularaxis": {
            "gridcolor": "white",
            "linecolor": "white",
            "ticks": ""
           },
           "bgcolor": "#E5ECF6",
           "radialaxis": {
            "gridcolor": "white",
            "linecolor": "white",
            "ticks": ""
           }
          },
          "scene": {
           "xaxis": {
            "backgroundcolor": "#E5ECF6",
            "gridcolor": "white",
            "gridwidth": 2,
            "linecolor": "white",
            "showbackground": true,
            "ticks": "",
            "zerolinecolor": "white"
           },
           "yaxis": {
            "backgroundcolor": "#E5ECF6",
            "gridcolor": "white",
            "gridwidth": 2,
            "linecolor": "white",
            "showbackground": true,
            "ticks": "",
            "zerolinecolor": "white"
           },
           "zaxis": {
            "backgroundcolor": "#E5ECF6",
            "gridcolor": "white",
            "gridwidth": 2,
            "linecolor": "white",
            "showbackground": true,
            "ticks": "",
            "zerolinecolor": "white"
           }
          },
          "shapedefaults": {
           "line": {
            "color": "#2a3f5f"
           }
          },
          "ternary": {
           "aaxis": {
            "gridcolor": "white",
            "linecolor": "white",
            "ticks": ""
           },
           "baxis": {
            "gridcolor": "white",
            "linecolor": "white",
            "ticks": ""
           },
           "bgcolor": "#E5ECF6",
           "caxis": {
            "gridcolor": "white",
            "linecolor": "white",
            "ticks": ""
           }
          },
          "title": {
           "x": 0.05
          },
          "xaxis": {
           "automargin": true,
           "gridcolor": "white",
           "linecolor": "white",
           "ticks": "",
           "title": {
            "standoff": 15
           },
           "zerolinecolor": "white",
           "zerolinewidth": 2
          },
          "yaxis": {
           "automargin": true,
           "gridcolor": "white",
           "linecolor": "white",
           "ticks": "",
           "title": {
            "standoff": 15
           },
           "zerolinecolor": "white",
           "zerolinewidth": 2
          }
         }
        },
        "title": {
         "text": "ROC Curve for Internal Rating"
        },
        "xaxis": {
         "title": {
          "text": "False Positive Rate"
         }
        },
        "yaxis": {
         "title": {
          "text": "True Positive Rate"
         }
        }
       }
      }
     },
     "metadata": {},
     "output_type": "display_data"
    }
   ],
   "source": [
    "# ROC curve and AUC for internal rating\n",
    "fpr, tpr, thresholds = roc_curve(loans['Default flag'], loans['Internal rating'])\n",
    "auc = roc_auc_score(loans['Default flag'], loans['Internal rating'])\n",
    "\n",
    "# GenAI created ROC curve\n",
    "fig = go.Figure()\n",
    "fig.add_trace(go.Scatter(x=fpr, y=tpr, mode='lines', name=f'ROC curve (AUC = {auc:.2f})'))\n",
    "fig.add_trace(go.Scatter(x=[0, 1], y=[0, 1], mode='lines', name='Baseline (Random Guess)', line=dict(dash='dash')))\n",
    "fig.update_layout(title='ROC Curve for Internal Rating',\n",
    "                  xaxis_title='False Positive Rate',\n",
    "                  yaxis_title='True Positive Rate',\n",
    "                  showlegend=True)\n",
    "fig.show()"
   ]
  },
  {
   "cell_type": "markdown",
   "metadata": {},
   "source": [
    "### Calculate correlation with `Internal rating`"
   ]
  },
  {
   "cell_type": "code",
   "execution_count": null,
   "metadata": {},
   "outputs": [],
   "source": [
    "loansNumeric = loans.select_dtypes(include=[np.number])\n",
    "\n",
    "corrMatrix = loansNumeric.corr()\n",
    "\n",
    "corrWithRating = corrMatrix['Internal rating'].sort_values(ascending=False)\n",
    "corrWithRating"
   ]
  },
  {
   "cell_type": "code",
   "execution_count": 12,
   "metadata": {},
   "outputs": [
    {
     "data": {
      "application/vnd.plotly.v1+json": {
       "config": {
        "plotlyServerURL": "https://plot.ly"
       },
       "data": [
        {
         "alignmentgroup": "True",
         "hovertemplate": "Feature=%{x}<br>Correlation=%{y}<extra></extra>",
         "legendgroup": "",
         "marker": {
          "color": "#636efa",
          "pattern": {
           "shape": ""
          }
         },
         "name": "",
         "offsetgroup": "",
         "orientation": "v",
         "showlegend": false,
         "textposition": "auto",
         "type": "bar",
         "x": [
          "LoanToValueRatio",
          "Default flag",
          "Interest rate",
          "Loan Balance",
          "Year of construction",
          "Property value",
          "Months to maturity",
          "Original term",
          "Tenant turnover",
          "Net operating income",
          "DebtYield",
          "Interest coverage ratio"
         ],
         "xaxis": "x",
         "y": [
          0.804,
          0.257,
          0.182,
          0.084,
          0.014,
          0.01,
          0.008,
          0.008,
          -0.023,
          -0.123,
          -0.771,
          -0.792
         ],
         "yaxis": "y"
        }
       ],
       "layout": {
        "barmode": "relative",
        "legend": {
         "tracegroupgap": 0
        },
        "template": {
         "data": {
          "bar": [
           {
            "error_x": {
             "color": "#2a3f5f"
            },
            "error_y": {
             "color": "#2a3f5f"
            },
            "marker": {
             "line": {
              "color": "#E5ECF6",
              "width": 0.5
             },
             "pattern": {
              "fillmode": "overlay",
              "size": 10,
              "solidity": 0.2
             }
            },
            "type": "bar"
           }
          ],
          "barpolar": [
           {
            "marker": {
             "line": {
              "color": "#E5ECF6",
              "width": 0.5
             },
             "pattern": {
              "fillmode": "overlay",
              "size": 10,
              "solidity": 0.2
             }
            },
            "type": "barpolar"
           }
          ],
          "carpet": [
           {
            "aaxis": {
             "endlinecolor": "#2a3f5f",
             "gridcolor": "white",
             "linecolor": "white",
             "minorgridcolor": "white",
             "startlinecolor": "#2a3f5f"
            },
            "baxis": {
             "endlinecolor": "#2a3f5f",
             "gridcolor": "white",
             "linecolor": "white",
             "minorgridcolor": "white",
             "startlinecolor": "#2a3f5f"
            },
            "type": "carpet"
           }
          ],
          "choropleth": [
           {
            "colorbar": {
             "outlinewidth": 0,
             "ticks": ""
            },
            "type": "choropleth"
           }
          ],
          "contour": [
           {
            "colorbar": {
             "outlinewidth": 0,
             "ticks": ""
            },
            "colorscale": [
             [
              0,
              "#0d0887"
             ],
             [
              0.1111111111111111,
              "#46039f"
             ],
             [
              0.2222222222222222,
              "#7201a8"
             ],
             [
              0.3333333333333333,
              "#9c179e"
             ],
             [
              0.4444444444444444,
              "#bd3786"
             ],
             [
              0.5555555555555556,
              "#d8576b"
             ],
             [
              0.6666666666666666,
              "#ed7953"
             ],
             [
              0.7777777777777778,
              "#fb9f3a"
             ],
             [
              0.8888888888888888,
              "#fdca26"
             ],
             [
              1,
              "#f0f921"
             ]
            ],
            "type": "contour"
           }
          ],
          "contourcarpet": [
           {
            "colorbar": {
             "outlinewidth": 0,
             "ticks": ""
            },
            "type": "contourcarpet"
           }
          ],
          "heatmap": [
           {
            "colorbar": {
             "outlinewidth": 0,
             "ticks": ""
            },
            "colorscale": [
             [
              0,
              "#0d0887"
             ],
             [
              0.1111111111111111,
              "#46039f"
             ],
             [
              0.2222222222222222,
              "#7201a8"
             ],
             [
              0.3333333333333333,
              "#9c179e"
             ],
             [
              0.4444444444444444,
              "#bd3786"
             ],
             [
              0.5555555555555556,
              "#d8576b"
             ],
             [
              0.6666666666666666,
              "#ed7953"
             ],
             [
              0.7777777777777778,
              "#fb9f3a"
             ],
             [
              0.8888888888888888,
              "#fdca26"
             ],
             [
              1,
              "#f0f921"
             ]
            ],
            "type": "heatmap"
           }
          ],
          "heatmapgl": [
           {
            "colorbar": {
             "outlinewidth": 0,
             "ticks": ""
            },
            "colorscale": [
             [
              0,
              "#0d0887"
             ],
             [
              0.1111111111111111,
              "#46039f"
             ],
             [
              0.2222222222222222,
              "#7201a8"
             ],
             [
              0.3333333333333333,
              "#9c179e"
             ],
             [
              0.4444444444444444,
              "#bd3786"
             ],
             [
              0.5555555555555556,
              "#d8576b"
             ],
             [
              0.6666666666666666,
              "#ed7953"
             ],
             [
              0.7777777777777778,
              "#fb9f3a"
             ],
             [
              0.8888888888888888,
              "#fdca26"
             ],
             [
              1,
              "#f0f921"
             ]
            ],
            "type": "heatmapgl"
           }
          ],
          "histogram": [
           {
            "marker": {
             "pattern": {
              "fillmode": "overlay",
              "size": 10,
              "solidity": 0.2
             }
            },
            "type": "histogram"
           }
          ],
          "histogram2d": [
           {
            "colorbar": {
             "outlinewidth": 0,
             "ticks": ""
            },
            "colorscale": [
             [
              0,
              "#0d0887"
             ],
             [
              0.1111111111111111,
              "#46039f"
             ],
             [
              0.2222222222222222,
              "#7201a8"
             ],
             [
              0.3333333333333333,
              "#9c179e"
             ],
             [
              0.4444444444444444,
              "#bd3786"
             ],
             [
              0.5555555555555556,
              "#d8576b"
             ],
             [
              0.6666666666666666,
              "#ed7953"
             ],
             [
              0.7777777777777778,
              "#fb9f3a"
             ],
             [
              0.8888888888888888,
              "#fdca26"
             ],
             [
              1,
              "#f0f921"
             ]
            ],
            "type": "histogram2d"
           }
          ],
          "histogram2dcontour": [
           {
            "colorbar": {
             "outlinewidth": 0,
             "ticks": ""
            },
            "colorscale": [
             [
              0,
              "#0d0887"
             ],
             [
              0.1111111111111111,
              "#46039f"
             ],
             [
              0.2222222222222222,
              "#7201a8"
             ],
             [
              0.3333333333333333,
              "#9c179e"
             ],
             [
              0.4444444444444444,
              "#bd3786"
             ],
             [
              0.5555555555555556,
              "#d8576b"
             ],
             [
              0.6666666666666666,
              "#ed7953"
             ],
             [
              0.7777777777777778,
              "#fb9f3a"
             ],
             [
              0.8888888888888888,
              "#fdca26"
             ],
             [
              1,
              "#f0f921"
             ]
            ],
            "type": "histogram2dcontour"
           }
          ],
          "mesh3d": [
           {
            "colorbar": {
             "outlinewidth": 0,
             "ticks": ""
            },
            "type": "mesh3d"
           }
          ],
          "parcoords": [
           {
            "line": {
             "colorbar": {
              "outlinewidth": 0,
              "ticks": ""
             }
            },
            "type": "parcoords"
           }
          ],
          "pie": [
           {
            "automargin": true,
            "type": "pie"
           }
          ],
          "scatter": [
           {
            "fillpattern": {
             "fillmode": "overlay",
             "size": 10,
             "solidity": 0.2
            },
            "type": "scatter"
           }
          ],
          "scatter3d": [
           {
            "line": {
             "colorbar": {
              "outlinewidth": 0,
              "ticks": ""
             }
            },
            "marker": {
             "colorbar": {
              "outlinewidth": 0,
              "ticks": ""
             }
            },
            "type": "scatter3d"
           }
          ],
          "scattercarpet": [
           {
            "marker": {
             "colorbar": {
              "outlinewidth": 0,
              "ticks": ""
             }
            },
            "type": "scattercarpet"
           }
          ],
          "scattergeo": [
           {
            "marker": {
             "colorbar": {
              "outlinewidth": 0,
              "ticks": ""
             }
            },
            "type": "scattergeo"
           }
          ],
          "scattergl": [
           {
            "marker": {
             "colorbar": {
              "outlinewidth": 0,
              "ticks": ""
             }
            },
            "type": "scattergl"
           }
          ],
          "scattermapbox": [
           {
            "marker": {
             "colorbar": {
              "outlinewidth": 0,
              "ticks": ""
             }
            },
            "type": "scattermapbox"
           }
          ],
          "scatterpolar": [
           {
            "marker": {
             "colorbar": {
              "outlinewidth": 0,
              "ticks": ""
             }
            },
            "type": "scatterpolar"
           }
          ],
          "scatterpolargl": [
           {
            "marker": {
             "colorbar": {
              "outlinewidth": 0,
              "ticks": ""
             }
            },
            "type": "scatterpolargl"
           }
          ],
          "scatterternary": [
           {
            "marker": {
             "colorbar": {
              "outlinewidth": 0,
              "ticks": ""
             }
            },
            "type": "scatterternary"
           }
          ],
          "surface": [
           {
            "colorbar": {
             "outlinewidth": 0,
             "ticks": ""
            },
            "colorscale": [
             [
              0,
              "#0d0887"
             ],
             [
              0.1111111111111111,
              "#46039f"
             ],
             [
              0.2222222222222222,
              "#7201a8"
             ],
             [
              0.3333333333333333,
              "#9c179e"
             ],
             [
              0.4444444444444444,
              "#bd3786"
             ],
             [
              0.5555555555555556,
              "#d8576b"
             ],
             [
              0.6666666666666666,
              "#ed7953"
             ],
             [
              0.7777777777777778,
              "#fb9f3a"
             ],
             [
              0.8888888888888888,
              "#fdca26"
             ],
             [
              1,
              "#f0f921"
             ]
            ],
            "type": "surface"
           }
          ],
          "table": [
           {
            "cells": {
             "fill": {
              "color": "#EBF0F8"
             },
             "line": {
              "color": "white"
             }
            },
            "header": {
             "fill": {
              "color": "#C8D4E3"
             },
             "line": {
              "color": "white"
             }
            },
            "type": "table"
           }
          ]
         },
         "layout": {
          "annotationdefaults": {
           "arrowcolor": "#2a3f5f",
           "arrowhead": 0,
           "arrowwidth": 1
          },
          "autotypenumbers": "strict",
          "coloraxis": {
           "colorbar": {
            "outlinewidth": 0,
            "ticks": ""
           }
          },
          "colorscale": {
           "diverging": [
            [
             0,
             "#8e0152"
            ],
            [
             0.1,
             "#c51b7d"
            ],
            [
             0.2,
             "#de77ae"
            ],
            [
             0.3,
             "#f1b6da"
            ],
            [
             0.4,
             "#fde0ef"
            ],
            [
             0.5,
             "#f7f7f7"
            ],
            [
             0.6,
             "#e6f5d0"
            ],
            [
             0.7,
             "#b8e186"
            ],
            [
             0.8,
             "#7fbc41"
            ],
            [
             0.9,
             "#4d9221"
            ],
            [
             1,
             "#276419"
            ]
           ],
           "sequential": [
            [
             0,
             "#0d0887"
            ],
            [
             0.1111111111111111,
             "#46039f"
            ],
            [
             0.2222222222222222,
             "#7201a8"
            ],
            [
             0.3333333333333333,
             "#9c179e"
            ],
            [
             0.4444444444444444,
             "#bd3786"
            ],
            [
             0.5555555555555556,
             "#d8576b"
            ],
            [
             0.6666666666666666,
             "#ed7953"
            ],
            [
             0.7777777777777778,
             "#fb9f3a"
            ],
            [
             0.8888888888888888,
             "#fdca26"
            ],
            [
             1,
             "#f0f921"
            ]
           ],
           "sequentialminus": [
            [
             0,
             "#0d0887"
            ],
            [
             0.1111111111111111,
             "#46039f"
            ],
            [
             0.2222222222222222,
             "#7201a8"
            ],
            [
             0.3333333333333333,
             "#9c179e"
            ],
            [
             0.4444444444444444,
             "#bd3786"
            ],
            [
             0.5555555555555556,
             "#d8576b"
            ],
            [
             0.6666666666666666,
             "#ed7953"
            ],
            [
             0.7777777777777778,
             "#fb9f3a"
            ],
            [
             0.8888888888888888,
             "#fdca26"
            ],
            [
             1,
             "#f0f921"
            ]
           ]
          },
          "colorway": [
           "#636efa",
           "#EF553B",
           "#00cc96",
           "#ab63fa",
           "#FFA15A",
           "#19d3f3",
           "#FF6692",
           "#B6E880",
           "#FF97FF",
           "#FECB52"
          ],
          "font": {
           "color": "#2a3f5f"
          },
          "geo": {
           "bgcolor": "white",
           "lakecolor": "white",
           "landcolor": "#E5ECF6",
           "showlakes": true,
           "showland": true,
           "subunitcolor": "white"
          },
          "hoverlabel": {
           "align": "left"
          },
          "hovermode": "closest",
          "mapbox": {
           "style": "light"
          },
          "paper_bgcolor": "white",
          "plot_bgcolor": "#E5ECF6",
          "polar": {
           "angularaxis": {
            "gridcolor": "white",
            "linecolor": "white",
            "ticks": ""
           },
           "bgcolor": "#E5ECF6",
           "radialaxis": {
            "gridcolor": "white",
            "linecolor": "white",
            "ticks": ""
           }
          },
          "scene": {
           "xaxis": {
            "backgroundcolor": "#E5ECF6",
            "gridcolor": "white",
            "gridwidth": 2,
            "linecolor": "white",
            "showbackground": true,
            "ticks": "",
            "zerolinecolor": "white"
           },
           "yaxis": {
            "backgroundcolor": "#E5ECF6",
            "gridcolor": "white",
            "gridwidth": 2,
            "linecolor": "white",
            "showbackground": true,
            "ticks": "",
            "zerolinecolor": "white"
           },
           "zaxis": {
            "backgroundcolor": "#E5ECF6",
            "gridcolor": "white",
            "gridwidth": 2,
            "linecolor": "white",
            "showbackground": true,
            "ticks": "",
            "zerolinecolor": "white"
           }
          },
          "shapedefaults": {
           "line": {
            "color": "#2a3f5f"
           }
          },
          "ternary": {
           "aaxis": {
            "gridcolor": "white",
            "linecolor": "white",
            "ticks": ""
           },
           "baxis": {
            "gridcolor": "white",
            "linecolor": "white",
            "ticks": ""
           },
           "bgcolor": "#E5ECF6",
           "caxis": {
            "gridcolor": "white",
            "linecolor": "white",
            "ticks": ""
           }
          },
          "title": {
           "x": 0.05
          },
          "xaxis": {
           "automargin": true,
           "gridcolor": "white",
           "linecolor": "white",
           "ticks": "",
           "title": {
            "standoff": 15
           },
           "zerolinecolor": "white",
           "zerolinewidth": 2
          },
          "yaxis": {
           "automargin": true,
           "gridcolor": "white",
           "linecolor": "white",
           "ticks": "",
           "title": {
            "standoff": 15
           },
           "zerolinecolor": "white",
           "zerolinewidth": 2
          }
         }
        },
        "title": {
         "text": "Correlation with Internal Rating"
        },
        "xaxis": {
         "anchor": "y",
         "domain": [
          0,
          1
         ],
         "tickangle": -45,
         "title": {
          "text": "Feature"
         }
        },
        "yaxis": {
         "anchor": "x",
         "domain": [
          0,
          1
         ],
         "title": {
          "text": "Correlation"
         }
        }
       }
      }
     },
     "metadata": {},
     "output_type": "display_data"
    }
   ],
   "source": [
    "# Plot correlation with internal rating\n",
    "corrDF = corrWithRating.drop('Internal rating').reset_index()\n",
    "corrDF.columns = ['Feature', 'Correlation']\n",
    "corrDF['Correlation'] = np.round(corrDF['Correlation'], 3)\n",
    "\n",
    "fig = px.bar(corrDF, x='Feature', y='Correlation',\n",
    "             title='Correlation with Internal Rating', \n",
    "             )\n",
    "fig.update_layout(xaxis_tickangle=-45)\n",
    "fig.show()"
   ]
  },
  {
   "cell_type": "markdown",
   "metadata": {},
   "source": [
    "#### Random Forest regression on `Internal Rating` with dataset's features"
   ]
  },
  {
   "cell_type": "code",
   "execution_count": 13,
   "metadata": {},
   "outputs": [],
   "source": [
    "Xrating = loans.drop(['Internal rating', 'Default flag', \n",
    "                      'Facility ID', 'Rating snapshot date', 'Portfolio'], axis=1)\n",
    "yrating = loans['Internal rating']\n",
    "\n",
    "categoricalFeatures = ['Property type']\n",
    "numericalFeatures = [col for col in Xrating.columns if col not in categoricalFeatures]\n",
    "\n",
    "# Preprocessing pipelines\n",
    "numericalTransformer = Pipeline(steps=[\n",
    "    ('scaler', StandardScaler())\n",
    "])\n",
    "\n",
    "categoricalTransformer = Pipeline(steps=[\n",
    "    ('onehot', OneHotEncoder(handle_unknown='ignore'))\n",
    "])\n",
    "\n",
    "preprocessorRating = ColumnTransformer(\n",
    "    transformers=[\n",
    "        ('num', numericalTransformer, numericalFeatures),\n",
    "        ('cat', categoricalTransformer, categoricalFeatures)\n",
    "    ])\n"
   ]
  },
  {
   "cell_type": "code",
   "execution_count": 14,
   "metadata": {},
   "outputs": [
    {
     "data": {
      "text/html": [
       "<style>#sk-container-id-1 {\n",
       "  /* Definition of color scheme common for light and dark mode */\n",
       "  --sklearn-color-text: black;\n",
       "  --sklearn-color-line: gray;\n",
       "  /* Definition of color scheme for unfitted estimators */\n",
       "  --sklearn-color-unfitted-level-0: #fff5e6;\n",
       "  --sklearn-color-unfitted-level-1: #f6e4d2;\n",
       "  --sklearn-color-unfitted-level-2: #ffe0b3;\n",
       "  --sklearn-color-unfitted-level-3: chocolate;\n",
       "  /* Definition of color scheme for fitted estimators */\n",
       "  --sklearn-color-fitted-level-0: #f0f8ff;\n",
       "  --sklearn-color-fitted-level-1: #d4ebff;\n",
       "  --sklearn-color-fitted-level-2: #b3dbfd;\n",
       "  --sklearn-color-fitted-level-3: cornflowerblue;\n",
       "\n",
       "  /* Specific color for light theme */\n",
       "  --sklearn-color-text-on-default-background: var(--sg-text-color, var(--theme-code-foreground, var(--jp-content-font-color1, black)));\n",
       "  --sklearn-color-background: var(--sg-background-color, var(--theme-background, var(--jp-layout-color0, white)));\n",
       "  --sklearn-color-border-box: var(--sg-text-color, var(--theme-code-foreground, var(--jp-content-font-color1, black)));\n",
       "  --sklearn-color-icon: #696969;\n",
       "\n",
       "  @media (prefers-color-scheme: dark) {\n",
       "    /* Redefinition of color scheme for dark theme */\n",
       "    --sklearn-color-text-on-default-background: var(--sg-text-color, var(--theme-code-foreground, var(--jp-content-font-color1, white)));\n",
       "    --sklearn-color-background: var(--sg-background-color, var(--theme-background, var(--jp-layout-color0, #111)));\n",
       "    --sklearn-color-border-box: var(--sg-text-color, var(--theme-code-foreground, var(--jp-content-font-color1, white)));\n",
       "    --sklearn-color-icon: #878787;\n",
       "  }\n",
       "}\n",
       "\n",
       "#sk-container-id-1 {\n",
       "  color: var(--sklearn-color-text);\n",
       "}\n",
       "\n",
       "#sk-container-id-1 pre {\n",
       "  padding: 0;\n",
       "}\n",
       "\n",
       "#sk-container-id-1 input.sk-hidden--visually {\n",
       "  border: 0;\n",
       "  clip: rect(1px 1px 1px 1px);\n",
       "  clip: rect(1px, 1px, 1px, 1px);\n",
       "  height: 1px;\n",
       "  margin: -1px;\n",
       "  overflow: hidden;\n",
       "  padding: 0;\n",
       "  position: absolute;\n",
       "  width: 1px;\n",
       "}\n",
       "\n",
       "#sk-container-id-1 div.sk-dashed-wrapped {\n",
       "  border: 1px dashed var(--sklearn-color-line);\n",
       "  margin: 0 0.4em 0.5em 0.4em;\n",
       "  box-sizing: border-box;\n",
       "  padding-bottom: 0.4em;\n",
       "  background-color: var(--sklearn-color-background);\n",
       "}\n",
       "\n",
       "#sk-container-id-1 div.sk-container {\n",
       "  /* jupyter's `normalize.less` sets `[hidden] { display: none; }`\n",
       "     but bootstrap.min.css set `[hidden] { display: none !important; }`\n",
       "     so we also need the `!important` here to be able to override the\n",
       "     default hidden behavior on the sphinx rendered scikit-learn.org.\n",
       "     See: https://github.com/scikit-learn/scikit-learn/issues/21755 */\n",
       "  display: inline-block !important;\n",
       "  position: relative;\n",
       "}\n",
       "\n",
       "#sk-container-id-1 div.sk-text-repr-fallback {\n",
       "  display: none;\n",
       "}\n",
       "\n",
       "div.sk-parallel-item,\n",
       "div.sk-serial,\n",
       "div.sk-item {\n",
       "  /* draw centered vertical line to link estimators */\n",
       "  background-image: linear-gradient(var(--sklearn-color-text-on-default-background), var(--sklearn-color-text-on-default-background));\n",
       "  background-size: 2px 100%;\n",
       "  background-repeat: no-repeat;\n",
       "  background-position: center center;\n",
       "}\n",
       "\n",
       "/* Parallel-specific style estimator block */\n",
       "\n",
       "#sk-container-id-1 div.sk-parallel-item::after {\n",
       "  content: \"\";\n",
       "  width: 100%;\n",
       "  border-bottom: 2px solid var(--sklearn-color-text-on-default-background);\n",
       "  flex-grow: 1;\n",
       "}\n",
       "\n",
       "#sk-container-id-1 div.sk-parallel {\n",
       "  display: flex;\n",
       "  align-items: stretch;\n",
       "  justify-content: center;\n",
       "  background-color: var(--sklearn-color-background);\n",
       "  position: relative;\n",
       "}\n",
       "\n",
       "#sk-container-id-1 div.sk-parallel-item {\n",
       "  display: flex;\n",
       "  flex-direction: column;\n",
       "}\n",
       "\n",
       "#sk-container-id-1 div.sk-parallel-item:first-child::after {\n",
       "  align-self: flex-end;\n",
       "  width: 50%;\n",
       "}\n",
       "\n",
       "#sk-container-id-1 div.sk-parallel-item:last-child::after {\n",
       "  align-self: flex-start;\n",
       "  width: 50%;\n",
       "}\n",
       "\n",
       "#sk-container-id-1 div.sk-parallel-item:only-child::after {\n",
       "  width: 0;\n",
       "}\n",
       "\n",
       "/* Serial-specific style estimator block */\n",
       "\n",
       "#sk-container-id-1 div.sk-serial {\n",
       "  display: flex;\n",
       "  flex-direction: column;\n",
       "  align-items: center;\n",
       "  background-color: var(--sklearn-color-background);\n",
       "  padding-right: 1em;\n",
       "  padding-left: 1em;\n",
       "}\n",
       "\n",
       "\n",
       "/* Toggleable style: style used for estimator/Pipeline/ColumnTransformer box that is\n",
       "clickable and can be expanded/collapsed.\n",
       "- Pipeline and ColumnTransformer use this feature and define the default style\n",
       "- Estimators will overwrite some part of the style using the `sk-estimator` class\n",
       "*/\n",
       "\n",
       "/* Pipeline and ColumnTransformer style (default) */\n",
       "\n",
       "#sk-container-id-1 div.sk-toggleable {\n",
       "  /* Default theme specific background. It is overwritten whether we have a\n",
       "  specific estimator or a Pipeline/ColumnTransformer */\n",
       "  background-color: var(--sklearn-color-background);\n",
       "}\n",
       "\n",
       "/* Toggleable label */\n",
       "#sk-container-id-1 label.sk-toggleable__label {\n",
       "  cursor: pointer;\n",
       "  display: block;\n",
       "  width: 100%;\n",
       "  margin-bottom: 0;\n",
       "  padding: 0.5em;\n",
       "  box-sizing: border-box;\n",
       "  text-align: center;\n",
       "}\n",
       "\n",
       "#sk-container-id-1 label.sk-toggleable__label-arrow:before {\n",
       "  /* Arrow on the left of the label */\n",
       "  content: \"▸\";\n",
       "  float: left;\n",
       "  margin-right: 0.25em;\n",
       "  color: var(--sklearn-color-icon);\n",
       "}\n",
       "\n",
       "#sk-container-id-1 label.sk-toggleable__label-arrow:hover:before {\n",
       "  color: var(--sklearn-color-text);\n",
       "}\n",
       "\n",
       "/* Toggleable content - dropdown */\n",
       "\n",
       "#sk-container-id-1 div.sk-toggleable__content {\n",
       "  max-height: 0;\n",
       "  max-width: 0;\n",
       "  overflow: hidden;\n",
       "  text-align: left;\n",
       "  /* unfitted */\n",
       "  background-color: var(--sklearn-color-unfitted-level-0);\n",
       "}\n",
       "\n",
       "#sk-container-id-1 div.sk-toggleable__content.fitted {\n",
       "  /* fitted */\n",
       "  background-color: var(--sklearn-color-fitted-level-0);\n",
       "}\n",
       "\n",
       "#sk-container-id-1 div.sk-toggleable__content pre {\n",
       "  margin: 0.2em;\n",
       "  border-radius: 0.25em;\n",
       "  color: var(--sklearn-color-text);\n",
       "  /* unfitted */\n",
       "  background-color: var(--sklearn-color-unfitted-level-0);\n",
       "}\n",
       "\n",
       "#sk-container-id-1 div.sk-toggleable__content.fitted pre {\n",
       "  /* unfitted */\n",
       "  background-color: var(--sklearn-color-fitted-level-0);\n",
       "}\n",
       "\n",
       "#sk-container-id-1 input.sk-toggleable__control:checked~div.sk-toggleable__content {\n",
       "  /* Expand drop-down */\n",
       "  max-height: 200px;\n",
       "  max-width: 100%;\n",
       "  overflow: auto;\n",
       "}\n",
       "\n",
       "#sk-container-id-1 input.sk-toggleable__control:checked~label.sk-toggleable__label-arrow:before {\n",
       "  content: \"▾\";\n",
       "}\n",
       "\n",
       "/* Pipeline/ColumnTransformer-specific style */\n",
       "\n",
       "#sk-container-id-1 div.sk-label input.sk-toggleable__control:checked~label.sk-toggleable__label {\n",
       "  color: var(--sklearn-color-text);\n",
       "  background-color: var(--sklearn-color-unfitted-level-2);\n",
       "}\n",
       "\n",
       "#sk-container-id-1 div.sk-label.fitted input.sk-toggleable__control:checked~label.sk-toggleable__label {\n",
       "  background-color: var(--sklearn-color-fitted-level-2);\n",
       "}\n",
       "\n",
       "/* Estimator-specific style */\n",
       "\n",
       "/* Colorize estimator box */\n",
       "#sk-container-id-1 div.sk-estimator input.sk-toggleable__control:checked~label.sk-toggleable__label {\n",
       "  /* unfitted */\n",
       "  background-color: var(--sklearn-color-unfitted-level-2);\n",
       "}\n",
       "\n",
       "#sk-container-id-1 div.sk-estimator.fitted input.sk-toggleable__control:checked~label.sk-toggleable__label {\n",
       "  /* fitted */\n",
       "  background-color: var(--sklearn-color-fitted-level-2);\n",
       "}\n",
       "\n",
       "#sk-container-id-1 div.sk-label label.sk-toggleable__label,\n",
       "#sk-container-id-1 div.sk-label label {\n",
       "  /* The background is the default theme color */\n",
       "  color: var(--sklearn-color-text-on-default-background);\n",
       "}\n",
       "\n",
       "/* On hover, darken the color of the background */\n",
       "#sk-container-id-1 div.sk-label:hover label.sk-toggleable__label {\n",
       "  color: var(--sklearn-color-text);\n",
       "  background-color: var(--sklearn-color-unfitted-level-2);\n",
       "}\n",
       "\n",
       "/* Label box, darken color on hover, fitted */\n",
       "#sk-container-id-1 div.sk-label.fitted:hover label.sk-toggleable__label.fitted {\n",
       "  color: var(--sklearn-color-text);\n",
       "  background-color: var(--sklearn-color-fitted-level-2);\n",
       "}\n",
       "\n",
       "/* Estimator label */\n",
       "\n",
       "#sk-container-id-1 div.sk-label label {\n",
       "  font-family: monospace;\n",
       "  font-weight: bold;\n",
       "  display: inline-block;\n",
       "  line-height: 1.2em;\n",
       "}\n",
       "\n",
       "#sk-container-id-1 div.sk-label-container {\n",
       "  text-align: center;\n",
       "}\n",
       "\n",
       "/* Estimator-specific */\n",
       "#sk-container-id-1 div.sk-estimator {\n",
       "  font-family: monospace;\n",
       "  border: 1px dotted var(--sklearn-color-border-box);\n",
       "  border-radius: 0.25em;\n",
       "  box-sizing: border-box;\n",
       "  margin-bottom: 0.5em;\n",
       "  /* unfitted */\n",
       "  background-color: var(--sklearn-color-unfitted-level-0);\n",
       "}\n",
       "\n",
       "#sk-container-id-1 div.sk-estimator.fitted {\n",
       "  /* fitted */\n",
       "  background-color: var(--sklearn-color-fitted-level-0);\n",
       "}\n",
       "\n",
       "/* on hover */\n",
       "#sk-container-id-1 div.sk-estimator:hover {\n",
       "  /* unfitted */\n",
       "  background-color: var(--sklearn-color-unfitted-level-2);\n",
       "}\n",
       "\n",
       "#sk-container-id-1 div.sk-estimator.fitted:hover {\n",
       "  /* fitted */\n",
       "  background-color: var(--sklearn-color-fitted-level-2);\n",
       "}\n",
       "\n",
       "/* Specification for estimator info (e.g. \"i\" and \"?\") */\n",
       "\n",
       "/* Common style for \"i\" and \"?\" */\n",
       "\n",
       ".sk-estimator-doc-link,\n",
       "a:link.sk-estimator-doc-link,\n",
       "a:visited.sk-estimator-doc-link {\n",
       "  float: right;\n",
       "  font-size: smaller;\n",
       "  line-height: 1em;\n",
       "  font-family: monospace;\n",
       "  background-color: var(--sklearn-color-background);\n",
       "  border-radius: 1em;\n",
       "  height: 1em;\n",
       "  width: 1em;\n",
       "  text-decoration: none !important;\n",
       "  margin-left: 1ex;\n",
       "  /* unfitted */\n",
       "  border: var(--sklearn-color-unfitted-level-1) 1pt solid;\n",
       "  color: var(--sklearn-color-unfitted-level-1);\n",
       "}\n",
       "\n",
       ".sk-estimator-doc-link.fitted,\n",
       "a:link.sk-estimator-doc-link.fitted,\n",
       "a:visited.sk-estimator-doc-link.fitted {\n",
       "  /* fitted */\n",
       "  border: var(--sklearn-color-fitted-level-1) 1pt solid;\n",
       "  color: var(--sklearn-color-fitted-level-1);\n",
       "}\n",
       "\n",
       "/* On hover */\n",
       "div.sk-estimator:hover .sk-estimator-doc-link:hover,\n",
       ".sk-estimator-doc-link:hover,\n",
       "div.sk-label-container:hover .sk-estimator-doc-link:hover,\n",
       ".sk-estimator-doc-link:hover {\n",
       "  /* unfitted */\n",
       "  background-color: var(--sklearn-color-unfitted-level-3);\n",
       "  color: var(--sklearn-color-background);\n",
       "  text-decoration: none;\n",
       "}\n",
       "\n",
       "div.sk-estimator.fitted:hover .sk-estimator-doc-link.fitted:hover,\n",
       ".sk-estimator-doc-link.fitted:hover,\n",
       "div.sk-label-container:hover .sk-estimator-doc-link.fitted:hover,\n",
       ".sk-estimator-doc-link.fitted:hover {\n",
       "  /* fitted */\n",
       "  background-color: var(--sklearn-color-fitted-level-3);\n",
       "  color: var(--sklearn-color-background);\n",
       "  text-decoration: none;\n",
       "}\n",
       "\n",
       "/* Span, style for the box shown on hovering the info icon */\n",
       ".sk-estimator-doc-link span {\n",
       "  display: none;\n",
       "  z-index: 9999;\n",
       "  position: relative;\n",
       "  font-weight: normal;\n",
       "  right: .2ex;\n",
       "  padding: .5ex;\n",
       "  margin: .5ex;\n",
       "  width: min-content;\n",
       "  min-width: 20ex;\n",
       "  max-width: 50ex;\n",
       "  color: var(--sklearn-color-text);\n",
       "  box-shadow: 2pt 2pt 4pt #999;\n",
       "  /* unfitted */\n",
       "  background: var(--sklearn-color-unfitted-level-0);\n",
       "  border: .5pt solid var(--sklearn-color-unfitted-level-3);\n",
       "}\n",
       "\n",
       ".sk-estimator-doc-link.fitted span {\n",
       "  /* fitted */\n",
       "  background: var(--sklearn-color-fitted-level-0);\n",
       "  border: var(--sklearn-color-fitted-level-3);\n",
       "}\n",
       "\n",
       ".sk-estimator-doc-link:hover span {\n",
       "  display: block;\n",
       "}\n",
       "\n",
       "/* \"?\"-specific style due to the `<a>` HTML tag */\n",
       "\n",
       "#sk-container-id-1 a.estimator_doc_link {\n",
       "  float: right;\n",
       "  font-size: 1rem;\n",
       "  line-height: 1em;\n",
       "  font-family: monospace;\n",
       "  background-color: var(--sklearn-color-background);\n",
       "  border-radius: 1rem;\n",
       "  height: 1rem;\n",
       "  width: 1rem;\n",
       "  text-decoration: none;\n",
       "  /* unfitted */\n",
       "  color: var(--sklearn-color-unfitted-level-1);\n",
       "  border: var(--sklearn-color-unfitted-level-1) 1pt solid;\n",
       "}\n",
       "\n",
       "#sk-container-id-1 a.estimator_doc_link.fitted {\n",
       "  /* fitted */\n",
       "  border: var(--sklearn-color-fitted-level-1) 1pt solid;\n",
       "  color: var(--sklearn-color-fitted-level-1);\n",
       "}\n",
       "\n",
       "/* On hover */\n",
       "#sk-container-id-1 a.estimator_doc_link:hover {\n",
       "  /* unfitted */\n",
       "  background-color: var(--sklearn-color-unfitted-level-3);\n",
       "  color: var(--sklearn-color-background);\n",
       "  text-decoration: none;\n",
       "}\n",
       "\n",
       "#sk-container-id-1 a.estimator_doc_link.fitted:hover {\n",
       "  /* fitted */\n",
       "  background-color: var(--sklearn-color-fitted-level-3);\n",
       "}\n",
       "</style><div id=\"sk-container-id-1\" class=\"sk-top-container\"><div class=\"sk-text-repr-fallback\"><pre>Pipeline(steps=[(&#x27;preprocessor&#x27;,\n",
       "                 ColumnTransformer(transformers=[(&#x27;num&#x27;,\n",
       "                                                  Pipeline(steps=[(&#x27;scaler&#x27;,\n",
       "                                                                   StandardScaler())]),\n",
       "                                                  [&#x27;Loan Balance&#x27;,\n",
       "                                                   &#x27;Interest rate&#x27;,\n",
       "                                                   &#x27;Property value&#x27;,\n",
       "                                                   &#x27;Net operating income&#x27;,\n",
       "                                                   &#x27;Interest coverage ratio&#x27;,\n",
       "                                                   &#x27;Original term&#x27;,\n",
       "                                                   &#x27;Months to maturity&#x27;,\n",
       "                                                   &#x27;Tenant turnover&#x27;,\n",
       "                                                   &#x27;Year of construction&#x27;,\n",
       "                                                   &#x27;LoanToValueRatio&#x27;,\n",
       "                                                   &#x27;DebtYield&#x27;]),\n",
       "                                                 (&#x27;cat&#x27;,\n",
       "                                                  Pipeline(steps=[(&#x27;onehot&#x27;,\n",
       "                                                                   OneHotEncoder(handle_unknown=&#x27;ignore&#x27;))]),\n",
       "                                                  [&#x27;Property type&#x27;])])),\n",
       "                (&#x27;regressor&#x27;, RandomForestRegressor(random_state=123))])</pre><b>In a Jupyter environment, please rerun this cell to show the HTML representation or trust the notebook. <br />On GitHub, the HTML representation is unable to render, please try loading this page with nbviewer.org.</b></div><div class=\"sk-container\" hidden><div class=\"sk-item sk-dashed-wrapped\"><div class=\"sk-label-container\"><div class=\"sk-label fitted sk-toggleable\"><input class=\"sk-toggleable__control sk-hidden--visually\" id=\"sk-estimator-id-1\" type=\"checkbox\" ><label for=\"sk-estimator-id-1\" class=\"sk-toggleable__label fitted sk-toggleable__label-arrow fitted\">&nbsp;&nbsp;Pipeline<a class=\"sk-estimator-doc-link fitted\" rel=\"noreferrer\" target=\"_blank\" href=\"https://scikit-learn.org/1.5/modules/generated/sklearn.pipeline.Pipeline.html\">?<span>Documentation for Pipeline</span></a><span class=\"sk-estimator-doc-link fitted\">i<span>Fitted</span></span></label><div class=\"sk-toggleable__content fitted\"><pre>Pipeline(steps=[(&#x27;preprocessor&#x27;,\n",
       "                 ColumnTransformer(transformers=[(&#x27;num&#x27;,\n",
       "                                                  Pipeline(steps=[(&#x27;scaler&#x27;,\n",
       "                                                                   StandardScaler())]),\n",
       "                                                  [&#x27;Loan Balance&#x27;,\n",
       "                                                   &#x27;Interest rate&#x27;,\n",
       "                                                   &#x27;Property value&#x27;,\n",
       "                                                   &#x27;Net operating income&#x27;,\n",
       "                                                   &#x27;Interest coverage ratio&#x27;,\n",
       "                                                   &#x27;Original term&#x27;,\n",
       "                                                   &#x27;Months to maturity&#x27;,\n",
       "                                                   &#x27;Tenant turnover&#x27;,\n",
       "                                                   &#x27;Year of construction&#x27;,\n",
       "                                                   &#x27;LoanToValueRatio&#x27;,\n",
       "                                                   &#x27;DebtYield&#x27;]),\n",
       "                                                 (&#x27;cat&#x27;,\n",
       "                                                  Pipeline(steps=[(&#x27;onehot&#x27;,\n",
       "                                                                   OneHotEncoder(handle_unknown=&#x27;ignore&#x27;))]),\n",
       "                                                  [&#x27;Property type&#x27;])])),\n",
       "                (&#x27;regressor&#x27;, RandomForestRegressor(random_state=123))])</pre></div> </div></div><div class=\"sk-serial\"><div class=\"sk-item sk-dashed-wrapped\"><div class=\"sk-label-container\"><div class=\"sk-label fitted sk-toggleable\"><input class=\"sk-toggleable__control sk-hidden--visually\" id=\"sk-estimator-id-2\" type=\"checkbox\" ><label for=\"sk-estimator-id-2\" class=\"sk-toggleable__label fitted sk-toggleable__label-arrow fitted\">&nbsp;preprocessor: ColumnTransformer<a class=\"sk-estimator-doc-link fitted\" rel=\"noreferrer\" target=\"_blank\" href=\"https://scikit-learn.org/1.5/modules/generated/sklearn.compose.ColumnTransformer.html\">?<span>Documentation for preprocessor: ColumnTransformer</span></a></label><div class=\"sk-toggleable__content fitted\"><pre>ColumnTransformer(transformers=[(&#x27;num&#x27;,\n",
       "                                 Pipeline(steps=[(&#x27;scaler&#x27;, StandardScaler())]),\n",
       "                                 [&#x27;Loan Balance&#x27;, &#x27;Interest rate&#x27;,\n",
       "                                  &#x27;Property value&#x27;, &#x27;Net operating income&#x27;,\n",
       "                                  &#x27;Interest coverage ratio&#x27;, &#x27;Original term&#x27;,\n",
       "                                  &#x27;Months to maturity&#x27;, &#x27;Tenant turnover&#x27;,\n",
       "                                  &#x27;Year of construction&#x27;, &#x27;LoanToValueRatio&#x27;,\n",
       "                                  &#x27;DebtYield&#x27;]),\n",
       "                                (&#x27;cat&#x27;,\n",
       "                                 Pipeline(steps=[(&#x27;onehot&#x27;,\n",
       "                                                  OneHotEncoder(handle_unknown=&#x27;ignore&#x27;))]),\n",
       "                                 [&#x27;Property type&#x27;])])</pre></div> </div></div><div class=\"sk-parallel\"><div class=\"sk-parallel-item\"><div class=\"sk-item\"><div class=\"sk-label-container\"><div class=\"sk-label fitted sk-toggleable\"><input class=\"sk-toggleable__control sk-hidden--visually\" id=\"sk-estimator-id-3\" type=\"checkbox\" ><label for=\"sk-estimator-id-3\" class=\"sk-toggleable__label fitted sk-toggleable__label-arrow fitted\">num</label><div class=\"sk-toggleable__content fitted\"><pre>[&#x27;Loan Balance&#x27;, &#x27;Interest rate&#x27;, &#x27;Property value&#x27;, &#x27;Net operating income&#x27;, &#x27;Interest coverage ratio&#x27;, &#x27;Original term&#x27;, &#x27;Months to maturity&#x27;, &#x27;Tenant turnover&#x27;, &#x27;Year of construction&#x27;, &#x27;LoanToValueRatio&#x27;, &#x27;DebtYield&#x27;]</pre></div> </div></div><div class=\"sk-serial\"><div class=\"sk-item\"><div class=\"sk-serial\"><div class=\"sk-item\"><div class=\"sk-estimator fitted sk-toggleable\"><input class=\"sk-toggleable__control sk-hidden--visually\" id=\"sk-estimator-id-4\" type=\"checkbox\" ><label for=\"sk-estimator-id-4\" class=\"sk-toggleable__label fitted sk-toggleable__label-arrow fitted\">&nbsp;StandardScaler<a class=\"sk-estimator-doc-link fitted\" rel=\"noreferrer\" target=\"_blank\" href=\"https://scikit-learn.org/1.5/modules/generated/sklearn.preprocessing.StandardScaler.html\">?<span>Documentation for StandardScaler</span></a></label><div class=\"sk-toggleable__content fitted\"><pre>StandardScaler()</pre></div> </div></div></div></div></div></div></div><div class=\"sk-parallel-item\"><div class=\"sk-item\"><div class=\"sk-label-container\"><div class=\"sk-label fitted sk-toggleable\"><input class=\"sk-toggleable__control sk-hidden--visually\" id=\"sk-estimator-id-5\" type=\"checkbox\" ><label for=\"sk-estimator-id-5\" class=\"sk-toggleable__label fitted sk-toggleable__label-arrow fitted\">cat</label><div class=\"sk-toggleable__content fitted\"><pre>[&#x27;Property type&#x27;]</pre></div> </div></div><div class=\"sk-serial\"><div class=\"sk-item\"><div class=\"sk-serial\"><div class=\"sk-item\"><div class=\"sk-estimator fitted sk-toggleable\"><input class=\"sk-toggleable__control sk-hidden--visually\" id=\"sk-estimator-id-6\" type=\"checkbox\" ><label for=\"sk-estimator-id-6\" class=\"sk-toggleable__label fitted sk-toggleable__label-arrow fitted\">&nbsp;OneHotEncoder<a class=\"sk-estimator-doc-link fitted\" rel=\"noreferrer\" target=\"_blank\" href=\"https://scikit-learn.org/1.5/modules/generated/sklearn.preprocessing.OneHotEncoder.html\">?<span>Documentation for OneHotEncoder</span></a></label><div class=\"sk-toggleable__content fitted\"><pre>OneHotEncoder(handle_unknown=&#x27;ignore&#x27;)</pre></div> </div></div></div></div></div></div></div></div></div><div class=\"sk-item\"><div class=\"sk-estimator fitted sk-toggleable\"><input class=\"sk-toggleable__control sk-hidden--visually\" id=\"sk-estimator-id-7\" type=\"checkbox\" ><label for=\"sk-estimator-id-7\" class=\"sk-toggleable__label fitted sk-toggleable__label-arrow fitted\">&nbsp;RandomForestRegressor<a class=\"sk-estimator-doc-link fitted\" rel=\"noreferrer\" target=\"_blank\" href=\"https://scikit-learn.org/1.5/modules/generated/sklearn.ensemble.RandomForestRegressor.html\">?<span>Documentation for RandomForestRegressor</span></a></label><div class=\"sk-toggleable__content fitted\"><pre>RandomForestRegressor(random_state=123)</pre></div> </div></div></div></div></div></div>"
      ],
      "text/plain": [
       "Pipeline(steps=[('preprocessor',\n",
       "                 ColumnTransformer(transformers=[('num',\n",
       "                                                  Pipeline(steps=[('scaler',\n",
       "                                                                   StandardScaler())]),\n",
       "                                                  ['Loan Balance',\n",
       "                                                   'Interest rate',\n",
       "                                                   'Property value',\n",
       "                                                   'Net operating income',\n",
       "                                                   'Interest coverage ratio',\n",
       "                                                   'Original term',\n",
       "                                                   'Months to maturity',\n",
       "                                                   'Tenant turnover',\n",
       "                                                   'Year of construction',\n",
       "                                                   'LoanToValueRatio',\n",
       "                                                   'DebtYield']),\n",
       "                                                 ('cat',\n",
       "                                                  Pipeline(steps=[('onehot',\n",
       "                                                                   OneHotEncoder(handle_unknown='ignore'))]),\n",
       "                                                  ['Property type'])])),\n",
       "                ('regressor', RandomForestRegressor(random_state=123))])"
      ]
     },
     "execution_count": 14,
     "metadata": {},
     "output_type": "execute_result"
    }
   ],
   "source": [
    "regressor = Pipeline(steps=[('preprocessor', preprocessorRating),\n",
    "                            ('regressor', RandomForestRegressor(random_state=123))])\n",
    "\n",
    "regressor.fit(Xrating, yrating)"
   ]
  },
  {
   "cell_type": "markdown",
   "metadata": {},
   "source": [
    "### Determine & Plot Feature Importances for Regression on `Internal Rating`"
   ]
  },
  {
   "cell_type": "code",
   "execution_count": null,
   "metadata": {},
   "outputs": [],
   "source": [
    "featureNamesCat = regressor.named_steps['preprocessor'].named_transformers_['cat'].named_steps['onehot'].get_feature_names_out(categoricalFeatures)\n",
    "featureNames = np.concatenate([numericalFeatures, featureNamesCat])\n",
    "\n",
    "importances = regressor.named_steps['regressor'].feature_importances_\n",
    "featureImportances = pd.Series(importances, index=featureNames).sort_values(ascending=False)\n",
    "np.round(featureImportances * 100, 3).head(10)"
   ]
  },
  {
   "cell_type": "code",
   "execution_count": 16,
   "metadata": {},
   "outputs": [
    {
     "data": {
      "application/vnd.plotly.v1+json": {
       "config": {
        "plotlyServerURL": "https://plot.ly"
       },
       "data": [
        {
         "alignmentgroup": "True",
         "hovertemplate": "Feature=%{x}<br>Importance=%{y}<extra></extra>",
         "legendgroup": "",
         "marker": {
          "color": "#636efa",
          "pattern": {
           "shape": ""
          }
         },
         "name": "",
         "offsetgroup": "",
         "orientation": "v",
         "showlegend": false,
         "textposition": "auto",
         "type": "bar",
         "x": [
          "Interest coverage ratio",
          "LoanToValueRatio",
          "DebtYield",
          "Months to maturity",
          "Tenant turnover",
          "Interest rate",
          "Net operating income",
          "Year of construction",
          "Property value",
          "Loan Balance"
         ],
         "xaxis": "x",
         "y": [
          0.496,
          0.485,
          0.014,
          0.001,
          0.001,
          0.001,
          0.001,
          0.001,
          0.001,
          0.001
         ],
         "yaxis": "y"
        }
       ],
       "layout": {
        "barmode": "relative",
        "legend": {
         "tracegroupgap": 0
        },
        "template": {
         "data": {
          "bar": [
           {
            "error_x": {
             "color": "#2a3f5f"
            },
            "error_y": {
             "color": "#2a3f5f"
            },
            "marker": {
             "line": {
              "color": "#E5ECF6",
              "width": 0.5
             },
             "pattern": {
              "fillmode": "overlay",
              "size": 10,
              "solidity": 0.2
             }
            },
            "type": "bar"
           }
          ],
          "barpolar": [
           {
            "marker": {
             "line": {
              "color": "#E5ECF6",
              "width": 0.5
             },
             "pattern": {
              "fillmode": "overlay",
              "size": 10,
              "solidity": 0.2
             }
            },
            "type": "barpolar"
           }
          ],
          "carpet": [
           {
            "aaxis": {
             "endlinecolor": "#2a3f5f",
             "gridcolor": "white",
             "linecolor": "white",
             "minorgridcolor": "white",
             "startlinecolor": "#2a3f5f"
            },
            "baxis": {
             "endlinecolor": "#2a3f5f",
             "gridcolor": "white",
             "linecolor": "white",
             "minorgridcolor": "white",
             "startlinecolor": "#2a3f5f"
            },
            "type": "carpet"
           }
          ],
          "choropleth": [
           {
            "colorbar": {
             "outlinewidth": 0,
             "ticks": ""
            },
            "type": "choropleth"
           }
          ],
          "contour": [
           {
            "colorbar": {
             "outlinewidth": 0,
             "ticks": ""
            },
            "colorscale": [
             [
              0,
              "#0d0887"
             ],
             [
              0.1111111111111111,
              "#46039f"
             ],
             [
              0.2222222222222222,
              "#7201a8"
             ],
             [
              0.3333333333333333,
              "#9c179e"
             ],
             [
              0.4444444444444444,
              "#bd3786"
             ],
             [
              0.5555555555555556,
              "#d8576b"
             ],
             [
              0.6666666666666666,
              "#ed7953"
             ],
             [
              0.7777777777777778,
              "#fb9f3a"
             ],
             [
              0.8888888888888888,
              "#fdca26"
             ],
             [
              1,
              "#f0f921"
             ]
            ],
            "type": "contour"
           }
          ],
          "contourcarpet": [
           {
            "colorbar": {
             "outlinewidth": 0,
             "ticks": ""
            },
            "type": "contourcarpet"
           }
          ],
          "heatmap": [
           {
            "colorbar": {
             "outlinewidth": 0,
             "ticks": ""
            },
            "colorscale": [
             [
              0,
              "#0d0887"
             ],
             [
              0.1111111111111111,
              "#46039f"
             ],
             [
              0.2222222222222222,
              "#7201a8"
             ],
             [
              0.3333333333333333,
              "#9c179e"
             ],
             [
              0.4444444444444444,
              "#bd3786"
             ],
             [
              0.5555555555555556,
              "#d8576b"
             ],
             [
              0.6666666666666666,
              "#ed7953"
             ],
             [
              0.7777777777777778,
              "#fb9f3a"
             ],
             [
              0.8888888888888888,
              "#fdca26"
             ],
             [
              1,
              "#f0f921"
             ]
            ],
            "type": "heatmap"
           }
          ],
          "heatmapgl": [
           {
            "colorbar": {
             "outlinewidth": 0,
             "ticks": ""
            },
            "colorscale": [
             [
              0,
              "#0d0887"
             ],
             [
              0.1111111111111111,
              "#46039f"
             ],
             [
              0.2222222222222222,
              "#7201a8"
             ],
             [
              0.3333333333333333,
              "#9c179e"
             ],
             [
              0.4444444444444444,
              "#bd3786"
             ],
             [
              0.5555555555555556,
              "#d8576b"
             ],
             [
              0.6666666666666666,
              "#ed7953"
             ],
             [
              0.7777777777777778,
              "#fb9f3a"
             ],
             [
              0.8888888888888888,
              "#fdca26"
             ],
             [
              1,
              "#f0f921"
             ]
            ],
            "type": "heatmapgl"
           }
          ],
          "histogram": [
           {
            "marker": {
             "pattern": {
              "fillmode": "overlay",
              "size": 10,
              "solidity": 0.2
             }
            },
            "type": "histogram"
           }
          ],
          "histogram2d": [
           {
            "colorbar": {
             "outlinewidth": 0,
             "ticks": ""
            },
            "colorscale": [
             [
              0,
              "#0d0887"
             ],
             [
              0.1111111111111111,
              "#46039f"
             ],
             [
              0.2222222222222222,
              "#7201a8"
             ],
             [
              0.3333333333333333,
              "#9c179e"
             ],
             [
              0.4444444444444444,
              "#bd3786"
             ],
             [
              0.5555555555555556,
              "#d8576b"
             ],
             [
              0.6666666666666666,
              "#ed7953"
             ],
             [
              0.7777777777777778,
              "#fb9f3a"
             ],
             [
              0.8888888888888888,
              "#fdca26"
             ],
             [
              1,
              "#f0f921"
             ]
            ],
            "type": "histogram2d"
           }
          ],
          "histogram2dcontour": [
           {
            "colorbar": {
             "outlinewidth": 0,
             "ticks": ""
            },
            "colorscale": [
             [
              0,
              "#0d0887"
             ],
             [
              0.1111111111111111,
              "#46039f"
             ],
             [
              0.2222222222222222,
              "#7201a8"
             ],
             [
              0.3333333333333333,
              "#9c179e"
             ],
             [
              0.4444444444444444,
              "#bd3786"
             ],
             [
              0.5555555555555556,
              "#d8576b"
             ],
             [
              0.6666666666666666,
              "#ed7953"
             ],
             [
              0.7777777777777778,
              "#fb9f3a"
             ],
             [
              0.8888888888888888,
              "#fdca26"
             ],
             [
              1,
              "#f0f921"
             ]
            ],
            "type": "histogram2dcontour"
           }
          ],
          "mesh3d": [
           {
            "colorbar": {
             "outlinewidth": 0,
             "ticks": ""
            },
            "type": "mesh3d"
           }
          ],
          "parcoords": [
           {
            "line": {
             "colorbar": {
              "outlinewidth": 0,
              "ticks": ""
             }
            },
            "type": "parcoords"
           }
          ],
          "pie": [
           {
            "automargin": true,
            "type": "pie"
           }
          ],
          "scatter": [
           {
            "fillpattern": {
             "fillmode": "overlay",
             "size": 10,
             "solidity": 0.2
            },
            "type": "scatter"
           }
          ],
          "scatter3d": [
           {
            "line": {
             "colorbar": {
              "outlinewidth": 0,
              "ticks": ""
             }
            },
            "marker": {
             "colorbar": {
              "outlinewidth": 0,
              "ticks": ""
             }
            },
            "type": "scatter3d"
           }
          ],
          "scattercarpet": [
           {
            "marker": {
             "colorbar": {
              "outlinewidth": 0,
              "ticks": ""
             }
            },
            "type": "scattercarpet"
           }
          ],
          "scattergeo": [
           {
            "marker": {
             "colorbar": {
              "outlinewidth": 0,
              "ticks": ""
             }
            },
            "type": "scattergeo"
           }
          ],
          "scattergl": [
           {
            "marker": {
             "colorbar": {
              "outlinewidth": 0,
              "ticks": ""
             }
            },
            "type": "scattergl"
           }
          ],
          "scattermapbox": [
           {
            "marker": {
             "colorbar": {
              "outlinewidth": 0,
              "ticks": ""
             }
            },
            "type": "scattermapbox"
           }
          ],
          "scatterpolar": [
           {
            "marker": {
             "colorbar": {
              "outlinewidth": 0,
              "ticks": ""
             }
            },
            "type": "scatterpolar"
           }
          ],
          "scatterpolargl": [
           {
            "marker": {
             "colorbar": {
              "outlinewidth": 0,
              "ticks": ""
             }
            },
            "type": "scatterpolargl"
           }
          ],
          "scatterternary": [
           {
            "marker": {
             "colorbar": {
              "outlinewidth": 0,
              "ticks": ""
             }
            },
            "type": "scatterternary"
           }
          ],
          "surface": [
           {
            "colorbar": {
             "outlinewidth": 0,
             "ticks": ""
            },
            "colorscale": [
             [
              0,
              "#0d0887"
             ],
             [
              0.1111111111111111,
              "#46039f"
             ],
             [
              0.2222222222222222,
              "#7201a8"
             ],
             [
              0.3333333333333333,
              "#9c179e"
             ],
             [
              0.4444444444444444,
              "#bd3786"
             ],
             [
              0.5555555555555556,
              "#d8576b"
             ],
             [
              0.6666666666666666,
              "#ed7953"
             ],
             [
              0.7777777777777778,
              "#fb9f3a"
             ],
             [
              0.8888888888888888,
              "#fdca26"
             ],
             [
              1,
              "#f0f921"
             ]
            ],
            "type": "surface"
           }
          ],
          "table": [
           {
            "cells": {
             "fill": {
              "color": "#EBF0F8"
             },
             "line": {
              "color": "white"
             }
            },
            "header": {
             "fill": {
              "color": "#C8D4E3"
             },
             "line": {
              "color": "white"
             }
            },
            "type": "table"
           }
          ]
         },
         "layout": {
          "annotationdefaults": {
           "arrowcolor": "#2a3f5f",
           "arrowhead": 0,
           "arrowwidth": 1
          },
          "autotypenumbers": "strict",
          "coloraxis": {
           "colorbar": {
            "outlinewidth": 0,
            "ticks": ""
           }
          },
          "colorscale": {
           "diverging": [
            [
             0,
             "#8e0152"
            ],
            [
             0.1,
             "#c51b7d"
            ],
            [
             0.2,
             "#de77ae"
            ],
            [
             0.3,
             "#f1b6da"
            ],
            [
             0.4,
             "#fde0ef"
            ],
            [
             0.5,
             "#f7f7f7"
            ],
            [
             0.6,
             "#e6f5d0"
            ],
            [
             0.7,
             "#b8e186"
            ],
            [
             0.8,
             "#7fbc41"
            ],
            [
             0.9,
             "#4d9221"
            ],
            [
             1,
             "#276419"
            ]
           ],
           "sequential": [
            [
             0,
             "#0d0887"
            ],
            [
             0.1111111111111111,
             "#46039f"
            ],
            [
             0.2222222222222222,
             "#7201a8"
            ],
            [
             0.3333333333333333,
             "#9c179e"
            ],
            [
             0.4444444444444444,
             "#bd3786"
            ],
            [
             0.5555555555555556,
             "#d8576b"
            ],
            [
             0.6666666666666666,
             "#ed7953"
            ],
            [
             0.7777777777777778,
             "#fb9f3a"
            ],
            [
             0.8888888888888888,
             "#fdca26"
            ],
            [
             1,
             "#f0f921"
            ]
           ],
           "sequentialminus": [
            [
             0,
             "#0d0887"
            ],
            [
             0.1111111111111111,
             "#46039f"
            ],
            [
             0.2222222222222222,
             "#7201a8"
            ],
            [
             0.3333333333333333,
             "#9c179e"
            ],
            [
             0.4444444444444444,
             "#bd3786"
            ],
            [
             0.5555555555555556,
             "#d8576b"
            ],
            [
             0.6666666666666666,
             "#ed7953"
            ],
            [
             0.7777777777777778,
             "#fb9f3a"
            ],
            [
             0.8888888888888888,
             "#fdca26"
            ],
            [
             1,
             "#f0f921"
            ]
           ]
          },
          "colorway": [
           "#636efa",
           "#EF553B",
           "#00cc96",
           "#ab63fa",
           "#FFA15A",
           "#19d3f3",
           "#FF6692",
           "#B6E880",
           "#FF97FF",
           "#FECB52"
          ],
          "font": {
           "color": "#2a3f5f"
          },
          "geo": {
           "bgcolor": "white",
           "lakecolor": "white",
           "landcolor": "#E5ECF6",
           "showlakes": true,
           "showland": true,
           "subunitcolor": "white"
          },
          "hoverlabel": {
           "align": "left"
          },
          "hovermode": "closest",
          "mapbox": {
           "style": "light"
          },
          "paper_bgcolor": "white",
          "plot_bgcolor": "#E5ECF6",
          "polar": {
           "angularaxis": {
            "gridcolor": "white",
            "linecolor": "white",
            "ticks": ""
           },
           "bgcolor": "#E5ECF6",
           "radialaxis": {
            "gridcolor": "white",
            "linecolor": "white",
            "ticks": ""
           }
          },
          "scene": {
           "xaxis": {
            "backgroundcolor": "#E5ECF6",
            "gridcolor": "white",
            "gridwidth": 2,
            "linecolor": "white",
            "showbackground": true,
            "ticks": "",
            "zerolinecolor": "white"
           },
           "yaxis": {
            "backgroundcolor": "#E5ECF6",
            "gridcolor": "white",
            "gridwidth": 2,
            "linecolor": "white",
            "showbackground": true,
            "ticks": "",
            "zerolinecolor": "white"
           },
           "zaxis": {
            "backgroundcolor": "#E5ECF6",
            "gridcolor": "white",
            "gridwidth": 2,
            "linecolor": "white",
            "showbackground": true,
            "ticks": "",
            "zerolinecolor": "white"
           }
          },
          "shapedefaults": {
           "line": {
            "color": "#2a3f5f"
           }
          },
          "ternary": {
           "aaxis": {
            "gridcolor": "white",
            "linecolor": "white",
            "ticks": ""
           },
           "baxis": {
            "gridcolor": "white",
            "linecolor": "white",
            "ticks": ""
           },
           "bgcolor": "#E5ECF6",
           "caxis": {
            "gridcolor": "white",
            "linecolor": "white",
            "ticks": ""
           }
          },
          "title": {
           "x": 0.05
          },
          "xaxis": {
           "automargin": true,
           "gridcolor": "white",
           "linecolor": "white",
           "ticks": "",
           "title": {
            "standoff": 15
           },
           "zerolinecolor": "white",
           "zerolinewidth": 2
          },
          "yaxis": {
           "automargin": true,
           "gridcolor": "white",
           "linecolor": "white",
           "ticks": "",
           "title": {
            "standoff": 15
           },
           "zerolinecolor": "white",
           "zerolinewidth": 2
          }
         }
        },
        "title": {
         "text": "Top 10 Feature Importances for Internal Rating"
        },
        "xaxis": {
         "anchor": "y",
         "domain": [
          0,
          1
         ],
         "tickangle": -45,
         "title": {
          "text": "Feature"
         }
        },
        "yaxis": {
         "anchor": "x",
         "domain": [
          0,
          1
         ],
         "title": {
          "text": "Importance"
         }
        }
       }
      }
     },
     "metadata": {},
     "output_type": "display_data"
    }
   ],
   "source": [
    "# Plot feature importances\n",
    "importanceDf = featureImportances.reset_index()\n",
    "importanceDf.columns = ['Feature', 'Importance']\n",
    "importanceDf['Importance'] = np.round(importanceDf['Importance'], 3)\n",
    "\n",
    "fig = px.bar(importanceDf.head(10), x='Feature', y='Importance',\n",
    "             title='Top 10 Feature Importances for Internal Rating', \n",
    "             )\n",
    "fig.update_layout(xaxis_tickangle=-45)\n",
    "fig.show()"
   ]
  },
  {
   "cell_type": "markdown",
   "metadata": {},
   "source": [
    "Top 3 factors influencing the internal rating:\n",
    "1. **Interest Coverage Ratio**: 66.8% importance\n",
    "2. **Property Value**: 8.3% importance\n",
    "3. **Loan Balance**: 6.7% importance"
   ]
  },
  {
   "cell_type": "markdown",
   "metadata": {},
   "source": [
    "#### Predictive model on `Default Flag`"
   ]
  },
  {
   "cell_type": "code",
   "execution_count": 17,
   "metadata": {},
   "outputs": [],
   "source": [
    "# Features and target variable\n",
    "X = loans.drop(['Default flag', 'Facility ID', 'Rating snapshot date', 'Portfolio'], axis=1)\n",
    "y = loans['Default flag']\n",
    "\n",
    "# Categorical and numerical features\n",
    "categoricalFeatures = ['Property type']\n",
    "numericalFeatures = [col for col in X.columns if col not in categoricalFeatures + ['Internal rating']]\n",
    "\n",
    "Xtrain, Xtest, ytrain, ytest = train_test_split(X, y, test_size=0.3, random_state=123)"
   ]
  },
  {
   "cell_type": "code",
   "execution_count": 18,
   "metadata": {},
   "outputs": [],
   "source": [
    "# Preprocessing pipelines\n",
    "numericalTransformer = Pipeline(steps=[\n",
    "    ('scaler', StandardScaler())\n",
    "])\n",
    "\n",
    "categoricalTransformer = Pipeline(steps=[\n",
    "    ('onehot', OneHotEncoder(handle_unknown='ignore'))\n",
    "])\n",
    "\n",
    "preprocessor = ColumnTransformer(\n",
    "    transformers=[\n",
    "        ('num', numericalTransformer, numericalFeatures + ['Internal rating']),\n",
    "        ('cat', categoricalTransformer, categoricalFeatures)\n",
    "    ])"
   ]
  },
  {
   "cell_type": "markdown",
   "metadata": {},
   "source": [
    "#### Logistic Regression Classifier Model"
   ]
  },
  {
   "cell_type": "code",
   "execution_count": 19,
   "metadata": {},
   "outputs": [
    {
     "name": "stdout",
     "output_type": "stream",
     "text": [
      "Logistic Regression AUC: 0.7514\n"
     ]
    }
   ],
   "source": [
    "# Logistic Regression model\n",
    "pipelineLR = Pipeline(steps=[('preprocessor', preprocessor),\n",
    "                             ('classifier', LogisticRegression(max_iter=1000))])\n",
    "\n",
    "pipelineLR.fit(Xtrain, ytrain)\n",
    "\n",
    "# Predict probabilities and compute AUC for Logistic Regression\n",
    "yPredProbaLR = pipelineLR.predict_proba(Xtest)[:,1]\n",
    "aucLR = roc_auc_score(ytest, yPredProbaLR)\n",
    "print(f'Logistic Regression AUC: {aucLR:.4f}')"
   ]
  },
  {
   "cell_type": "markdown",
   "metadata": {},
   "source": [
    "#### Scikit-learn Gradient Boosting Classifier"
   ]
  },
  {
   "cell_type": "code",
   "execution_count": 20,
   "metadata": {},
   "outputs": [
    {
     "name": "stdout",
     "output_type": "stream",
     "text": [
      "Gradient Boosting CV AUC: 0.7320\n"
     ]
    }
   ],
   "source": [
    "pipelineGB = Pipeline(steps=[('preprocessor', preprocessor),\n",
    "                             ('classifier', GradientBoostingClassifier(random_state=42))])\n",
    "pipelineGB.fit(Xtrain, ytrain)\n",
    "yPredProbaGB = pipelineGB.predict_proba(Xtest)[:,1]\n",
    "\n",
    "scoresGB = cross_val_score(pipelineGB, Xtrain, ytrain, cv=5, scoring='roc_auc')\n",
    "print(f'Gradient Boosting CV AUC: {np.mean(scoresGB):.4f}')"
   ]
  },
  {
   "cell_type": "markdown",
   "metadata": {},
   "source": [
    "#### XGBoost Classifier model"
   ]
  },
  {
   "cell_type": "code",
   "execution_count": 21,
   "metadata": {},
   "outputs": [
    {
     "name": "stdout",
     "output_type": "stream",
     "text": [
      "XGBoost CV AUC: 0.6816\n"
     ]
    }
   ],
   "source": [
    "pipelineXGB = Pipeline(steps=[('preprocessor', preprocessor),\n",
    "                              ('classifier', XGBClassifier(eval_metric='logloss', random_state=42))])\n",
    "pipelineXGB.fit(Xtrain, ytrain)\n",
    "yPredProbaXGB = pipelineXGB.predict_proba(Xtest)[:,1]\n",
    "\n",
    "scoresXGB = cross_val_score(pipelineXGB, Xtrain, ytrain, cv=5, scoring='roc_auc')\n",
    "print(f'XGBoost CV AUC: {np.mean(scoresXGB):.4f}')"
   ]
  },
  {
   "cell_type": "markdown",
   "metadata": {},
   "source": [
    "#### Baseline (`Internal Rating`) ROC-AUC Score"
   ]
  },
  {
   "cell_type": "code",
   "execution_count": 22,
   "metadata": {},
   "outputs": [
    {
     "name": "stdout",
     "output_type": "stream",
     "text": [
      "Internal Rating AUC: 0.7402\n"
     ]
    }
   ],
   "source": [
    "# Compute AUC for Internal Rating on test set\n",
    "ratingTest = Xtest['Internal rating']\n",
    "aucInternal = roc_auc_score(ytest, ratingTest)\n",
    "print(f'Internal Rating AUC: {aucInternal:.4f}')"
   ]
  },
  {
   "cell_type": "markdown",
   "metadata": {},
   "source": [
    "### Model Comparison Summary"
   ]
  },
  {
   "cell_type": "code",
   "execution_count": 23,
   "metadata": {},
   "outputs": [
    {
     "name": "stdout",
     "output_type": "stream",
     "text": [
      "                       CV AUC\n",
      "Model                        \n",
      "Logistic Regression  0.751387\n",
      "Gradient Boosting    0.732006\n",
      "XGBoost              0.681607\n"
     ]
    }
   ],
   "source": [
    "# Compile the results\n",
    "modelResults = pd.DataFrame({\n",
    "    'Model': ['Logistic Regression', 'Gradient Boosting', 'XGBoost'],\n",
    "    'CV AUC': [np.mean(aucLR), np.mean(scoresGB), np.mean(scoresXGB)]\n",
    "}).set_index('Model')\n",
    "\n",
    "print(modelResults.sort_values(by='CV AUC', ascending=False))"
   ]
  },
  {
   "cell_type": "markdown",
   "metadata": {},
   "source": [
    "#### Hyperparameter tuning on highest performing (by ROC-AUC) models: `Logistic Regression`, `Scikit-Learn Gradient Boosting`, & `XGBoost`"
   ]
  },
  {
   "cell_type": "code",
   "execution_count": 24,
   "metadata": {},
   "outputs": [
    {
     "name": "stdout",
     "output_type": "stream",
     "text": [
      "Best Logistic Regression AUC: 0.7452\n",
      "Best Parameters: {'classifier__C': 0.01, 'classifier__penalty': 'l2', 'classifier__solver': 'lbfgs'}\n"
     ]
    }
   ],
   "source": [
    "paramGridLR = {\n",
    "    'classifier__C': [0.01, 0.1, 1, 10, 100],\n",
    "    'classifier__penalty': ['l2'],\n",
    "    'classifier__solver': ['lbfgs', 'liblinear']\n",
    "}\n",
    "\n",
    "gridSearchLR = GridSearchCV(pipelineLR, paramGridLR, cv=5, scoring='roc_auc')\n",
    "gridSearchLR.fit(Xtrain, ytrain)\n",
    "\n",
    "print(f'Best Logistic Regression AUC: {gridSearchLR.best_score_:.4f}')\n",
    "print(f'Best Parameters: {gridSearchLR.best_params_}')\n"
   ]
  },
  {
   "cell_type": "code",
   "execution_count": 25,
   "metadata": {},
   "outputs": [
    {
     "name": "stdout",
     "output_type": "stream",
     "text": [
      "Best Gradient Boosting AUC: 0.7447\n",
      "Best Parameters: {'classifier__learning_rate': 0.01, 'classifier__max_depth': 3, 'classifier__n_estimators': 200}\n"
     ]
    }
   ],
   "source": [
    "paramGridGB = {\n",
    "    'classifier__n_estimators': [100, 200],\n",
    "    'classifier__learning_rate': [0.01, 0.1],\n",
    "    'classifier__max_depth': [3, 5]\n",
    "}\n",
    "\n",
    "gridSearchGB = GridSearchCV(pipelineGB, paramGridGB, cv=5, scoring='roc_auc', n_jobs=-1)\n",
    "gridSearchGB.fit(Xtrain, ytrain)\n",
    "\n",
    "print(f'Best Gradient Boosting AUC: {gridSearchGB.best_score_:.4f}')\n",
    "print(f'Best Parameters: {gridSearchGB.best_params_}')\n"
   ]
  },
  {
   "cell_type": "code",
   "execution_count": 26,
   "metadata": {},
   "outputs": [
    {
     "name": "stdout",
     "output_type": "stream",
     "text": [
      "Best XGBoost AUC: 0.7495\n",
      "Best Parameters: {'classifier__learning_rate': 0.01, 'classifier__max_depth': 3, 'classifier__n_estimators': 200, 'classifier__subsample': 0.8}\n"
     ]
    }
   ],
   "source": [
    "paramGridXGB = {\n",
    "    'classifier__n_estimators': [100, 200],\n",
    "    'classifier__learning_rate': [0.01, 0.1],\n",
    "    'classifier__max_depth': [3, 5],\n",
    "    'classifier__subsample': [0.8, 1]\n",
    "}\n",
    "\n",
    "gridSearchXGB = GridSearchCV(pipelineXGB, paramGridXGB, cv=5, scoring='roc_auc', n_jobs=-1)\n",
    "gridSearchXGB.fit(Xtrain, ytrain)\n",
    "\n",
    "print(f'Best XGBoost AUC: {gridSearchXGB.best_score_:.4f}')\n",
    "print(f'Best Parameters: {gridSearchXGB.best_params_}')\n"
   ]
  },
  {
   "cell_type": "markdown",
   "metadata": {},
   "source": [
    "------------------"
   ]
  },
  {
   "cell_type": "markdown",
   "metadata": {},
   "source": [
    "### Hyperparameter optimized models for `LR`, `GB`, and `XGB` models"
   ]
  },
  {
   "cell_type": "code",
   "execution_count": 27,
   "metadata": {},
   "outputs": [
    {
     "name": "stdout",
     "output_type": "stream",
     "text": [
      "Logistic Regression Test AUC: 0.7492\n"
     ]
    }
   ],
   "source": [
    "bestPipelineLR = gridSearchLR.best_estimator_\n",
    "yPredProbaLR = bestPipelineLR.predict_proba(Xtest)[:, 1]\n",
    "aucLR = roc_auc_score(ytest, yPredProbaLR)\n",
    "print(f'Logistic Regression Test AUC: {aucLR:.4f}')"
   ]
  },
  {
   "cell_type": "code",
   "execution_count": 28,
   "metadata": {},
   "outputs": [
    {
     "name": "stdout",
     "output_type": "stream",
     "text": [
      "Gradient Boosting Test AUC: 0.7590\n"
     ]
    }
   ],
   "source": [
    "bestPipelineGB = gridSearchGB.best_estimator_\n",
    "yPredProbaGB = bestPipelineGB.predict_proba(Xtest)[:, 1]\n",
    "aucGB = roc_auc_score(ytest, yPredProbaGB)\n",
    "print(f'Gradient Boosting Test AUC: {aucGB:.4f}')"
   ]
  },
  {
   "cell_type": "code",
   "execution_count": 29,
   "metadata": {},
   "outputs": [
    {
     "name": "stdout",
     "output_type": "stream",
     "text": [
      "XGBoost Test AUC: 0.7626\n"
     ]
    }
   ],
   "source": [
    "bestPipelineXGB = gridSearchXGB.best_estimator_\n",
    "yPredProbaXGB = bestPipelineXGB.predict_proba(Xtest)[:, 1]\n",
    "aucXGB = roc_auc_score(ytest, yPredProbaXGB)\n",
    "print(f'XGBoost Test AUC: {aucXGB:.4f}')"
   ]
  },
  {
   "cell_type": "code",
   "execution_count": 30,
   "metadata": {},
   "outputs": [
    {
     "data": {
      "application/vnd.plotly.v1+json": {
       "config": {
        "plotlyServerURL": "https://plot.ly"
       },
       "data": [
        {
         "mode": "lines",
         "name": "Internal Rating",
         "type": "scatter",
         "x": [
          0,
          0.006526468455402465,
          0.05148658448150834,
          0.1747643219724438,
          0.36765772298767224,
          0.5924583031182016,
          0.7744742567077593,
          0.8846990572878898,
          0.9564902102973168,
          1
         ],
         "y": [
          0,
          0.07228915662650602,
          0.21686746987951808,
          0.5060240963855421,
          0.6927710843373494,
          0.9096385542168675,
          0.963855421686747,
          0.9939759036144579,
          0.9939759036144579,
          1
         ]
        },
        {
         "mode": "lines",
         "name": "Logistic Regression",
         "type": "scatter",
         "x": [
          0,
          0,
          0,
          0.0007251631617113851,
          0.0007251631617113851,
          0.0014503263234227702,
          0.0014503263234227702,
          0.0036258158085569255,
          0.0036258158085569255,
          0.00435097897026831,
          0.00435097897026831,
          0.005076142131979695,
          0.005076142131979695,
          0.007976794778825236,
          0.007976794778825236,
          0.009427121102248005,
          0.009427121102248005,
          0.012327773749093546,
          0.012327773749093546,
          0.01595358955765047,
          0.01595358955765047,
          0.01740391588107324,
          0.01740391588107324,
          0.018129079042784626,
          0.018129079042784626,
          0.01885424220449601,
          0.01885424220449601,
          0.019579405366207395,
          0.019579405366207395,
          0.022480058013052938,
          0.022480058013052938,
          0.03190717911530094,
          0.03190717911530094,
          0.03625815808556925,
          0.03625815808556925,
          0.03843364757070341,
          0.03843364757070341,
          0.03988397389412618,
          0.03988397389412618,
          0.04060913705583756,
          0.04060913705583756,
          0.04278462654097172,
          0.04278462654097172,
          0.04423495286439449,
          0.04423495286439449,
          0.05366207396664249,
          0.05366207396664249,
          0.05438723712835388,
          0.05438723712835388,
          0.05946337926033358,
          0.05946337926033358,
          0.06236403190717912,
          0.06236403190717912,
          0.06671501087744743,
          0.06671501087744743,
          0.0674401740391588,
          0.0674401740391588,
          0.0681653372008702,
          0.0681653372008702,
          0.07324147933284988,
          0.07324147933284988,
          0.08484408992023205,
          0.08484408992023205,
          0.0877447425670776,
          0.0877447425670776,
          0.08919506889050036,
          0.08919506889050036,
          0.09209572153734591,
          0.09209572153734591,
          0.09934735315445975,
          0.09934735315445975,
          0.10007251631617115,
          0.10007251631617115,
          0.10079767947788253,
          0.10079767947788253,
          0.10224800580130529,
          0.10224800580130529,
          0.10442349528643945,
          0.10442349528643945,
          0.10732414793328499,
          0.10732414793328499,
          0.11094996374184192,
          0.11094996374184192,
          0.11240029006526468,
          0.11240029006526468,
          0.11312545322697606,
          0.11312545322697606,
          0.11602610587382162,
          0.11602610587382162,
          0.11965192168237854,
          0.11965192168237854,
          0.12327773749093546,
          0.12327773749093546,
          0.126178390137781,
          0.126178390137781,
          0.12762871646120377,
          0.12762871646120377,
          0.1312545322697607,
          0.1312545322697607,
          0.1319796954314721,
          0.1319796954314721,
          0.13270485859318346,
          0.13270485859318346,
          0.13850616388687453,
          0.13850616388687453,
          0.13995649021029732,
          0.13995649021029732,
          0.1414068165337201,
          0.1414068165337201,
          0.14648295866569977,
          0.14648295866569977,
          0.14938361131254532,
          0.14938361131254532,
          0.15010877447425672,
          0.15010877447425672,
          0.15083393763596809,
          0.15083393763596809,
          0.15155910079767948,
          0.15155910079767948,
          0.15373459028281364,
          0.15373459028281364,
          0.154459753444525,
          0.154459753444525,
          0.1551849166062364,
          0.1551849166062364,
          0.1602610587382161,
          0.1602610587382161,
          0.16678752719361856,
          0.16678752719361856,
          0.17186366932559827,
          0.17186366932559827,
          0.17766497461928935,
          0.17766497461928935,
          0.1798404641044235,
          0.1798404641044235,
          0.1885424220449601,
          0.1885424220449601,
          0.19361856417693982,
          0.19361856417693982,
          0.1986947063089195,
          0.1986947063089195,
          0.20449601160261058,
          0.20449601160261058,
          0.2088469905728789,
          0.2088469905728789,
          0.2095721537345903,
          0.2095721537345903,
          0.22044960116026105,
          0.22044960116026105,
          0.23567802755620015,
          0.23567802755620015,
          0.25090645395213923,
          0.25090645395213923,
          0.25525743292240755,
          0.25525743292240755,
          0.2683103698332125,
          0.2683103698332125,
          0.27338651196519215,
          0.27338651196519215,
          0.28426395939086296,
          0.28426395939086296,
          0.2871646120377085,
          0.2871646120377085,
          0.2893401015228426,
          0.2893401015228426,
          0.29369108049311093,
          0.29369108049311093,
          0.3067440174039159,
          0.3067440174039159,
          0.3147208121827411,
          0.3147208121827411,
          0.3197969543147208,
          0.3197969543147208,
          0.3299492385786802,
          0.3299492385786802,
          0.3321247280638144,
          0.3321247280638144,
          0.3335750543872371,
          0.3335750543872371,
          0.33720087019579403,
          0.33720087019579403,
          0.3393763596809282,
          0.3393763596809282,
          0.34807831762146485,
          0.34807831762146485,
          0.3546047860768673,
          0.3546047860768673,
          0.36258158085569253,
          0.36258158085569253,
          0.3770848440899202,
          0.3770848440899202,
          0.38071065989847713,
          0.38071065989847713,
          0.40609137055837563,
          0.40609137055837563,
          0.40899202320522116,
          0.40899202320522116,
          0.4176939811457578,
          0.4176939811457578,
          0.42857142857142855,
          0.42857142857142855,
          0.4372733865119652,
          0.4372733865119652,
          0.43872371283538797,
          0.43872371283538797,
          0.4510514865844815,
          0.4510514865844815,
          0.45540246555474984,
          0.45540246555474984,
          0.46410442349528647,
          0.46410442349528647,
          0.48295866569978246,
          0.48295866569978246,
          0.4865844815083394,
          0.4865844815083394,
          0.4902102973168963,
          0.4902102973168963,
          0.4909354604786077,
          0.4909354604786077,
          0.4938361131254532,
          0.4938361131254532,
          0.49746192893401014,
          0.49746192893401014,
          0.5003625815808557,
          0.5003625815808557,
          0.5163161711385061,
          0.5163161711385061,
          0.5387962291515591,
          0.5387962291515591,
          0.5409717186366932,
          0.5409717186366932,
          0.5416968817984047,
          0.5416968817984047,
          0.546047860768673,
          0.546047860768673,
          0.5503988397389412,
          0.5503988397389412,
          0.5808556925308195,
          0.5808556925308195,
          0.6069615663524293,
          0.6069615663524293,
          0.6113125453226976,
          0.6113125453226976,
          0.6163886874546773,
          0.6163886874546773,
          0.6424945612762871,
          0.6424945612762871,
          0.6700507614213198,
          0.6700507614213198,
          0.6896301667875272,
          0.6896301667875272,
          0.6976069615663524,
          0.6976069615663524,
          0.7084844089920233,
          0.7084844089920233,
          0.7244379985496737,
          0.7244379985496737,
          0.7251631617113851,
          0.7251631617113851,
          0.7556200145032632,
          0.7556200145032632,
          0.78535170413343,
          0.78535170413343,
          0.7875271936185642,
          0.7875271936185642,
          0.8266860043509789,
          0.8266860043509789,
          0.860768672951414,
          0.860768672951414,
          0.9912980420594634,
          0.9912980420594634,
          1
         ],
         "y": [
          0,
          0.006024096385542169,
          0.018072289156626505,
          0.018072289156626505,
          0.024096385542168676,
          0.024096385542168676,
          0.04216867469879518,
          0.04216867469879518,
          0.060240963855421686,
          0.060240963855421686,
          0.06626506024096386,
          0.06626506024096386,
          0.07228915662650602,
          0.07228915662650602,
          0.08433734939759036,
          0.08433734939759036,
          0.09036144578313253,
          0.09036144578313253,
          0.0963855421686747,
          0.0963855421686747,
          0.12048192771084337,
          0.12048192771084337,
          0.12650602409638553,
          0.12650602409638553,
          0.13253012048192772,
          0.13253012048192772,
          0.13855421686746988,
          0.13855421686746988,
          0.1566265060240964,
          0.1566265060240964,
          0.16265060240963855,
          0.16265060240963855,
          0.1746987951807229,
          0.1746987951807229,
          0.18072289156626506,
          0.18072289156626506,
          0.1927710843373494,
          0.1927710843373494,
          0.19879518072289157,
          0.19879518072289157,
          0.20481927710843373,
          0.20481927710843373,
          0.21084337349397592,
          0.21084337349397592,
          0.21686746987951808,
          0.21686746987951808,
          0.22289156626506024,
          0.22289156626506024,
          0.2289156626506024,
          0.2289156626506024,
          0.24096385542168675,
          0.24096385542168675,
          0.2469879518072289,
          0.2469879518072289,
          0.25301204819277107,
          0.25301204819277107,
          0.25903614457831325,
          0.25903614457831325,
          0.26506024096385544,
          0.26506024096385544,
          0.2710843373493976,
          0.2710843373493976,
          0.27710843373493976,
          0.27710843373493976,
          0.2891566265060241,
          0.2891566265060241,
          0.30120481927710846,
          0.30120481927710846,
          0.3072289156626506,
          0.3072289156626506,
          0.3192771084337349,
          0.3192771084337349,
          0.3253012048192771,
          0.3253012048192771,
          0.3313253012048193,
          0.3313253012048193,
          0.3373493975903614,
          0.3373493975903614,
          0.3433734939759036,
          0.3433734939759036,
          0.3493975903614458,
          0.3493975903614458,
          0.35542168674698793,
          0.35542168674698793,
          0.3614457831325301,
          0.3614457831325301,
          0.3674698795180723,
          0.3674698795180723,
          0.3795180722891566,
          0.3795180722891566,
          0.3855421686746988,
          0.3855421686746988,
          0.39156626506024095,
          0.39156626506024095,
          0.39759036144578314,
          0.39759036144578314,
          0.4036144578313253,
          0.4036144578313253,
          0.40963855421686746,
          0.40963855421686746,
          0.41566265060240964,
          0.41566265060240964,
          0.42168674698795183,
          0.42168674698795183,
          0.42771084337349397,
          0.42771084337349397,
          0.43373493975903615,
          0.43373493975903615,
          0.4457831325301205,
          0.4457831325301205,
          0.45180722891566266,
          0.45180722891566266,
          0.4578313253012048,
          0.4578313253012048,
          0.463855421686747,
          0.463855421686747,
          0.46987951807228917,
          0.46987951807228917,
          0.4819277108433735,
          0.4819277108433735,
          0.4879518072289157,
          0.4879518072289157,
          0.4939759036144578,
          0.4939759036144578,
          0.5060240963855421,
          0.5060240963855421,
          0.5120481927710844,
          0.5120481927710844,
          0.5180722891566265,
          0.5180722891566265,
          0.5240963855421686,
          0.5240963855421686,
          0.5301204819277109,
          0.5301204819277109,
          0.5481927710843374,
          0.5481927710843374,
          0.5542168674698795,
          0.5542168674698795,
          0.5602409638554217,
          0.5602409638554217,
          0.5662650602409639,
          0.5662650602409639,
          0.572289156626506,
          0.572289156626506,
          0.5783132530120482,
          0.5783132530120482,
          0.5843373493975904,
          0.5843373493975904,
          0.5903614457831325,
          0.5903614457831325,
          0.5963855421686747,
          0.5963855421686747,
          0.608433734939759,
          0.608433734939759,
          0.6144578313253012,
          0.6144578313253012,
          0.6204819277108434,
          0.6204819277108434,
          0.6265060240963856,
          0.6265060240963856,
          0.6325301204819277,
          0.6325301204819277,
          0.6385542168674698,
          0.6385542168674698,
          0.6445783132530121,
          0.6445783132530121,
          0.6506024096385542,
          0.6506024096385542,
          0.6566265060240963,
          0.6566265060240963,
          0.6626506024096386,
          0.6626506024096386,
          0.6686746987951807,
          0.6686746987951807,
          0.6746987951807228,
          0.6746987951807228,
          0.6807228915662651,
          0.6807228915662651,
          0.6867469879518072,
          0.6867469879518072,
          0.6927710843373494,
          0.6927710843373494,
          0.7048192771084337,
          0.7048192771084337,
          0.7108433734939759,
          0.7108433734939759,
          0.7168674698795181,
          0.7168674698795181,
          0.7228915662650602,
          0.7228915662650602,
          0.7289156626506024,
          0.7289156626506024,
          0.7349397590361446,
          0.7349397590361446,
          0.7409638554216867,
          0.7409638554216867,
          0.7469879518072289,
          0.7469879518072289,
          0.7650602409638554,
          0.7650602409638554,
          0.7710843373493976,
          0.7710843373493976,
          0.7771084337349398,
          0.7771084337349398,
          0.7831325301204819,
          0.7831325301204819,
          0.7891566265060241,
          0.7891566265060241,
          0.7951807228915663,
          0.7951807228915663,
          0.8012048192771084,
          0.8012048192771084,
          0.8072289156626506,
          0.8072289156626506,
          0.8132530120481928,
          0.8132530120481928,
          0.8192771084337349,
          0.8192771084337349,
          0.8253012048192772,
          0.8253012048192772,
          0.8313253012048193,
          0.8313253012048193,
          0.8373493975903614,
          0.8373493975903614,
          0.8433734939759037,
          0.8433734939759037,
          0.8493975903614458,
          0.8493975903614458,
          0.8554216867469879,
          0.8554216867469879,
          0.8614457831325302,
          0.8614457831325302,
          0.8734939759036144,
          0.8734939759036144,
          0.8795180722891566,
          0.8795180722891566,
          0.8855421686746988,
          0.8855421686746988,
          0.891566265060241,
          0.891566265060241,
          0.9036144578313253,
          0.9036144578313253,
          0.9096385542168675,
          0.9096385542168675,
          0.9156626506024096,
          0.9156626506024096,
          0.9216867469879518,
          0.9216867469879518,
          0.927710843373494,
          0.927710843373494,
          0.9337349397590361,
          0.9337349397590361,
          0.9397590361445783,
          0.9397590361445783,
          0.9457831325301205,
          0.9457831325301205,
          0.9578313253012049,
          0.9578313253012049,
          0.963855421686747,
          0.963855421686747,
          0.9698795180722891,
          0.9698795180722891,
          0.9759036144578314,
          0.9759036144578314,
          0.9819277108433735,
          0.9819277108433735,
          0.9879518072289156,
          0.9879518072289156,
          0.9939759036144579,
          0.9939759036144579,
          1,
          1
         ]
        },
        {
         "mode": "lines",
         "name": "Scikit-Learn Gradient Boosting",
         "type": "scatter",
         "x": [
          0,
          0.0007251631617113851,
          0.0007251631617113851,
          0.002175489485134155,
          0.002175489485134155,
          0.0029006526468455403,
          0.0029006526468455403,
          0.005801305293691081,
          0.005801305293691081,
          0.006526468455402465,
          0.006526468455402465,
          0.00870195794053662,
          0.00870195794053662,
          0.009427121102248005,
          0.009427121102248005,
          0.01015228426395939,
          0.011602610587382161,
          0.01305293691080493,
          0.01305293691080493,
          0.013778100072516316,
          0.013778100072516316,
          0.014503263234227702,
          0.014503263234227702,
          0.015228426395939087,
          0.016678752719361856,
          0.016678752719361856,
          0.019579405366207395,
          0.019579405366207395,
          0.022480058013052938,
          0.023205221174764323,
          0.023205221174764323,
          0.023930384336475707,
          0.025380710659898477,
          0.030456852791878174,
          0.03190717911530094,
          0.03190717911530094,
          0.03335750543872371,
          0.03335750543872371,
          0.03698332124728064,
          0.03698332124728064,
          0.03915881073241479,
          0.04133430021754895,
          0.04205946337926034,
          0.043509789702683106,
          0.043509789702683106,
          0.04423495286439449,
          0.04423495286439449,
          0.04568527918781726,
          0.04713560551124003,
          0.048585931834662796,
          0.048585931834662796,
          0.05003625815808557,
          0.05221174764321972,
          0.05221174764321972,
          0.05511240029006526,
          0.05511240029006526,
          0.06018854242204496,
          0.06091370558375635,
          0.0630891950688905,
          0.06381435823060189,
          0.06526468455402465,
          0.07034082668600435,
          0.07179115300942712,
          0.0725163161711385,
          0.0725163161711385,
          0.07396664249456128,
          0.07396664249456128,
          0.07686729514140682,
          0.0775924583031182,
          0.0775924583031182,
          0.07831762146482958,
          0.07976794778825236,
          0.07976794778825236,
          0.08411892675852067,
          0.08411892675852067,
          0.08484408992023205,
          0.08484408992023205,
          0.0877447425670776,
          0.0877447425670776,
          0.08919506889050036,
          0.09137055837563451,
          0.09427121102248005,
          0.09572153734590283,
          0.09644670050761421,
          0.09789702683103699,
          0.09789702683103699,
          0.10079767947788253,
          0.10079767947788253,
          0.10152284263959391,
          0.10224800580130529,
          0.10514865844815083,
          0.10877447425670776,
          0.11094996374184192,
          0.11312545322697606,
          0.1312545322697607,
          0.1319796954314721,
          0.1319796954314721,
          0.13270485859318346,
          0.13270485859318346,
          0.1348803480783176,
          0.1363306744017404,
          0.13705583756345177,
          0.1414068165337201,
          0.14213197969543148,
          0.14285714285714285,
          0.14285714285714285,
          0.145032632342277,
          0.145032632342277,
          0.14865844815083393,
          0.15155910079767948,
          0.15228426395939088,
          0.15373459028281364,
          0.154459753444525,
          0.1559100797679478,
          0.15881073241479332,
          0.1602610587382161,
          0.16243654822335024,
          0.16243654822335024,
          0.1646120377084844,
          0.1646120377084844,
          0.1653372008701958,
          0.1660623640319072,
          0.16823785351704135,
          0.16823785351704135,
          0.16896301667875271,
          0.17693981145757795,
          0.17766497461928935,
          0.17766497461928935,
          0.18056562726613487,
          0.18129079042784627,
          0.18201595358955766,
          0.18274111675126903,
          0.18419144307469182,
          0.18636693255982595,
          0.18709209572153734,
          0.18781725888324874,
          0.19434372733865118,
          0.19724437998549674,
          0.19796954314720813,
          0.2001450326323423,
          0.20087019579405366,
          0.20087019579405366,
          0.20522117476432197,
          0.20739666424945613,
          0.2095721537345903,
          0.2131979695431472,
          0.2139231327048586,
          0.21972443799854968,
          0.21972443799854968,
          0.23205221174764323,
          0.233502538071066,
          0.233502538071066,
          0.23495286439448876,
          0.23640319071791152,
          0.2378535170413343,
          0.24002900652646847,
          0.24147933284989123,
          0.24510514865844815,
          0.2472806381435823,
          0.24873096446700507,
          0.2516316171138506,
          0.252356780275562,
          0.25525743292240755,
          0.25598259608411894,
          0.2574329224075417,
          0.25815808556925307,
          0.2625090645395214,
          0.2632342277012328,
          0.2675852066715011,
          0.2675852066715011,
          0.2683103698332125,
          0.2683103698332125,
          0.26903553299492383,
          0.27338651196519215,
          0.27556200145032633,
          0.27556200145032633,
          0.27773749093546046,
          0.27846265409717186,
          0.28063814358230604,
          0.2813633067440174,
          0.28426395939086296,
          0.2878897751994199,
          0.2878897751994199,
          0.2922407541696882,
          0.29441624365482233,
          0.2951414068165337,
          0.29804205946337925,
          0.29876722262509064,
          0.29876722262509064,
          0.30021754894851344,
          0.3009427121102248,
          0.30239303843364757,
          0.30311820159535896,
          0.30456852791878175,
          0.3060188542422045,
          0.3060188542422045,
          0.3074691805656273,
          0.3074691805656273,
          0.3110949963741842,
          0.3118201595358956,
          0.31689630166787525,
          0.3263234227701233,
          0.32849891225525746,
          0.3299492385786802,
          0.3321247280638144,
          0.3321247280638144,
          0.3328498912255257,
          0.3328498912255257,
          0.3357505438723713,
          0.33792603335750543,
          0.3386511965192168,
          0.3386511965192168,
          0.3401015228426396,
          0.34227701232777374,
          0.34300217548948514,
          0.34445250181290793,
          0.34517766497461927,
          0.34517766497461927,
          0.34590282813633066,
          0.34662799129804206,
          0.34735315445975345,
          0.3575054387237128,
          0.36185641769398114,
          0.36475707034082666,
          0.36693255982596085,
          0.369108049311095,
          0.3821609862218999,
          0.3836113125453227,
          0.3843364757070341,
          0.38506163886874545,
          0.38651196519216824,
          0.38651196519216824,
          0.38796229151559103,
          0.38941261783901376,
          0.39013778100072516,
          0.40609137055837563,
          0.406816533720087,
          0.40971718636693255,
          0.41189267585206674,
          0.41334300217548947,
          0.41479332849891226,
          0.4242204496011603,
          0.42929659173313994,
          0.43074691805656273,
          0.43292240754169686,
          0.43509789702683105,
          0.4379985496736766,
          0.43872371283538797,
          0.44017403915881076,
          0.4423495286439449,
          0.4459753444525018,
          0.448150833937636,
          0.44960116026105873,
          0.4517766497461929,
          0.45322697606961565,
          0.45322697606961565,
          0.45467730239303844,
          0.45830311820159536,
          0.4612037708484409,
          0.4626540971718637,
          0.4626540971718637,
          0.4699057287889775,
          0.4713560551124003,
          0.47425670775924583,
          0.4757070340826686,
          0.47715736040609136,
          0.4815083393763597,
          0.4815083393763597,
          0.4844089920232052,
          0.4851341551849166,
          0.4916606236403191,
          0.4960116026105874,
          0.49963741841914433,
          0.5010877447425671,
          0.5032632342277013,
          0.5112400290065264,
          0.514140681653372,
          0.5148658448150834,
          0.5163161711385061,
          0.5170413343002176,
          0.5221174764321972,
          0.5250181290790428,
          0.5257432922407542,
          0.5271936185641769,
          0.5286439448875997,
          0.5308194343727338,
          0.5344452501812907,
          0.5351704133430022,
          0.536620739666425,
          0.5380710659898477,
          0.5409717186366932,
          0.542422044960116,
          0.5438723712835388,
          0.5445975344452502,
          0.5445975344452502,
          0.5453226976069616,
          0.5467730239303843,
          0.5641769398114576,
          0.564902102973169,
          0.5663524292965917,
          0.5685279187817259,
          0.5707034082668601,
          0.5728788977519942,
          0.5757795503988398,
          0.5786802030456852,
          0.580130529369108,
          0.5859318346627991,
          0.5873821609862219,
          0.5888324873096447,
          0.6018854242204495,
          0.602610587382161,
          0.6076867295141407,
          0.6127628716461204,
          0.6156635242929659,
          0.6178390137781,
          0.6192893401015228,
          0.6200145032632343,
          0.6207396664249456,
          0.621464829586657,
          0.621464829586657,
          0.6272661348803481,
          0.6287164612037709,
          0.6359680928208847,
          0.6366932559825961,
          0.6388687454677302,
          0.640319071791153,
          0.6410442349528644,
          0.6424945612762871,
          0.6446700507614214,
          0.6504713560551124,
          0.6519216823785352,
          0.6540971718636693,
          0.6555474981870921,
          0.662799129804206,
          0.6642494561276288,
          0.6649746192893401,
          0.6649746192893401,
          0.6656997824510514,
          0.6678752719361857,
          0.668600435097897,
          0.6707759245830311,
          0.6751269035532995,
          0.678027556200145,
          0.6794778825235678,
          0.6845540246555475,
          0.6867295141406816,
          0.6881798404641044,
          0.6896301667875272,
          0.69108049311095,
          0.6976069615663524,
          0.7012327773749093,
          0.7041334300217549,
          0.7048585931834663,
          0.7099347353154459,
          0.7113850616388687,
          0.7121102248005802,
          0.7171863669325598,
          0.7186366932559826,
          0.719361856417694,
          0.7208121827411168,
          0.7266134880348079,
          0.7280638143582306,
          0.7302393038433648,
          0.7324147933284989,
          0.7338651196519217,
          0.7374909354604786,
          0.7389412617839014,
          0.7425670775924583,
          0.7432922407541697,
          0.7432922407541697,
          0.7447425670775925,
          0.747643219724438,
          0.7498187092095722,
          0.7541696881798404,
          0.7556200145032632,
          0.7585206671501088,
          0.7628716461203771,
          0.7643219724437998,
          0.7657722987672226,
          0.7679477882523568,
          0.7708484408992023,
          0.7715736040609137,
          0.7737490935460478,
          0.7751994198694706,
          0.7773749093546047,
          0.7788252356780275,
          0.7868020304568528,
          0.788977519941987,
          0.7897026831036983,
          0.7911530094271211,
          0.7911530094271211,
          0.7933284989122552,
          0.7955039883973894,
          0.7969543147208121,
          0.7976794778825236,
          0.7991298042059464,
          0.8027556200145033,
          0.8042059463379261,
          0.8085569253081943,
          0.8121827411167513,
          0.8158085569253082,
          0.8165337200870196,
          0.8179840464104423,
          0.8201595358955766,
          0.823060188542422,
          0.8237853517041335,
          0.8310369833212473,
          0.8317621464829587,
          0.8339376359680928,
          0.8346627991298042,
          0.8411892675852066,
          0.8419144307469181,
          0.8520667150108775,
          0.854967367657723,
          0.8571428571428571,
          0.8578680203045685,
          0.8593183466279913,
          0.8774474256707759,
          0.8803480783176215,
          0.8810732414793329,
          0.8839738941261784,
          0.8846990572878898,
          0.892675852066715,
          0.8934010152284264,
          0.8984771573604061,
          0.9013778100072516,
          0.9071791153009428,
          0.9079042784626541,
          0.9093546047860769,
          0.9158810732414794,
          0.9166062364031907,
          0.9325598259608412,
          0.9332849891225525,
          0.9405366207396664,
          0.9412617839013778,
          0.9419869470630892,
          0.9608411892675852,
          0.9615663524292966,
          0.9637418419144308,
          0.9709934735315446,
          0.9724437998549673,
          0.977519941986947,
          0.9912980420594634,
          0.9956490210297317,
          0.9970993473531544,
          0.9978245105148659,
          1
         ],
         "y": [
          0,
          0,
          0.018072289156626505,
          0.018072289156626505,
          0.024096385542168676,
          0.024096385542168676,
          0.04216867469879518,
          0.04216867469879518,
          0.04819277108433735,
          0.04819277108433735,
          0.06626506024096386,
          0.06626506024096386,
          0.07228915662650602,
          0.07228915662650602,
          0.08433734939759036,
          0.08433734939759036,
          0.09036144578313253,
          0.09036144578313253,
          0.0963855421686747,
          0.0963855421686747,
          0.10240963855421686,
          0.10240963855421686,
          0.10843373493975904,
          0.10843373493975904,
          0.10843373493975904,
          0.1144578313253012,
          0.1144578313253012,
          0.12650602409638553,
          0.12650602409638553,
          0.13253012048192772,
          0.13855421686746988,
          0.13855421686746988,
          0.14457831325301204,
          0.14457831325301204,
          0.14457831325301204,
          0.1566265060240964,
          0.1566265060240964,
          0.16265060240963855,
          0.16265060240963855,
          0.1746987951807229,
          0.18072289156626506,
          0.18072289156626506,
          0.18674698795180722,
          0.18674698795180722,
          0.19879518072289157,
          0.19879518072289157,
          0.20481927710843373,
          0.20481927710843373,
          0.20481927710843373,
          0.20481927710843373,
          0.22289156626506024,
          0.22289156626506024,
          0.22289156626506024,
          0.2289156626506024,
          0.2289156626506024,
          0.24096385542168675,
          0.24096385542168675,
          0.2469879518072289,
          0.25903614457831325,
          0.25903614457831325,
          0.25903614457831325,
          0.25903614457831325,
          0.25903614457831325,
          0.25903614457831325,
          0.26506024096385544,
          0.26506024096385544,
          0.2710843373493976,
          0.2710843373493976,
          0.2710843373493976,
          0.28313253012048195,
          0.28313253012048195,
          0.28313253012048195,
          0.2891566265060241,
          0.2891566265060241,
          0.29518072289156627,
          0.29518072289156627,
          0.30120481927710846,
          0.30120481927710846,
          0.3072289156626506,
          0.3072289156626506,
          0.3072289156626506,
          0.3192771084337349,
          0.3192771084337349,
          0.3253012048192771,
          0.3253012048192771,
          0.3433734939759036,
          0.3433734939759036,
          0.3614457831325301,
          0.3614457831325301,
          0.3674698795180723,
          0.3674698795180723,
          0.3674698795180723,
          0.3855421686746988,
          0.3855421686746988,
          0.43373493975903615,
          0.43373493975903615,
          0.45180722891566266,
          0.45180722891566266,
          0.4578313253012048,
          0.4578313253012048,
          0.4578313253012048,
          0.463855421686747,
          0.463855421686747,
          0.46987951807228917,
          0.46987951807228917,
          0.4759036144578313,
          0.4759036144578313,
          0.4819277108433735,
          0.4819277108433735,
          0.4819277108433735,
          0.4819277108433735,
          0.4879518072289157,
          0.4879518072289157,
          0.4879518072289157,
          0.4939759036144578,
          0.4939759036144578,
          0.4939759036144578,
          0.5,
          0.5,
          0.5120481927710844,
          0.5120481927710844,
          0.5180722891566265,
          0.5180722891566265,
          0.5240963855421686,
          0.5240963855421686,
          0.536144578313253,
          0.536144578313253,
          0.5421686746987951,
          0.5481927710843374,
          0.5481927710843374,
          0.5542168674698795,
          0.5542168674698795,
          0.5542168674698795,
          0.5542168674698795,
          0.5602409638554217,
          0.572289156626506,
          0.572289156626506,
          0.572289156626506,
          0.572289156626506,
          0.572289156626506,
          0.572289156626506,
          0.5783132530120482,
          0.5783132530120482,
          0.5843373493975904,
          0.5843373493975904,
          0.5843373493975904,
          0.5843373493975904,
          0.5843373493975904,
          0.5903614457831325,
          0.5963855421686747,
          0.5963855421686747,
          0.6024096385542169,
          0.6024096385542169,
          0.6024096385542169,
          0.6024096385542169,
          0.6024096385542169,
          0.6024096385542169,
          0.6024096385542169,
          0.6024096385542169,
          0.6024096385542169,
          0.6024096385542169,
          0.6024096385542169,
          0.608433734939759,
          0.608433734939759,
          0.608433734939759,
          0.608433734939759,
          0.6144578313253012,
          0.6144578313253012,
          0.6144578313253012,
          0.6204819277108434,
          0.6204819277108434,
          0.6265060240963856,
          0.6325301204819277,
          0.6325301204819277,
          0.6325301204819277,
          0.6385542168674698,
          0.6385542168674698,
          0.6445783132530121,
          0.6445783132530121,
          0.6445783132530121,
          0.6445783132530121,
          0.6445783132530121,
          0.6506024096385542,
          0.6506024096385542,
          0.6506024096385542,
          0.6506024096385542,
          0.6566265060240963,
          0.6566265060240963,
          0.6686746987951807,
          0.6686746987951807,
          0.6686746987951807,
          0.6686746987951807,
          0.6686746987951807,
          0.6686746987951807,
          0.6686746987951807,
          0.6746987951807228,
          0.6746987951807228,
          0.6807228915662651,
          0.6807228915662651,
          0.6867469879518072,
          0.6867469879518072,
          0.6867469879518072,
          0.6867469879518072,
          0.6867469879518072,
          0.6867469879518072,
          0.6987951807228916,
          0.7048192771084337,
          0.7108433734939759,
          0.7108433734939759,
          0.7168674698795181,
          0.7168674698795181,
          0.7349397590361446,
          0.7349397590361446,
          0.7349397590361446,
          0.7349397590361446,
          0.7349397590361446,
          0.7349397590361446,
          0.7409638554216867,
          0.7409638554216867,
          0.7469879518072289,
          0.7469879518072289,
          0.7590361445783133,
          0.7590361445783133,
          0.7590361445783133,
          0.7590361445783133,
          0.7590361445783133,
          0.7590361445783133,
          0.7590361445783133,
          0.7650602409638554,
          0.7650602409638554,
          0.7771084337349398,
          0.7831325301204819,
          0.7831325301204819,
          0.7831325301204819,
          0.7831325301204819,
          0.8012048192771084,
          0.8012048192771084,
          0.8012048192771084,
          0.8012048192771084,
          0.8012048192771084,
          0.8012048192771084,
          0.8072289156626506,
          0.8072289156626506,
          0.8072289156626506,
          0.8072289156626506,
          0.8132530120481928,
          0.8132530120481928,
          0.8132530120481928,
          0.8132530120481928,
          0.8253012048192772,
          0.8253012048192772,
          0.8253012048192772,
          0.8253012048192772,
          0.8253012048192772,
          0.8253012048192772,
          0.8313253012048193,
          0.8313253012048193,
          0.8313253012048193,
          0.8313253012048193,
          0.8313253012048193,
          0.8373493975903614,
          0.8373493975903614,
          0.8373493975903614,
          0.8373493975903614,
          0.8373493975903614,
          0.8373493975903614,
          0.8373493975903614,
          0.8433734939759037,
          0.8493975903614458,
          0.8493975903614458,
          0.8614457831325302,
          0.8614457831325302,
          0.8674698795180723,
          0.8674698795180723,
          0.8674698795180723,
          0.8855421686746988,
          0.8855421686746988,
          0.8855421686746988,
          0.891566265060241,
          0.891566265060241,
          0.891566265060241,
          0.891566265060241,
          0.891566265060241,
          0.891566265060241,
          0.891566265060241,
          0.891566265060241,
          0.891566265060241,
          0.891566265060241,
          0.891566265060241,
          0.891566265060241,
          0.891566265060241,
          0.891566265060241,
          0.891566265060241,
          0.891566265060241,
          0.8975903614457831,
          0.8975903614457831,
          0.8975903614457831,
          0.8975903614457831,
          0.8975903614457831,
          0.8975903614457831,
          0.8975903614457831,
          0.8975903614457831,
          0.8975903614457831,
          0.8975903614457831,
          0.8975903614457831,
          0.8975903614457831,
          0.8975903614457831,
          0.9036144578313253,
          0.9036144578313253,
          0.9036144578313253,
          0.9096385542168675,
          0.9156626506024096,
          0.9156626506024096,
          0.9156626506024096,
          0.9156626506024096,
          0.9156626506024096,
          0.9156626506024096,
          0.9216867469879518,
          0.9216867469879518,
          0.927710843373494,
          0.927710843373494,
          0.927710843373494,
          0.927710843373494,
          0.927710843373494,
          0.927710843373494,
          0.927710843373494,
          0.9337349397590361,
          0.9337349397590361,
          0.9337349397590361,
          0.9337349397590361,
          0.9337349397590361,
          0.9337349397590361,
          0.9337349397590361,
          0.9337349397590361,
          0.9337349397590361,
          0.9337349397590361,
          0.9397590361445783,
          0.9397590361445783,
          0.9397590361445783,
          0.9397590361445783,
          0.9397590361445783,
          0.9397590361445783,
          0.9397590361445783,
          0.9397590361445783,
          0.9397590361445783,
          0.9397590361445783,
          0.9397590361445783,
          0.9397590361445783,
          0.9397590361445783,
          0.9397590361445783,
          0.9397590361445783,
          0.9397590361445783,
          0.9397590361445783,
          0.9397590361445783,
          0.9397590361445783,
          0.9457831325301205,
          0.9457831325301205,
          0.9457831325301205,
          0.9457831325301205,
          0.9457831325301205,
          0.9457831325301205,
          0.9457831325301205,
          0.9457831325301205,
          0.9457831325301205,
          0.9457831325301205,
          0.9457831325301205,
          0.9457831325301205,
          0.9457831325301205,
          0.9457831325301205,
          0.9518072289156626,
          0.9518072289156626,
          0.9518072289156626,
          0.9518072289156626,
          0.9518072289156626,
          0.9518072289156626,
          0.9518072289156626,
          0.9518072289156626,
          0.9518072289156626,
          0.9518072289156626,
          0.9518072289156626,
          0.9518072289156626,
          0.9518072289156626,
          0.9518072289156626,
          0.9518072289156626,
          0.9518072289156626,
          0.9518072289156626,
          0.9518072289156626,
          0.9518072289156626,
          0.9518072289156626,
          0.9518072289156626,
          0.9578313253012049,
          0.9578313253012049,
          0.9578313253012049,
          0.9578313253012049,
          0.9578313253012049,
          0.9578313253012049,
          0.9578313253012049,
          0.9578313253012049,
          0.9578313253012049,
          0.963855421686747,
          0.963855421686747,
          0.963855421686747,
          0.963855421686747,
          0.963855421686747,
          0.963855421686747,
          0.963855421686747,
          0.963855421686747,
          0.963855421686747,
          0.9698795180722891,
          0.9698795180722891,
          0.9698795180722891,
          0.9698795180722891,
          0.9698795180722891,
          0.9698795180722891,
          0.9698795180722891,
          0.9698795180722891,
          0.9698795180722891,
          0.9759036144578314,
          0.9759036144578314,
          0.9759036144578314,
          0.9759036144578314,
          0.9759036144578314,
          0.9819277108433735,
          0.9819277108433735,
          0.9879518072289156,
          0.9879518072289156,
          0.9879518072289156,
          0.9879518072289156,
          0.9879518072289156,
          0.9939759036144579,
          0.9939759036144579,
          0.9939759036144579,
          0.9939759036144579,
          0.9939759036144579,
          1,
          1,
          1,
          1,
          1,
          1,
          1,
          1,
          1,
          1,
          1,
          1,
          1
         ]
        },
        {
         "mode": "lines",
         "name": "XGBoost",
         "type": "scatter",
         "x": [
          0,
          0.0007251631617113851,
          0.0007251631617113851,
          0.0014503263234227702,
          0.0014503263234227702,
          0.002175489485134155,
          0.002175489485134155,
          0.0036258158085569255,
          0.0036258158085569255,
          0.005076142131979695,
          0.005076142131979695,
          0.005801305293691081,
          0.005801305293691081,
          0.006526468455402465,
          0.006526468455402465,
          0.007251631617113851,
          0.007251631617113851,
          0.013778100072516316,
          0.013778100072516316,
          0.01740391588107324,
          0.01740391588107324,
          0.01885424220449601,
          0.01885424220449601,
          0.02030456852791878,
          0.02030456852791878,
          0.021754894851341553,
          0.021754894851341553,
          0.023205221174764323,
          0.023205221174764323,
          0.025380710659898477,
          0.025380710659898477,
          0.02610587382160986,
          0.02610587382160986,
          0.02973168963016679,
          0.02973168963016679,
          0.030456852791878174,
          0.030456852791878174,
          0.03190717911530094,
          0.03190717911530094,
          0.032632342277012324,
          0.032632342277012324,
          0.03335750543872371,
          0.03335750543872371,
          0.0340826686004351,
          0.0340826686004351,
          0.03843364757070341,
          0.03843364757070341,
          0.04060913705583756,
          0.04060913705583756,
          0.04133430021754895,
          0.04133430021754895,
          0.04205946337926034,
          0.04205946337926034,
          0.04423495286439449,
          0.04423495286439449,
          0.044960116026105876,
          0.044960116026105876,
          0.046410442349528645,
          0.046410442349528645,
          0.047860768672951415,
          0.047860768672951415,
          0.05583756345177665,
          0.05583756345177665,
          0.05801305293691081,
          0.05801305293691081,
          0.05946337926033358,
          0.05946337926033358,
          0.06018854242204496,
          0.06018854242204496,
          0.06381435823060189,
          0.06381435823060189,
          0.06598984771573604,
          0.06598984771573604,
          0.0725163161711385,
          0.0725163161711385,
          0.07686729514140682,
          0.07686729514140682,
          0.0775924583031182,
          0.0775924583031182,
          0.07831762146482958,
          0.07831762146482958,
          0.08049311094996374,
          0.08049311094996374,
          0.08121827411167512,
          0.08121827411167512,
          0.08194343727338652,
          0.08194343727338652,
          0.08629441624365482,
          0.08629441624365482,
          0.0877447425670776,
          0.0877447425670776,
          0.09572153734590283,
          0.09572153734590283,
          0.09862218999274837,
          0.09862218999274837,
          0.10224800580130529,
          0.10224800580130529,
          0.1065989847715736,
          0.1065989847715736,
          0.11240029006526468,
          0.11240029006526468,
          0.11385061638868746,
          0.11385061638868746,
          0.11457577955039884,
          0.11457577955039884,
          0.12037708484408992,
          0.12037708484408992,
          0.12255257432922408,
          0.12255257432922408,
          0.12690355329949238,
          0.12690355329949238,
          0.12980420594633793,
          0.12980420594633793,
          0.1305293691080493,
          0.1305293691080493,
          0.1319796954314721,
          0.1319796954314721,
          0.13415518491660625,
          0.13415518491660625,
          0.14213197969543148,
          0.14213197969543148,
          0.1457577955039884,
          0.1457577955039884,
          0.14793328498912256,
          0.14793328498912256,
          0.15155910079767948,
          0.15155910079767948,
          0.1551849166062364,
          0.1551849166062364,
          0.15808556925308195,
          0.15808556925308195,
          0.15881073241479332,
          0.15881073241479332,
          0.16171138506163887,
          0.16171138506163887,
          0.16316171138506164,
          0.16316171138506164,
          0.16388687454677303,
          0.16388687454677303,
          0.1646120377084844,
          0.1646120377084844,
          0.1660623640319072,
          0.1660623640319072,
          0.16678752719361856,
          0.16678752719361856,
          0.16751269035532995,
          0.16751269035532995,
          0.17041334300217548,
          0.17041334300217548,
          0.1754894851341552,
          0.1754894851341552,
          0.17621464829586658,
          0.17621464829586658,
          0.18201595358955766,
          0.18201595358955766,
          0.18636693255982595,
          0.18636693255982595,
          0.19144307469180566,
          0.19144307469180566,
          0.19796954314720813,
          0.19796954314720813,
          0.1994198694706309,
          0.1994198694706309,
          0.20812182741116753,
          0.20812182741116753,
          0.21174764321972445,
          0.21174764321972445,
          0.22770123277737492,
          0.22770123277737492,
          0.23060188542422044,
          0.23060188542422044,
          0.233502538071066,
          0.233502538071066,
          0.24945612762871647,
          0.24945612762871647,
          0.25598259608411894,
          0.25598259608411894,
          0.25888324873096447,
          0.25888324873096447,
          0.2625090645395214,
          0.2625090645395214,
          0.26468455402465557,
          0.26468455402465557,
          0.27483683828861494,
          0.27483683828861494,
          0.2886149383611313,
          0.2886149383611313,
          0.2893401015228426,
          0.2893401015228426,
          0.2965917331399565,
          0.2965917331399565,
          0.29876722262509064,
          0.29876722262509064,
          0.3052936910804931,
          0.3052936910804931,
          0.3067440174039159,
          0.3067440174039159,
          0.312545322697607,
          0.312545322697607,
          0.3132704858593183,
          0.3132704858593183,
          0.3154459753444525,
          0.3154459753444525,
          0.3248730964467005,
          0.3248730964467005,
          0.3255982596084119,
          0.3255982596084119,
          0.3306744017403916,
          0.3306744017403916,
          0.3343002175489485,
          0.3343002175489485,
          0.3364757070340827,
          0.3364757070340827,
          0.3567802755620014,
          0.3567802755620014,
          0.3633067440174039,
          0.3633067440174039,
          0.36693255982596085,
          0.36693255982596085,
          0.3727338651196519,
          0.3727338651196519,
          0.3792603335750544,
          0.3792603335750544,
          0.38143582306018853,
          0.38143582306018853,
          0.3821609862218999,
          0.3821609862218999,
          0.3828861493836113,
          0.3828861493836113,
          0.3966642494561276,
          0.3966642494561276,
          0.3988397389412618,
          0.4002900652646846,
          0.4017403915881073,
          0.4031907179115301,
          0.41334300217548947,
          0.41334300217548947,
          0.4205946337926033,
          0.4205946337926033,
          0.42857142857142855,
          0.42857142857142855,
          0.45830311820159536,
          0.45975344452501815,
          0.4677302393038434,
          0.4677302393038434,
          0.4684554024655547,
          0.4684554024655547,
          0.4713560551124003,
          0.4713560551124003,
          0.4749818709209572,
          0.4749818709209572,
          0.5018129079042785,
          0.5018129079042785,
          0.5039883973894126,
          0.5039883973894126,
          0.514140681653372,
          0.514140681653372,
          0.5170413343002176,
          0.5170413343002176,
          0.5206671501087745,
          0.5206671501087745,
          0.5250181290790428,
          0.5250181290790428,
          0.5279187817258884,
          0.5279187817258884,
          0.5322697606961566,
          0.5322697606961566,
          0.5373459028281363,
          0.5373459028281363,
          0.5511240029006527,
          0.5511240029006527,
          0.6033357505438723,
          0.6033357505438723,
          0.6323422770123278,
          0.6323422770123278,
          0.6504713560551124,
          0.6519216823785352,
          0.6656997824510514,
          0.6656997824510514,
          0.6990572878897752,
          0.6990572878897752,
          0.8063814358230602,
          0.807831762146483,
          0.813633067440174,
          0.813633067440174,
          0.8310369833212473,
          0.8310369833212473,
          0.8375634517766497,
          0.8390137781000725,
          0.8745467730239304,
          0.8752719361856418,
          0.8759970993473531,
          0.8759970993473531,
          0.90572878897752,
          0.9064539521392313,
          0.9093546047860769,
          0.9093546047860769,
          0.9332849891225525,
          0.9332849891225525,
          0.9782451051486585,
          0.9796954314720813,
          0.9883973894126178,
          0.9883973894126178,
          1
         ],
         "y": [
          0,
          0,
          0.006024096385542169,
          0.006024096385542169,
          0.018072289156626505,
          0.018072289156626505,
          0.024096385542168676,
          0.024096385542168676,
          0.04819277108433735,
          0.04819277108433735,
          0.060240963855421686,
          0.060240963855421686,
          0.06626506024096386,
          0.06626506024096386,
          0.07228915662650602,
          0.07228915662650602,
          0.0963855421686747,
          0.0963855421686747,
          0.10240963855421686,
          0.10240963855421686,
          0.10843373493975904,
          0.10843373493975904,
          0.1144578313253012,
          0.1144578313253012,
          0.12048192771084337,
          0.12048192771084337,
          0.12650602409638553,
          0.12650602409638553,
          0.13253012048192772,
          0.13253012048192772,
          0.13855421686746988,
          0.13855421686746988,
          0.14457831325301204,
          0.14457831325301204,
          0.15060240963855423,
          0.15060240963855423,
          0.1566265060240964,
          0.1566265060240964,
          0.16265060240963855,
          0.16265060240963855,
          0.1686746987951807,
          0.1686746987951807,
          0.1746987951807229,
          0.1746987951807229,
          0.18072289156626506,
          0.18072289156626506,
          0.18674698795180722,
          0.18674698795180722,
          0.1927710843373494,
          0.1927710843373494,
          0.19879518072289157,
          0.19879518072289157,
          0.20481927710843373,
          0.20481927710843373,
          0.21084337349397592,
          0.21084337349397592,
          0.21686746987951808,
          0.21686746987951808,
          0.22289156626506024,
          0.22289156626506024,
          0.2289156626506024,
          0.2289156626506024,
          0.23493975903614459,
          0.23493975903614459,
          0.2469879518072289,
          0.2469879518072289,
          0.25301204819277107,
          0.25301204819277107,
          0.25903614457831325,
          0.25903614457831325,
          0.26506024096385544,
          0.26506024096385544,
          0.2710843373493976,
          0.2710843373493976,
          0.27710843373493976,
          0.27710843373493976,
          0.28313253012048195,
          0.28313253012048195,
          0.2891566265060241,
          0.2891566265060241,
          0.29518072289156627,
          0.29518072289156627,
          0.30120481927710846,
          0.30120481927710846,
          0.3072289156626506,
          0.3072289156626506,
          0.3132530120481928,
          0.3132530120481928,
          0.3192771084337349,
          0.3192771084337349,
          0.3253012048192771,
          0.3253012048192771,
          0.3313253012048193,
          0.3313253012048193,
          0.3433734939759036,
          0.3433734939759036,
          0.3493975903614458,
          0.3493975903614458,
          0.35542168674698793,
          0.35542168674698793,
          0.3674698795180723,
          0.3674698795180723,
          0.3795180722891566,
          0.3795180722891566,
          0.3855421686746988,
          0.3855421686746988,
          0.4036144578313253,
          0.4036144578313253,
          0.40963855421686746,
          0.40963855421686746,
          0.41566265060240964,
          0.41566265060240964,
          0.42168674698795183,
          0.42168674698795183,
          0.42771084337349397,
          0.42771084337349397,
          0.43373493975903615,
          0.43373493975903615,
          0.4397590361445783,
          0.4397590361445783,
          0.4457831325301205,
          0.4457831325301205,
          0.45180722891566266,
          0.45180722891566266,
          0.4578313253012048,
          0.4578313253012048,
          0.463855421686747,
          0.463855421686747,
          0.46987951807228917,
          0.46987951807228917,
          0.4759036144578313,
          0.4759036144578313,
          0.4819277108433735,
          0.4819277108433735,
          0.4879518072289157,
          0.4879518072289157,
          0.4939759036144578,
          0.4939759036144578,
          0.5,
          0.5,
          0.5060240963855421,
          0.5060240963855421,
          0.5120481927710844,
          0.5120481927710844,
          0.5180722891566265,
          0.5180722891566265,
          0.5240963855421686,
          0.5240963855421686,
          0.5301204819277109,
          0.5301204819277109,
          0.536144578313253,
          0.536144578313253,
          0.5421686746987951,
          0.5421686746987951,
          0.5481927710843374,
          0.5481927710843374,
          0.5542168674698795,
          0.5542168674698795,
          0.5602409638554217,
          0.5602409638554217,
          0.5662650602409639,
          0.5662650602409639,
          0.572289156626506,
          0.572289156626506,
          0.5783132530120482,
          0.5783132530120482,
          0.5903614457831325,
          0.5903614457831325,
          0.5963855421686747,
          0.5963855421686747,
          0.6024096385542169,
          0.6024096385542169,
          0.608433734939759,
          0.608433734939759,
          0.6144578313253012,
          0.6144578313253012,
          0.6204819277108434,
          0.6204819277108434,
          0.6265060240963856,
          0.6265060240963856,
          0.6325301204819277,
          0.6325301204819277,
          0.6385542168674698,
          0.6385542168674698,
          0.6445783132530121,
          0.6445783132530121,
          0.6506024096385542,
          0.6506024096385542,
          0.6566265060240963,
          0.6566265060240963,
          0.6626506024096386,
          0.6626506024096386,
          0.6686746987951807,
          0.6686746987951807,
          0.6746987951807228,
          0.6746987951807228,
          0.6807228915662651,
          0.6807228915662651,
          0.6987951807228916,
          0.6987951807228916,
          0.7048192771084337,
          0.7048192771084337,
          0.7108433734939759,
          0.7108433734939759,
          0.7168674698795181,
          0.7168674698795181,
          0.7289156626506024,
          0.7289156626506024,
          0.7349397590361446,
          0.7349397590361446,
          0.7409638554216867,
          0.7409638554216867,
          0.7469879518072289,
          0.7469879518072289,
          0.7530120481927711,
          0.7530120481927711,
          0.7590361445783133,
          0.7590361445783133,
          0.7710843373493976,
          0.7710843373493976,
          0.7771084337349398,
          0.7771084337349398,
          0.7831325301204819,
          0.7831325301204819,
          0.7891566265060241,
          0.7891566265060241,
          0.7951807228915663,
          0.7951807228915663,
          0.8012048192771084,
          0.8012048192771084,
          0.8072289156626506,
          0.8072289156626506,
          0.8072289156626506,
          0.8072289156626506,
          0.8072289156626506,
          0.8072289156626506,
          0.8132530120481928,
          0.8132530120481928,
          0.8192771084337349,
          0.8192771084337349,
          0.8253012048192772,
          0.8253012048192772,
          0.8253012048192772,
          0.8253012048192772,
          0.8373493975903614,
          0.8373493975903614,
          0.8433734939759037,
          0.8433734939759037,
          0.8493975903614458,
          0.8493975903614458,
          0.8554216867469879,
          0.8554216867469879,
          0.8614457831325302,
          0.8614457831325302,
          0.8674698795180723,
          0.8674698795180723,
          0.8795180722891566,
          0.8795180722891566,
          0.8855421686746988,
          0.8855421686746988,
          0.891566265060241,
          0.891566265060241,
          0.8975903614457831,
          0.8975903614457831,
          0.9036144578313253,
          0.9036144578313253,
          0.9156626506024096,
          0.9156626506024096,
          0.9216867469879518,
          0.9216867469879518,
          0.927710843373494,
          0.927710843373494,
          0.9337349397590361,
          0.9337349397590361,
          0.9397590361445783,
          0.9397590361445783,
          0.9397590361445783,
          0.9397590361445783,
          0.9457831325301205,
          0.9457831325301205,
          0.9518072289156626,
          0.9518072289156626,
          0.9518072289156626,
          0.9518072289156626,
          0.9578313253012049,
          0.9578313253012049,
          0.963855421686747,
          0.963855421686747,
          0.963855421686747,
          0.963855421686747,
          0.9698795180722891,
          0.9698795180722891,
          0.9759036144578314,
          0.9759036144578314,
          0.9819277108433735,
          0.9819277108433735,
          0.9879518072289156,
          0.9879518072289156,
          0.9939759036144579,
          0.9939759036144579,
          0.9939759036144579,
          0.9939759036144579,
          1,
          1
         ]
        },
        {
         "line": {
          "dash": "dash"
         },
         "mode": "lines",
         "name": "Baseline (Random Guess)",
         "type": "scatter",
         "x": [
          0,
          1
         ],
         "y": [
          0,
          1
         ]
        }
       ],
       "layout": {
        "showlegend": true,
        "template": {
         "data": {
          "bar": [
           {
            "error_x": {
             "color": "#2a3f5f"
            },
            "error_y": {
             "color": "#2a3f5f"
            },
            "marker": {
             "line": {
              "color": "#E5ECF6",
              "width": 0.5
             },
             "pattern": {
              "fillmode": "overlay",
              "size": 10,
              "solidity": 0.2
             }
            },
            "type": "bar"
           }
          ],
          "barpolar": [
           {
            "marker": {
             "line": {
              "color": "#E5ECF6",
              "width": 0.5
             },
             "pattern": {
              "fillmode": "overlay",
              "size": 10,
              "solidity": 0.2
             }
            },
            "type": "barpolar"
           }
          ],
          "carpet": [
           {
            "aaxis": {
             "endlinecolor": "#2a3f5f",
             "gridcolor": "white",
             "linecolor": "white",
             "minorgridcolor": "white",
             "startlinecolor": "#2a3f5f"
            },
            "baxis": {
             "endlinecolor": "#2a3f5f",
             "gridcolor": "white",
             "linecolor": "white",
             "minorgridcolor": "white",
             "startlinecolor": "#2a3f5f"
            },
            "type": "carpet"
           }
          ],
          "choropleth": [
           {
            "colorbar": {
             "outlinewidth": 0,
             "ticks": ""
            },
            "type": "choropleth"
           }
          ],
          "contour": [
           {
            "colorbar": {
             "outlinewidth": 0,
             "ticks": ""
            },
            "colorscale": [
             [
              0,
              "#0d0887"
             ],
             [
              0.1111111111111111,
              "#46039f"
             ],
             [
              0.2222222222222222,
              "#7201a8"
             ],
             [
              0.3333333333333333,
              "#9c179e"
             ],
             [
              0.4444444444444444,
              "#bd3786"
             ],
             [
              0.5555555555555556,
              "#d8576b"
             ],
             [
              0.6666666666666666,
              "#ed7953"
             ],
             [
              0.7777777777777778,
              "#fb9f3a"
             ],
             [
              0.8888888888888888,
              "#fdca26"
             ],
             [
              1,
              "#f0f921"
             ]
            ],
            "type": "contour"
           }
          ],
          "contourcarpet": [
           {
            "colorbar": {
             "outlinewidth": 0,
             "ticks": ""
            },
            "type": "contourcarpet"
           }
          ],
          "heatmap": [
           {
            "colorbar": {
             "outlinewidth": 0,
             "ticks": ""
            },
            "colorscale": [
             [
              0,
              "#0d0887"
             ],
             [
              0.1111111111111111,
              "#46039f"
             ],
             [
              0.2222222222222222,
              "#7201a8"
             ],
             [
              0.3333333333333333,
              "#9c179e"
             ],
             [
              0.4444444444444444,
              "#bd3786"
             ],
             [
              0.5555555555555556,
              "#d8576b"
             ],
             [
              0.6666666666666666,
              "#ed7953"
             ],
             [
              0.7777777777777778,
              "#fb9f3a"
             ],
             [
              0.8888888888888888,
              "#fdca26"
             ],
             [
              1,
              "#f0f921"
             ]
            ],
            "type": "heatmap"
           }
          ],
          "heatmapgl": [
           {
            "colorbar": {
             "outlinewidth": 0,
             "ticks": ""
            },
            "colorscale": [
             [
              0,
              "#0d0887"
             ],
             [
              0.1111111111111111,
              "#46039f"
             ],
             [
              0.2222222222222222,
              "#7201a8"
             ],
             [
              0.3333333333333333,
              "#9c179e"
             ],
             [
              0.4444444444444444,
              "#bd3786"
             ],
             [
              0.5555555555555556,
              "#d8576b"
             ],
             [
              0.6666666666666666,
              "#ed7953"
             ],
             [
              0.7777777777777778,
              "#fb9f3a"
             ],
             [
              0.8888888888888888,
              "#fdca26"
             ],
             [
              1,
              "#f0f921"
             ]
            ],
            "type": "heatmapgl"
           }
          ],
          "histogram": [
           {
            "marker": {
             "pattern": {
              "fillmode": "overlay",
              "size": 10,
              "solidity": 0.2
             }
            },
            "type": "histogram"
           }
          ],
          "histogram2d": [
           {
            "colorbar": {
             "outlinewidth": 0,
             "ticks": ""
            },
            "colorscale": [
             [
              0,
              "#0d0887"
             ],
             [
              0.1111111111111111,
              "#46039f"
             ],
             [
              0.2222222222222222,
              "#7201a8"
             ],
             [
              0.3333333333333333,
              "#9c179e"
             ],
             [
              0.4444444444444444,
              "#bd3786"
             ],
             [
              0.5555555555555556,
              "#d8576b"
             ],
             [
              0.6666666666666666,
              "#ed7953"
             ],
             [
              0.7777777777777778,
              "#fb9f3a"
             ],
             [
              0.8888888888888888,
              "#fdca26"
             ],
             [
              1,
              "#f0f921"
             ]
            ],
            "type": "histogram2d"
           }
          ],
          "histogram2dcontour": [
           {
            "colorbar": {
             "outlinewidth": 0,
             "ticks": ""
            },
            "colorscale": [
             [
              0,
              "#0d0887"
             ],
             [
              0.1111111111111111,
              "#46039f"
             ],
             [
              0.2222222222222222,
              "#7201a8"
             ],
             [
              0.3333333333333333,
              "#9c179e"
             ],
             [
              0.4444444444444444,
              "#bd3786"
             ],
             [
              0.5555555555555556,
              "#d8576b"
             ],
             [
              0.6666666666666666,
              "#ed7953"
             ],
             [
              0.7777777777777778,
              "#fb9f3a"
             ],
             [
              0.8888888888888888,
              "#fdca26"
             ],
             [
              1,
              "#f0f921"
             ]
            ],
            "type": "histogram2dcontour"
           }
          ],
          "mesh3d": [
           {
            "colorbar": {
             "outlinewidth": 0,
             "ticks": ""
            },
            "type": "mesh3d"
           }
          ],
          "parcoords": [
           {
            "line": {
             "colorbar": {
              "outlinewidth": 0,
              "ticks": ""
             }
            },
            "type": "parcoords"
           }
          ],
          "pie": [
           {
            "automargin": true,
            "type": "pie"
           }
          ],
          "scatter": [
           {
            "fillpattern": {
             "fillmode": "overlay",
             "size": 10,
             "solidity": 0.2
            },
            "type": "scatter"
           }
          ],
          "scatter3d": [
           {
            "line": {
             "colorbar": {
              "outlinewidth": 0,
              "ticks": ""
             }
            },
            "marker": {
             "colorbar": {
              "outlinewidth": 0,
              "ticks": ""
             }
            },
            "type": "scatter3d"
           }
          ],
          "scattercarpet": [
           {
            "marker": {
             "colorbar": {
              "outlinewidth": 0,
              "ticks": ""
             }
            },
            "type": "scattercarpet"
           }
          ],
          "scattergeo": [
           {
            "marker": {
             "colorbar": {
              "outlinewidth": 0,
              "ticks": ""
             }
            },
            "type": "scattergeo"
           }
          ],
          "scattergl": [
           {
            "marker": {
             "colorbar": {
              "outlinewidth": 0,
              "ticks": ""
             }
            },
            "type": "scattergl"
           }
          ],
          "scattermapbox": [
           {
            "marker": {
             "colorbar": {
              "outlinewidth": 0,
              "ticks": ""
             }
            },
            "type": "scattermapbox"
           }
          ],
          "scatterpolar": [
           {
            "marker": {
             "colorbar": {
              "outlinewidth": 0,
              "ticks": ""
             }
            },
            "type": "scatterpolar"
           }
          ],
          "scatterpolargl": [
           {
            "marker": {
             "colorbar": {
              "outlinewidth": 0,
              "ticks": ""
             }
            },
            "type": "scatterpolargl"
           }
          ],
          "scatterternary": [
           {
            "marker": {
             "colorbar": {
              "outlinewidth": 0,
              "ticks": ""
             }
            },
            "type": "scatterternary"
           }
          ],
          "surface": [
           {
            "colorbar": {
             "outlinewidth": 0,
             "ticks": ""
            },
            "colorscale": [
             [
              0,
              "#0d0887"
             ],
             [
              0.1111111111111111,
              "#46039f"
             ],
             [
              0.2222222222222222,
              "#7201a8"
             ],
             [
              0.3333333333333333,
              "#9c179e"
             ],
             [
              0.4444444444444444,
              "#bd3786"
             ],
             [
              0.5555555555555556,
              "#d8576b"
             ],
             [
              0.6666666666666666,
              "#ed7953"
             ],
             [
              0.7777777777777778,
              "#fb9f3a"
             ],
             [
              0.8888888888888888,
              "#fdca26"
             ],
             [
              1,
              "#f0f921"
             ]
            ],
            "type": "surface"
           }
          ],
          "table": [
           {
            "cells": {
             "fill": {
              "color": "#EBF0F8"
             },
             "line": {
              "color": "white"
             }
            },
            "header": {
             "fill": {
              "color": "#C8D4E3"
             },
             "line": {
              "color": "white"
             }
            },
            "type": "table"
           }
          ]
         },
         "layout": {
          "annotationdefaults": {
           "arrowcolor": "#2a3f5f",
           "arrowhead": 0,
           "arrowwidth": 1
          },
          "autotypenumbers": "strict",
          "coloraxis": {
           "colorbar": {
            "outlinewidth": 0,
            "ticks": ""
           }
          },
          "colorscale": {
           "diverging": [
            [
             0,
             "#8e0152"
            ],
            [
             0.1,
             "#c51b7d"
            ],
            [
             0.2,
             "#de77ae"
            ],
            [
             0.3,
             "#f1b6da"
            ],
            [
             0.4,
             "#fde0ef"
            ],
            [
             0.5,
             "#f7f7f7"
            ],
            [
             0.6,
             "#e6f5d0"
            ],
            [
             0.7,
             "#b8e186"
            ],
            [
             0.8,
             "#7fbc41"
            ],
            [
             0.9,
             "#4d9221"
            ],
            [
             1,
             "#276419"
            ]
           ],
           "sequential": [
            [
             0,
             "#0d0887"
            ],
            [
             0.1111111111111111,
             "#46039f"
            ],
            [
             0.2222222222222222,
             "#7201a8"
            ],
            [
             0.3333333333333333,
             "#9c179e"
            ],
            [
             0.4444444444444444,
             "#bd3786"
            ],
            [
             0.5555555555555556,
             "#d8576b"
            ],
            [
             0.6666666666666666,
             "#ed7953"
            ],
            [
             0.7777777777777778,
             "#fb9f3a"
            ],
            [
             0.8888888888888888,
             "#fdca26"
            ],
            [
             1,
             "#f0f921"
            ]
           ],
           "sequentialminus": [
            [
             0,
             "#0d0887"
            ],
            [
             0.1111111111111111,
             "#46039f"
            ],
            [
             0.2222222222222222,
             "#7201a8"
            ],
            [
             0.3333333333333333,
             "#9c179e"
            ],
            [
             0.4444444444444444,
             "#bd3786"
            ],
            [
             0.5555555555555556,
             "#d8576b"
            ],
            [
             0.6666666666666666,
             "#ed7953"
            ],
            [
             0.7777777777777778,
             "#fb9f3a"
            ],
            [
             0.8888888888888888,
             "#fdca26"
            ],
            [
             1,
             "#f0f921"
            ]
           ]
          },
          "colorway": [
           "#636efa",
           "#EF553B",
           "#00cc96",
           "#ab63fa",
           "#FFA15A",
           "#19d3f3",
           "#FF6692",
           "#B6E880",
           "#FF97FF",
           "#FECB52"
          ],
          "font": {
           "color": "#2a3f5f"
          },
          "geo": {
           "bgcolor": "white",
           "lakecolor": "white",
           "landcolor": "#E5ECF6",
           "showlakes": true,
           "showland": true,
           "subunitcolor": "white"
          },
          "hoverlabel": {
           "align": "left"
          },
          "hovermode": "closest",
          "mapbox": {
           "style": "light"
          },
          "paper_bgcolor": "white",
          "plot_bgcolor": "#E5ECF6",
          "polar": {
           "angularaxis": {
            "gridcolor": "white",
            "linecolor": "white",
            "ticks": ""
           },
           "bgcolor": "#E5ECF6",
           "radialaxis": {
            "gridcolor": "white",
            "linecolor": "white",
            "ticks": ""
           }
          },
          "scene": {
           "xaxis": {
            "backgroundcolor": "#E5ECF6",
            "gridcolor": "white",
            "gridwidth": 2,
            "linecolor": "white",
            "showbackground": true,
            "ticks": "",
            "zerolinecolor": "white"
           },
           "yaxis": {
            "backgroundcolor": "#E5ECF6",
            "gridcolor": "white",
            "gridwidth": 2,
            "linecolor": "white",
            "showbackground": true,
            "ticks": "",
            "zerolinecolor": "white"
           },
           "zaxis": {
            "backgroundcolor": "#E5ECF6",
            "gridcolor": "white",
            "gridwidth": 2,
            "linecolor": "white",
            "showbackground": true,
            "ticks": "",
            "zerolinecolor": "white"
           }
          },
          "shapedefaults": {
           "line": {
            "color": "#2a3f5f"
           }
          },
          "ternary": {
           "aaxis": {
            "gridcolor": "white",
            "linecolor": "white",
            "ticks": ""
           },
           "baxis": {
            "gridcolor": "white",
            "linecolor": "white",
            "ticks": ""
           },
           "bgcolor": "#E5ECF6",
           "caxis": {
            "gridcolor": "white",
            "linecolor": "white",
            "ticks": ""
           }
          },
          "title": {
           "x": 0.05
          },
          "xaxis": {
           "automargin": true,
           "gridcolor": "white",
           "linecolor": "white",
           "ticks": "",
           "title": {
            "standoff": 15
           },
           "zerolinecolor": "white",
           "zerolinewidth": 2
          },
          "yaxis": {
           "automargin": true,
           "gridcolor": "white",
           "linecolor": "white",
           "ticks": "",
           "title": {
            "standoff": 15
           },
           "zerolinecolor": "white",
           "zerolinewidth": 2
          }
         }
        },
        "title": {
         "text": "ROC Curves Comparison"
        },
        "xaxis": {
         "title": {
          "text": "False Positive Rate"
         }
        },
        "yaxis": {
         "title": {
          "text": "True Positive Rate"
         }
        }
       }
      }
     },
     "metadata": {},
     "output_type": "display_data"
    }
   ],
   "source": [
    "fprLR, tprLR, _ = roc_curve(ytest, yPredProbaLR)\n",
    "fprGB, tprGB, _ = roc_curve(ytest, yPredProbaGB)\n",
    "fprXGB, tprXGB, _ = roc_curve(ytest, yPredProbaXGB)\n",
    "fprInternal, tprInternal, _ = roc_curve(ytest, Xtest['Internal rating'])\n",
    "\n",
    "# Plot ROC curves\n",
    "fig = go.Figure()\n",
    "fig.add_trace(go.Scatter(x=fprInternal, y=tprInternal, mode='lines', name='Internal Rating'))\n",
    "fig.add_trace(go.Scatter(x=fprLR, y=tprLR, mode='lines', name='Logistic Regression'))\n",
    "fig.add_trace(go.Scatter(x=fprGB, y=tprGB, mode='lines', name='Scikit-Learn Gradient Boosting'))\n",
    "fig.add_trace(go.Scatter(x=fprXGB, y=tprXGB, mode='lines', name='XGBoost'))\n",
    "fig.add_trace(go.Scatter(x=[0,1], y=[0,1], mode='lines', name='Baseline (Random Guess)', line=dict(dash='dash')))\n",
    "fig.update_layout(title='ROC Curves Comparison',\n",
    "                  xaxis_title='False Positive Rate',\n",
    "                  yaxis_title='True Positive Rate',\n",
    "                  showlegend=True)\n",
    "fig.show()\n"
   ]
  },
  {
   "cell_type": "code",
   "execution_count": null,
   "metadata": {},
   "outputs": [],
   "source": [
    "featureNamesNum = numericalFeatures + ['Internal rating']\n",
    "featureNamesCat = (bestPipelineXGB.named_steps['preprocessor'].named_transformers_['cat']\n",
    "                   .named_steps['onehot'].get_feature_names_out(categoricalFeatures))\n",
    "featureNames = np.concatenate([featureNamesNum, featureNamesCat])\n",
    "\n",
    "importancesXGB = bestPipelineXGB.named_steps['classifier'].feature_importances_\n",
    "featureImportancesXGB = pd.Series(importancesXGB, index=featureNames).sort_values(ascending=False)\n",
    "\n",
    "featureImportancesXGB.head(10)"
   ]
  },
  {
   "cell_type": "code",
   "execution_count": 33,
   "metadata": {},
   "outputs": [
    {
     "data": {
      "application/vnd.plotly.v1+json": {
       "config": {
        "plotlyServerURL": "https://plot.ly"
       },
       "data": [
        {
         "alignmentgroup": "True",
         "hovertemplate": "Feature=%{x}<br>Importance=%{y}<extra></extra>",
         "legendgroup": "",
         "marker": {
          "color": "#636efa",
          "pattern": {
           "shape": ""
          }
         },
         "name": "",
         "offsetgroup": "",
         "orientation": "v",
         "showlegend": false,
         "textposition": "auto",
         "type": "bar",
         "x": [
          "Internal rating",
          "LoanToValueRatio",
          "DebtYield",
          "Original term",
          "Property value",
          "Months to maturity",
          "Year of construction",
          "Interest coverage ratio",
          "Tenant turnover",
          "Loan Balance"
         ],
         "xaxis": "x",
         "y": [
          0.2540000081062317,
          0.11699999868869781,
          0.06499999761581421,
          0.061000000685453415,
          0.05900000035762787,
          0.0560000017285347,
          0.054999999701976776,
          0.05299999937415123,
          0.04800000041723251,
          0.04699999839067459
         ],
         "yaxis": "y"
        }
       ],
       "layout": {
        "barmode": "relative",
        "legend": {
         "tracegroupgap": 0
        },
        "template": {
         "data": {
          "bar": [
           {
            "error_x": {
             "color": "#2a3f5f"
            },
            "error_y": {
             "color": "#2a3f5f"
            },
            "marker": {
             "line": {
              "color": "#E5ECF6",
              "width": 0.5
             },
             "pattern": {
              "fillmode": "overlay",
              "size": 10,
              "solidity": 0.2
             }
            },
            "type": "bar"
           }
          ],
          "barpolar": [
           {
            "marker": {
             "line": {
              "color": "#E5ECF6",
              "width": 0.5
             },
             "pattern": {
              "fillmode": "overlay",
              "size": 10,
              "solidity": 0.2
             }
            },
            "type": "barpolar"
           }
          ],
          "carpet": [
           {
            "aaxis": {
             "endlinecolor": "#2a3f5f",
             "gridcolor": "white",
             "linecolor": "white",
             "minorgridcolor": "white",
             "startlinecolor": "#2a3f5f"
            },
            "baxis": {
             "endlinecolor": "#2a3f5f",
             "gridcolor": "white",
             "linecolor": "white",
             "minorgridcolor": "white",
             "startlinecolor": "#2a3f5f"
            },
            "type": "carpet"
           }
          ],
          "choropleth": [
           {
            "colorbar": {
             "outlinewidth": 0,
             "ticks": ""
            },
            "type": "choropleth"
           }
          ],
          "contour": [
           {
            "colorbar": {
             "outlinewidth": 0,
             "ticks": ""
            },
            "colorscale": [
             [
              0,
              "#0d0887"
             ],
             [
              0.1111111111111111,
              "#46039f"
             ],
             [
              0.2222222222222222,
              "#7201a8"
             ],
             [
              0.3333333333333333,
              "#9c179e"
             ],
             [
              0.4444444444444444,
              "#bd3786"
             ],
             [
              0.5555555555555556,
              "#d8576b"
             ],
             [
              0.6666666666666666,
              "#ed7953"
             ],
             [
              0.7777777777777778,
              "#fb9f3a"
             ],
             [
              0.8888888888888888,
              "#fdca26"
             ],
             [
              1,
              "#f0f921"
             ]
            ],
            "type": "contour"
           }
          ],
          "contourcarpet": [
           {
            "colorbar": {
             "outlinewidth": 0,
             "ticks": ""
            },
            "type": "contourcarpet"
           }
          ],
          "heatmap": [
           {
            "colorbar": {
             "outlinewidth": 0,
             "ticks": ""
            },
            "colorscale": [
             [
              0,
              "#0d0887"
             ],
             [
              0.1111111111111111,
              "#46039f"
             ],
             [
              0.2222222222222222,
              "#7201a8"
             ],
             [
              0.3333333333333333,
              "#9c179e"
             ],
             [
              0.4444444444444444,
              "#bd3786"
             ],
             [
              0.5555555555555556,
              "#d8576b"
             ],
             [
              0.6666666666666666,
              "#ed7953"
             ],
             [
              0.7777777777777778,
              "#fb9f3a"
             ],
             [
              0.8888888888888888,
              "#fdca26"
             ],
             [
              1,
              "#f0f921"
             ]
            ],
            "type": "heatmap"
           }
          ],
          "heatmapgl": [
           {
            "colorbar": {
             "outlinewidth": 0,
             "ticks": ""
            },
            "colorscale": [
             [
              0,
              "#0d0887"
             ],
             [
              0.1111111111111111,
              "#46039f"
             ],
             [
              0.2222222222222222,
              "#7201a8"
             ],
             [
              0.3333333333333333,
              "#9c179e"
             ],
             [
              0.4444444444444444,
              "#bd3786"
             ],
             [
              0.5555555555555556,
              "#d8576b"
             ],
             [
              0.6666666666666666,
              "#ed7953"
             ],
             [
              0.7777777777777778,
              "#fb9f3a"
             ],
             [
              0.8888888888888888,
              "#fdca26"
             ],
             [
              1,
              "#f0f921"
             ]
            ],
            "type": "heatmapgl"
           }
          ],
          "histogram": [
           {
            "marker": {
             "pattern": {
              "fillmode": "overlay",
              "size": 10,
              "solidity": 0.2
             }
            },
            "type": "histogram"
           }
          ],
          "histogram2d": [
           {
            "colorbar": {
             "outlinewidth": 0,
             "ticks": ""
            },
            "colorscale": [
             [
              0,
              "#0d0887"
             ],
             [
              0.1111111111111111,
              "#46039f"
             ],
             [
              0.2222222222222222,
              "#7201a8"
             ],
             [
              0.3333333333333333,
              "#9c179e"
             ],
             [
              0.4444444444444444,
              "#bd3786"
             ],
             [
              0.5555555555555556,
              "#d8576b"
             ],
             [
              0.6666666666666666,
              "#ed7953"
             ],
             [
              0.7777777777777778,
              "#fb9f3a"
             ],
             [
              0.8888888888888888,
              "#fdca26"
             ],
             [
              1,
              "#f0f921"
             ]
            ],
            "type": "histogram2d"
           }
          ],
          "histogram2dcontour": [
           {
            "colorbar": {
             "outlinewidth": 0,
             "ticks": ""
            },
            "colorscale": [
             [
              0,
              "#0d0887"
             ],
             [
              0.1111111111111111,
              "#46039f"
             ],
             [
              0.2222222222222222,
              "#7201a8"
             ],
             [
              0.3333333333333333,
              "#9c179e"
             ],
             [
              0.4444444444444444,
              "#bd3786"
             ],
             [
              0.5555555555555556,
              "#d8576b"
             ],
             [
              0.6666666666666666,
              "#ed7953"
             ],
             [
              0.7777777777777778,
              "#fb9f3a"
             ],
             [
              0.8888888888888888,
              "#fdca26"
             ],
             [
              1,
              "#f0f921"
             ]
            ],
            "type": "histogram2dcontour"
           }
          ],
          "mesh3d": [
           {
            "colorbar": {
             "outlinewidth": 0,
             "ticks": ""
            },
            "type": "mesh3d"
           }
          ],
          "parcoords": [
           {
            "line": {
             "colorbar": {
              "outlinewidth": 0,
              "ticks": ""
             }
            },
            "type": "parcoords"
           }
          ],
          "pie": [
           {
            "automargin": true,
            "type": "pie"
           }
          ],
          "scatter": [
           {
            "fillpattern": {
             "fillmode": "overlay",
             "size": 10,
             "solidity": 0.2
            },
            "type": "scatter"
           }
          ],
          "scatter3d": [
           {
            "line": {
             "colorbar": {
              "outlinewidth": 0,
              "ticks": ""
             }
            },
            "marker": {
             "colorbar": {
              "outlinewidth": 0,
              "ticks": ""
             }
            },
            "type": "scatter3d"
           }
          ],
          "scattercarpet": [
           {
            "marker": {
             "colorbar": {
              "outlinewidth": 0,
              "ticks": ""
             }
            },
            "type": "scattercarpet"
           }
          ],
          "scattergeo": [
           {
            "marker": {
             "colorbar": {
              "outlinewidth": 0,
              "ticks": ""
             }
            },
            "type": "scattergeo"
           }
          ],
          "scattergl": [
           {
            "marker": {
             "colorbar": {
              "outlinewidth": 0,
              "ticks": ""
             }
            },
            "type": "scattergl"
           }
          ],
          "scattermapbox": [
           {
            "marker": {
             "colorbar": {
              "outlinewidth": 0,
              "ticks": ""
             }
            },
            "type": "scattermapbox"
           }
          ],
          "scatterpolar": [
           {
            "marker": {
             "colorbar": {
              "outlinewidth": 0,
              "ticks": ""
             }
            },
            "type": "scatterpolar"
           }
          ],
          "scatterpolargl": [
           {
            "marker": {
             "colorbar": {
              "outlinewidth": 0,
              "ticks": ""
             }
            },
            "type": "scatterpolargl"
           }
          ],
          "scatterternary": [
           {
            "marker": {
             "colorbar": {
              "outlinewidth": 0,
              "ticks": ""
             }
            },
            "type": "scatterternary"
           }
          ],
          "surface": [
           {
            "colorbar": {
             "outlinewidth": 0,
             "ticks": ""
            },
            "colorscale": [
             [
              0,
              "#0d0887"
             ],
             [
              0.1111111111111111,
              "#46039f"
             ],
             [
              0.2222222222222222,
              "#7201a8"
             ],
             [
              0.3333333333333333,
              "#9c179e"
             ],
             [
              0.4444444444444444,
              "#bd3786"
             ],
             [
              0.5555555555555556,
              "#d8576b"
             ],
             [
              0.6666666666666666,
              "#ed7953"
             ],
             [
              0.7777777777777778,
              "#fb9f3a"
             ],
             [
              0.8888888888888888,
              "#fdca26"
             ],
             [
              1,
              "#f0f921"
             ]
            ],
            "type": "surface"
           }
          ],
          "table": [
           {
            "cells": {
             "fill": {
              "color": "#EBF0F8"
             },
             "line": {
              "color": "white"
             }
            },
            "header": {
             "fill": {
              "color": "#C8D4E3"
             },
             "line": {
              "color": "white"
             }
            },
            "type": "table"
           }
          ]
         },
         "layout": {
          "annotationdefaults": {
           "arrowcolor": "#2a3f5f",
           "arrowhead": 0,
           "arrowwidth": 1
          },
          "autotypenumbers": "strict",
          "coloraxis": {
           "colorbar": {
            "outlinewidth": 0,
            "ticks": ""
           }
          },
          "colorscale": {
           "diverging": [
            [
             0,
             "#8e0152"
            ],
            [
             0.1,
             "#c51b7d"
            ],
            [
             0.2,
             "#de77ae"
            ],
            [
             0.3,
             "#f1b6da"
            ],
            [
             0.4,
             "#fde0ef"
            ],
            [
             0.5,
             "#f7f7f7"
            ],
            [
             0.6,
             "#e6f5d0"
            ],
            [
             0.7,
             "#b8e186"
            ],
            [
             0.8,
             "#7fbc41"
            ],
            [
             0.9,
             "#4d9221"
            ],
            [
             1,
             "#276419"
            ]
           ],
           "sequential": [
            [
             0,
             "#0d0887"
            ],
            [
             0.1111111111111111,
             "#46039f"
            ],
            [
             0.2222222222222222,
             "#7201a8"
            ],
            [
             0.3333333333333333,
             "#9c179e"
            ],
            [
             0.4444444444444444,
             "#bd3786"
            ],
            [
             0.5555555555555556,
             "#d8576b"
            ],
            [
             0.6666666666666666,
             "#ed7953"
            ],
            [
             0.7777777777777778,
             "#fb9f3a"
            ],
            [
             0.8888888888888888,
             "#fdca26"
            ],
            [
             1,
             "#f0f921"
            ]
           ],
           "sequentialminus": [
            [
             0,
             "#0d0887"
            ],
            [
             0.1111111111111111,
             "#46039f"
            ],
            [
             0.2222222222222222,
             "#7201a8"
            ],
            [
             0.3333333333333333,
             "#9c179e"
            ],
            [
             0.4444444444444444,
             "#bd3786"
            ],
            [
             0.5555555555555556,
             "#d8576b"
            ],
            [
             0.6666666666666666,
             "#ed7953"
            ],
            [
             0.7777777777777778,
             "#fb9f3a"
            ],
            [
             0.8888888888888888,
             "#fdca26"
            ],
            [
             1,
             "#f0f921"
            ]
           ]
          },
          "colorway": [
           "#636efa",
           "#EF553B",
           "#00cc96",
           "#ab63fa",
           "#FFA15A",
           "#19d3f3",
           "#FF6692",
           "#B6E880",
           "#FF97FF",
           "#FECB52"
          ],
          "font": {
           "color": "#2a3f5f"
          },
          "geo": {
           "bgcolor": "white",
           "lakecolor": "white",
           "landcolor": "#E5ECF6",
           "showlakes": true,
           "showland": true,
           "subunitcolor": "white"
          },
          "hoverlabel": {
           "align": "left"
          },
          "hovermode": "closest",
          "mapbox": {
           "style": "light"
          },
          "paper_bgcolor": "white",
          "plot_bgcolor": "#E5ECF6",
          "polar": {
           "angularaxis": {
            "gridcolor": "white",
            "linecolor": "white",
            "ticks": ""
           },
           "bgcolor": "#E5ECF6",
           "radialaxis": {
            "gridcolor": "white",
            "linecolor": "white",
            "ticks": ""
           }
          },
          "scene": {
           "xaxis": {
            "backgroundcolor": "#E5ECF6",
            "gridcolor": "white",
            "gridwidth": 2,
            "linecolor": "white",
            "showbackground": true,
            "ticks": "",
            "zerolinecolor": "white"
           },
           "yaxis": {
            "backgroundcolor": "#E5ECF6",
            "gridcolor": "white",
            "gridwidth": 2,
            "linecolor": "white",
            "showbackground": true,
            "ticks": "",
            "zerolinecolor": "white"
           },
           "zaxis": {
            "backgroundcolor": "#E5ECF6",
            "gridcolor": "white",
            "gridwidth": 2,
            "linecolor": "white",
            "showbackground": true,
            "ticks": "",
            "zerolinecolor": "white"
           }
          },
          "shapedefaults": {
           "line": {
            "color": "#2a3f5f"
           }
          },
          "ternary": {
           "aaxis": {
            "gridcolor": "white",
            "linecolor": "white",
            "ticks": ""
           },
           "baxis": {
            "gridcolor": "white",
            "linecolor": "white",
            "ticks": ""
           },
           "bgcolor": "#E5ECF6",
           "caxis": {
            "gridcolor": "white",
            "linecolor": "white",
            "ticks": ""
           }
          },
          "title": {
           "x": 0.05
          },
          "xaxis": {
           "automargin": true,
           "gridcolor": "white",
           "linecolor": "white",
           "ticks": "",
           "title": {
            "standoff": 15
           },
           "zerolinecolor": "white",
           "zerolinewidth": 2
          },
          "yaxis": {
           "automargin": true,
           "gridcolor": "white",
           "linecolor": "white",
           "ticks": "",
           "title": {
            "standoff": 15
           },
           "zerolinecolor": "white",
           "zerolinewidth": 2
          }
         }
        },
        "title": {
         "text": "Top 10 Feature Importances from Optimized XGB Classifier Model"
        },
        "xaxis": {
         "anchor": "y",
         "domain": [
          0,
          1
         ],
         "tickangle": -45,
         "title": {
          "text": "Feature"
         }
        },
        "yaxis": {
         "anchor": "x",
         "domain": [
          0,
          1
         ],
         "title": {
          "text": "Importance"
         }
        }
       }
      }
     },
     "metadata": {},
     "output_type": "display_data"
    },
    {
     "data": {
      "text/html": [
       "<div>\n",
       "<style scoped>\n",
       "    .dataframe tbody tr th:only-of-type {\n",
       "        vertical-align: middle;\n",
       "    }\n",
       "\n",
       "    .dataframe tbody tr th {\n",
       "        vertical-align: top;\n",
       "    }\n",
       "\n",
       "    .dataframe thead th {\n",
       "        text-align: right;\n",
       "    }\n",
       "</style>\n",
       "<table border=\"1\" class=\"dataframe\">\n",
       "  <thead>\n",
       "    <tr style=\"text-align: right;\">\n",
       "      <th></th>\n",
       "      <th>Feature</th>\n",
       "      <th>Importance</th>\n",
       "    </tr>\n",
       "  </thead>\n",
       "  <tbody>\n",
       "    <tr>\n",
       "      <th>0</th>\n",
       "      <td>Internal rating</td>\n",
       "      <td>0.254</td>\n",
       "    </tr>\n",
       "    <tr>\n",
       "      <th>1</th>\n",
       "      <td>LoanToValueRatio</td>\n",
       "      <td>0.117</td>\n",
       "    </tr>\n",
       "    <tr>\n",
       "      <th>2</th>\n",
       "      <td>DebtYield</td>\n",
       "      <td>0.065</td>\n",
       "    </tr>\n",
       "    <tr>\n",
       "      <th>3</th>\n",
       "      <td>Original term</td>\n",
       "      <td>0.061</td>\n",
       "    </tr>\n",
       "    <tr>\n",
       "      <th>4</th>\n",
       "      <td>Property value</td>\n",
       "      <td>0.059</td>\n",
       "    </tr>\n",
       "    <tr>\n",
       "      <th>5</th>\n",
       "      <td>Months to maturity</td>\n",
       "      <td>0.056</td>\n",
       "    </tr>\n",
       "    <tr>\n",
       "      <th>6</th>\n",
       "      <td>Year of construction</td>\n",
       "      <td>0.055</td>\n",
       "    </tr>\n",
       "    <tr>\n",
       "      <th>7</th>\n",
       "      <td>Interest coverage ratio</td>\n",
       "      <td>0.053</td>\n",
       "    </tr>\n",
       "    <tr>\n",
       "      <th>8</th>\n",
       "      <td>Tenant turnover</td>\n",
       "      <td>0.048</td>\n",
       "    </tr>\n",
       "    <tr>\n",
       "      <th>9</th>\n",
       "      <td>Loan Balance</td>\n",
       "      <td>0.047</td>\n",
       "    </tr>\n",
       "    <tr>\n",
       "      <th>10</th>\n",
       "      <td>Net operating income</td>\n",
       "      <td>0.047</td>\n",
       "    </tr>\n",
       "    <tr>\n",
       "      <th>11</th>\n",
       "      <td>Interest rate</td>\n",
       "      <td>0.040</td>\n",
       "    </tr>\n",
       "    <tr>\n",
       "      <th>12</th>\n",
       "      <td>Property type_Retail space</td>\n",
       "      <td>0.038</td>\n",
       "    </tr>\n",
       "    <tr>\n",
       "      <th>13</th>\n",
       "      <td>Property type_Office building</td>\n",
       "      <td>0.034</td>\n",
       "    </tr>\n",
       "    <tr>\n",
       "      <th>14</th>\n",
       "      <td>Property type_Multifamily residential</td>\n",
       "      <td>0.025</td>\n",
       "    </tr>\n",
       "  </tbody>\n",
       "</table>\n",
       "</div>"
      ],
      "text/plain": [
       "                                  Feature  Importance\n",
       "0                         Internal rating       0.254\n",
       "1                        LoanToValueRatio       0.117\n",
       "2                               DebtYield       0.065\n",
       "3                           Original term       0.061\n",
       "4                          Property value       0.059\n",
       "5                      Months to maturity       0.056\n",
       "6                    Year of construction       0.055\n",
       "7                 Interest coverage ratio       0.053\n",
       "8                         Tenant turnover       0.048\n",
       "9                            Loan Balance       0.047\n",
       "10                   Net operating income       0.047\n",
       "11                          Interest rate       0.040\n",
       "12             Property type_Retail space       0.038\n",
       "13          Property type_Office building       0.034\n",
       "14  Property type_Multifamily residential       0.025"
      ]
     },
     "execution_count": 33,
     "metadata": {},
     "output_type": "execute_result"
    }
   ],
   "source": [
    "# Plot feature importances from final XGBoost model\n",
    "importanceXGBdf = featureImportancesXGB.reset_index()\n",
    "importanceXGBdf.columns = ['Feature', 'Importance']\n",
    "importanceXGBdf['Importance'] = np.round(importanceXGBdf['Importance'], 3)\n",
    "\n",
    "fig = px.bar(importanceXGBdf.head(10), x='Feature', y='Importance',\n",
    "             title='Top 10 Feature Importances from Optimized XGB Classifier Model')\n",
    "fig.update_layout(xaxis_tickangle=-45)\n",
    "fig.show()\n",
    "importanceXGBdf"
   ]
  },
  {
   "cell_type": "markdown",
   "metadata": {},
   "source": [
    "### Conclusions\n",
    "- `XGBoost's Gradient Boosting Classifier` with tuned parameters achieves the highest AUC on the test set.\n",
    "- `LTV Ratio`, & `Debt Yield` the highest importance predictors for the optimized XGB classifier outside of internal rating"
   ]
  },
  {
   "cell_type": "markdown",
   "metadata": {},
   "source": []
  }
 ],
 "metadata": {
  "kernelspec": {
   "display_name": "Python 3",
   "language": "python",
   "name": "python3"
  },
  "language_info": {
   "codemirror_mode": {
    "name": "ipython",
    "version": 3
   },
   "file_extension": ".py",
   "mimetype": "text/x-python",
   "name": "python",
   "nbconvert_exporter": "python",
   "pygments_lexer": "ipython3",
   "version": "3.9.6"
  }
 },
 "nbformat": 4,
 "nbformat_minor": 2
}
